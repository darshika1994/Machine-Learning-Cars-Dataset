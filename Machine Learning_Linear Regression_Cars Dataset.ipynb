{
 "cells": [
  {
   "cell_type": "markdown",
   "metadata": {},
   "source": [
    "## 1. Importing the required libraries"
   ]
  },
  {
   "cell_type": "code",
   "execution_count": 150,
   "metadata": {},
   "outputs": [],
   "source": [
    "import numpy as np\n",
    "import pandas as pd\n",
    "import matplotlib.pyplot as plt\n",
    "%matplotlib inline\n",
    "import seaborn as sns"
   ]
  },
  {
   "cell_type": "code",
   "execution_count": 151,
   "metadata": {},
   "outputs": [
    {
     "data": {
      "text/html": [
       "<div>\n",
       "<style scoped>\n",
       "    .dataframe tbody tr th:only-of-type {\n",
       "        vertical-align: middle;\n",
       "    }\n",
       "\n",
       "    .dataframe tbody tr th {\n",
       "        vertical-align: top;\n",
       "    }\n",
       "\n",
       "    .dataframe thead th {\n",
       "        text-align: right;\n",
       "    }\n",
       "</style>\n",
       "<table border=\"1\" class=\"dataframe\">\n",
       "  <thead>\n",
       "    <tr style=\"text-align: right;\">\n",
       "      <th></th>\n",
       "      <th>price</th>\n",
       "      <th>name</th>\n",
       "      <th>yearOfRegistration</th>\n",
       "      <th>monthOfRegistration</th>\n",
       "      <th>gearbox</th>\n",
       "      <th>powerPS</th>\n",
       "      <th>model</th>\n",
       "      <th>kilometer</th>\n",
       "      <th>fuelType</th>\n",
       "      <th>brand</th>\n",
       "      <th>vehicleType</th>\n",
       "    </tr>\n",
       "  </thead>\n",
       "  <tbody>\n",
       "    <tr>\n",
       "      <th>0</th>\n",
       "      <td>400</td>\n",
       "      <td>Ford_Escort</td>\n",
       "      <td>1992</td>\n",
       "      <td>8</td>\n",
       "      <td>manuell</td>\n",
       "      <td>89</td>\n",
       "      <td>escort</td>\n",
       "      <td>60000</td>\n",
       "      <td>benzin</td>\n",
       "      <td>ford</td>\n",
       "      <td>kombi</td>\n",
       "    </tr>\n",
       "    <tr>\n",
       "      <th>1</th>\n",
       "      <td>3500</td>\n",
       "      <td>Bmw_320_cabrio</td>\n",
       "      <td>1996</td>\n",
       "      <td>0</td>\n",
       "      <td>manuell</td>\n",
       "      <td>150</td>\n",
       "      <td>3er</td>\n",
       "      <td>125000</td>\n",
       "      <td>NaN</td>\n",
       "      <td>bmw</td>\n",
       "      <td>cabrio</td>\n",
       "    </tr>\n",
       "    <tr>\n",
       "      <th>2</th>\n",
       "      <td>2200</td>\n",
       "      <td>Mercedes_C_230_T_im_top_Zustand_Tuev_Neu!!_Win...</td>\n",
       "      <td>1998</td>\n",
       "      <td>0</td>\n",
       "      <td>manuell</td>\n",
       "      <td>150</td>\n",
       "      <td>c_klasse</td>\n",
       "      <td>150000</td>\n",
       "      <td>benzin</td>\n",
       "      <td>mercedes_benz</td>\n",
       "      <td>kombi</td>\n",
       "    </tr>\n",
       "    <tr>\n",
       "      <th>3</th>\n",
       "      <td>4000</td>\n",
       "      <td>A3_Limousine</td>\n",
       "      <td>2006</td>\n",
       "      <td>7</td>\n",
       "      <td>manuell</td>\n",
       "      <td>0</td>\n",
       "      <td>a3</td>\n",
       "      <td>150000</td>\n",
       "      <td>diesel</td>\n",
       "      <td>audi</td>\n",
       "      <td>limousine</td>\n",
       "    </tr>\n",
       "    <tr>\n",
       "      <th>4</th>\n",
       "      <td>2600</td>\n",
       "      <td>Smart_Smart_cabrio_450_cdi</td>\n",
       "      <td>2002</td>\n",
       "      <td>7</td>\n",
       "      <td>automatik</td>\n",
       "      <td>41</td>\n",
       "      <td>fortwo</td>\n",
       "      <td>150000</td>\n",
       "      <td>diesel</td>\n",
       "      <td>smart</td>\n",
       "      <td>cabrio</td>\n",
       "    </tr>\n",
       "  </tbody>\n",
       "</table>\n",
       "</div>"
      ],
      "text/plain": [
       "   price                                               name  \\\n",
       "0    400                                        Ford_Escort   \n",
       "1   3500                                     Bmw_320_cabrio   \n",
       "2   2200  Mercedes_C_230_T_im_top_Zustand_Tuev_Neu!!_Win...   \n",
       "3   4000                                       A3_Limousine   \n",
       "4   2600                         Smart_Smart_cabrio_450_cdi   \n",
       "\n",
       "   yearOfRegistration  monthOfRegistration    gearbox  powerPS     model  \\\n",
       "0                1992                    8    manuell       89    escort   \n",
       "1                1996                    0    manuell      150       3er   \n",
       "2                1998                    0    manuell      150  c_klasse   \n",
       "3                2006                    7    manuell        0        a3   \n",
       "4                2002                    7  automatik       41    fortwo   \n",
       "\n",
       "   kilometer fuelType          brand vehicleType  \n",
       "0      60000   benzin           ford       kombi  \n",
       "1     125000      NaN            bmw      cabrio  \n",
       "2     150000   benzin  mercedes_benz       kombi  \n",
       "3     150000   diesel           audi   limousine  \n",
       "4     150000   diesel          smart      cabrio  "
      ]
     },
     "execution_count": 151,
     "metadata": {},
     "output_type": "execute_result"
    }
   ],
   "source": [
    "cars = pd.read_csv(r\"C:\\Users\\sanjay\\Desktop\\Analytics Vidya\\Python\\MACHINE LEARNING\\autos_small.csv\")\n",
    "cars.head(5)"
   ]
  },
  {
   "cell_type": "code",
   "execution_count": 152,
   "metadata": {},
   "outputs": [
    {
     "data": {
      "text/plain": [
       "<matplotlib.axes._subplots.AxesSubplot at 0x22d5c4aff08>"
      ]
     },
     "execution_count": 152,
     "metadata": {},
     "output_type": "execute_result"
    },
    {
     "data": {
      "image/png": "[encoded data removed]",
      "text/plain": [
       "<Figure size 432x288 with 2 Axes>"
      ]
     },
     "metadata": {
      "needs_background": "light"
     },
     "output_type": "display_data"
    }
   ],
   "source": [
    "#heatmap works for continuous variable only\n",
    "sns.heatmap(cars.corr(),cmap= 'coolwarm',annot=True,linewidths=3, linecolor='black') "
   ]
  },
  {
   "cell_type": "markdown",
   "metadata": {},
   "source": [
    "## 2. Data Preprocessing and Exploratory data analysis"
   ]
  },
  {
   "cell_type": "code",
   "execution_count": 3,
   "metadata": {},
   "outputs": [
    {
     "data": {
      "text/plain": [
       "(9985, 11)"
      ]
     },
     "execution_count": 3,
     "metadata": {},
     "output_type": "execute_result"
    }
   ],
   "source": [
    "#Drop Duplicates(if any)\n",
    "cars = cars.drop_duplicates()\n",
    "cars.shape"
   ]
  },
  {
   "cell_type": "code",
   "execution_count": 4,
   "metadata": {},
   "outputs": [
    {
     "name": "stdout",
     "output_type": "stream",
     "text": [
      "4\n"
     ]
    }
   ],
   "source": [
    "## 1. Analyze Missing value\n",
    "feature_nan = [feature for feature in cars.columns if cars[feature].isnull().sum()>0]\n",
    "print(len(feature_nan)) #seeing missing value of both conti+categ features (complete cars dataset)\n",
    "# cars[feature_nan] "
   ]
  },
  {
   "cell_type": "code",
   "execution_count": 5,
   "metadata": {},
   "outputs": [
    {
     "data": {
      "image/png": "[encoded data removed]",
      "text/plain": [
       "<Figure size 432x288 with 1 Axes>"
      ]
     },
     "metadata": {
      "needs_background": "light"
     },
     "output_type": "display_data"
    },
    {
     "data": {
      "image/png": "[encoded data removed]",
      "text/plain": [
       "<Figure size 432x288 with 1 Axes>"
      ]
     },
     "metadata": {
      "needs_background": "light"
     },
     "output_type": "display_data"
    },
    {
     "data": {
      "image/png": "[encoded data removed]",
      "text/plain": [
       "<Figure size 432x288 with 1 Axes>"
      ]
     },
     "metadata": {
      "needs_background": "light"
     },
     "output_type": "display_data"
    },
    {
     "data": {
      "image/png": "[encoded data removed]",
      "text/plain": [
       "<Figure size 432x288 with 1 Axes>"
      ]
     },
     "metadata": {
      "needs_background": "light"
     },
     "output_type": "display_data"
    }
   ],
   "source": [
    "for feature in feature_nan: #since there are many missing value, so lets c if they have any relation with price\n",
    "    cars_missing = cars.copy()\n",
    "    cars_missing[feature] = np.where(cars_missing[feature].isnull(),1,0)\n",
    "    cars_missing.groupby(feature)['price'].median().plot.bar()\n",
    "    plt.title(feature)\n",
    "    plt.show()"
   ]
  },
  {
   "cell_type": "code",
   "execution_count": 6,
   "metadata": {},
   "outputs": [
    {
     "name": "stdout",
     "output_type": "stream",
     "text": [
      "5\n"
     ]
    }
   ],
   "source": [
    "## 2. Work with missing values in continuous variables & impute it\n",
    "conti_feature = [feature for feature in cars.columns if cars[feature].dtypes != 'O']\n",
    "print(len(conti_feature))"
   ]
  },
  {
   "cell_type": "code",
   "execution_count": 7,
   "metadata": {},
   "outputs": [
    {
     "name": "stdout",
     "output_type": "stream",
     "text": [
      "no. of continuous feature with missing value 0\n",
      "no of missing value in that continuous feature is Series([], dtype: float64)\n"
     ]
    }
   ],
   "source": [
    "conti_feature_nan = [feature for feature in conti_feature if cars[feature].isnull().sum()>0]\n",
    "print('no. of continuous feature with missing value',len(conti_feature_nan))\n",
    "print('no of missing value in that continuous feature is {}'.format(cars[conti_feature_nan].isnull().sum()))"
   ]
  },
  {
   "cell_type": "code",
   "execution_count": 8,
   "metadata": {},
   "outputs": [
    {
     "name": "stdout",
     "output_type": "stream",
     "text": [
      "6\n"
     ]
    }
   ],
   "source": [
    "## 3. Work with missing values in categorical variables & impute it\n",
    "cate_feature = [feature for feature in cars.columns if (cars[feature].dtypes == 'O')]\n",
    "print(len(cate_feature))"
   ]
  },
  {
   "cell_type": "code",
   "execution_count": 9,
   "metadata": {},
   "outputs": [
    {
     "name": "stdout",
     "output_type": "stream",
     "text": [
      "no. of categorical feature with missing value 4\n",
      "no of missing value in that categorical feature is gearbox         577\n",
      "model           566\n",
      "fuelType        943\n",
      "vehicleType    1050\n",
      "dtype: int64\n"
     ]
    }
   ],
   "source": [
    "cate_feature_nan = [feature for feature in cate_feature if cars[feature].isnull().sum()>0]\n",
    "print('no. of categorical feature with missing value',len(cate_feature_nan))\n",
    "print('no of missing value in that categorical feature is {}'.format(cars[cate_feature_nan].isnull().sum()))"
   ]
  },
  {
   "cell_type": "code",
   "execution_count": 10,
   "metadata": {},
   "outputs": [
    {
     "data": {
      "text/html": [
       "<div>\n",
       "<style scoped>\n",
       "    .dataframe tbody tr th:only-of-type {\n",
       "        vertical-align: middle;\n",
       "    }\n",
       "\n",
       "    .dataframe tbody tr th {\n",
       "        vertical-align: top;\n",
       "    }\n",
       "\n",
       "    .dataframe thead th {\n",
       "        text-align: right;\n",
       "    }\n",
       "</style>\n",
       "<table border=\"1\" class=\"dataframe\">\n",
       "  <thead>\n",
       "    <tr style=\"text-align: right;\">\n",
       "      <th></th>\n",
       "      <th>gearbox</th>\n",
       "      <th>model</th>\n",
       "      <th>fuelType</th>\n",
       "      <th>vehicleType</th>\n",
       "    </tr>\n",
       "  </thead>\n",
       "  <tbody>\n",
       "    <tr>\n",
       "      <th>0</th>\n",
       "      <td>manuell</td>\n",
       "      <td>escort</td>\n",
       "      <td>benzin</td>\n",
       "      <td>kombi</td>\n",
       "    </tr>\n",
       "    <tr>\n",
       "      <th>1</th>\n",
       "      <td>manuell</td>\n",
       "      <td>3er</td>\n",
       "      <td>Missing</td>\n",
       "      <td>cabrio</td>\n",
       "    </tr>\n",
       "    <tr>\n",
       "      <th>2</th>\n",
       "      <td>manuell</td>\n",
       "      <td>c_klasse</td>\n",
       "      <td>benzin</td>\n",
       "      <td>kombi</td>\n",
       "    </tr>\n",
       "    <tr>\n",
       "      <th>3</th>\n",
       "      <td>manuell</td>\n",
       "      <td>a3</td>\n",
       "      <td>diesel</td>\n",
       "      <td>limousine</td>\n",
       "    </tr>\n",
       "    <tr>\n",
       "      <th>4</th>\n",
       "      <td>automatik</td>\n",
       "      <td>fortwo</td>\n",
       "      <td>diesel</td>\n",
       "      <td>cabrio</td>\n",
       "    </tr>\n",
       "    <tr>\n",
       "      <th>5</th>\n",
       "      <td>manuell</td>\n",
       "      <td>3er</td>\n",
       "      <td>benzin</td>\n",
       "      <td>limousine</td>\n",
       "    </tr>\n",
       "    <tr>\n",
       "      <th>6</th>\n",
       "      <td>manuell</td>\n",
       "      <td>yaris</td>\n",
       "      <td>benzin</td>\n",
       "      <td>kleinwagen</td>\n",
       "    </tr>\n",
       "    <tr>\n",
       "      <th>7</th>\n",
       "      <td>manuell</td>\n",
       "      <td>a4</td>\n",
       "      <td>diesel</td>\n",
       "      <td>kombi</td>\n",
       "    </tr>\n",
       "    <tr>\n",
       "      <th>8</th>\n",
       "      <td>manuell</td>\n",
       "      <td>golf</td>\n",
       "      <td>benzin</td>\n",
       "      <td>kleinwagen</td>\n",
       "    </tr>\n",
       "    <tr>\n",
       "      <th>9</th>\n",
       "      <td>manuell</td>\n",
       "      <td>transporter</td>\n",
       "      <td>diesel</td>\n",
       "      <td>bus</td>\n",
       "    </tr>\n",
       "    <tr>\n",
       "      <th>10</th>\n",
       "      <td>manuell</td>\n",
       "      <td>slk</td>\n",
       "      <td>benzin</td>\n",
       "      <td>cabrio</td>\n",
       "    </tr>\n",
       "    <tr>\n",
       "      <th>11</th>\n",
       "      <td>automatik</td>\n",
       "      <td>andere</td>\n",
       "      <td>benzin</td>\n",
       "      <td>coupe</td>\n",
       "    </tr>\n",
       "    <tr>\n",
       "      <th>12</th>\n",
       "      <td>manuell</td>\n",
       "      <td>golf</td>\n",
       "      <td>benzin</td>\n",
       "      <td>limousine</td>\n",
       "    </tr>\n",
       "    <tr>\n",
       "      <th>13</th>\n",
       "      <td>manuell</td>\n",
       "      <td>Missing</td>\n",
       "      <td>Missing</td>\n",
       "      <td>kleinwagen</td>\n",
       "    </tr>\n",
       "    <tr>\n",
       "      <th>14</th>\n",
       "      <td>manuell</td>\n",
       "      <td>zafira</td>\n",
       "      <td>diesel</td>\n",
       "      <td>bus</td>\n",
       "    </tr>\n",
       "    <tr>\n",
       "      <th>15</th>\n",
       "      <td>automatik</td>\n",
       "      <td>Missing</td>\n",
       "      <td>benzin</td>\n",
       "      <td>coupe</td>\n",
       "    </tr>\n",
       "    <tr>\n",
       "      <th>16</th>\n",
       "      <td>manuell</td>\n",
       "      <td>corsa</td>\n",
       "      <td>benzin</td>\n",
       "      <td>kleinwagen</td>\n",
       "    </tr>\n",
       "    <tr>\n",
       "      <th>17</th>\n",
       "      <td>automatik</td>\n",
       "      <td>golf</td>\n",
       "      <td>benzin</td>\n",
       "      <td>limousine</td>\n",
       "    </tr>\n",
       "    <tr>\n",
       "      <th>18</th>\n",
       "      <td>manuell</td>\n",
       "      <td>twingo</td>\n",
       "      <td>benzin</td>\n",
       "      <td>Missing</td>\n",
       "    </tr>\n",
       "    <tr>\n",
       "      <th>19</th>\n",
       "      <td>manuell</td>\n",
       "      <td>corsa</td>\n",
       "      <td>Missing</td>\n",
       "      <td>Missing</td>\n",
       "    </tr>\n",
       "    <tr>\n",
       "      <th>20</th>\n",
       "      <td>manuell</td>\n",
       "      <td>arosa</td>\n",
       "      <td>benzin</td>\n",
       "      <td>kleinwagen</td>\n",
       "    </tr>\n",
       "    <tr>\n",
       "      <th>21</th>\n",
       "      <td>automatik</td>\n",
       "      <td>passat</td>\n",
       "      <td>diesel</td>\n",
       "      <td>kombi</td>\n",
       "    </tr>\n",
       "    <tr>\n",
       "      <th>22</th>\n",
       "      <td>Missing</td>\n",
       "      <td>mx_reihe</td>\n",
       "      <td>Missing</td>\n",
       "      <td>limousine</td>\n",
       "    </tr>\n",
       "    <tr>\n",
       "      <th>23</th>\n",
       "      <td>manuell</td>\n",
       "      <td>corsa</td>\n",
       "      <td>benzin</td>\n",
       "      <td>kleinwagen</td>\n",
       "    </tr>\n",
       "    <tr>\n",
       "      <th>24</th>\n",
       "      <td>manuell</td>\n",
       "      <td>2_reihe</td>\n",
       "      <td>benzin</td>\n",
       "      <td>limousine</td>\n",
       "    </tr>\n",
       "    <tr>\n",
       "      <th>25</th>\n",
       "      <td>manuell</td>\n",
       "      <td>rav</td>\n",
       "      <td>benzin</td>\n",
       "      <td>suv</td>\n",
       "    </tr>\n",
       "    <tr>\n",
       "      <th>26</th>\n",
       "      <td>automatik</td>\n",
       "      <td>mondeo</td>\n",
       "      <td>diesel</td>\n",
       "      <td>kombi</td>\n",
       "    </tr>\n",
       "    <tr>\n",
       "      <th>27</th>\n",
       "      <td>manuell</td>\n",
       "      <td>andere</td>\n",
       "      <td>benzin</td>\n",
       "      <td>suv</td>\n",
       "    </tr>\n",
       "    <tr>\n",
       "      <th>28</th>\n",
       "      <td>manuell</td>\n",
       "      <td>golf</td>\n",
       "      <td>diesel</td>\n",
       "      <td>limousine</td>\n",
       "    </tr>\n",
       "    <tr>\n",
       "      <th>29</th>\n",
       "      <td>manuell</td>\n",
       "      <td>a4</td>\n",
       "      <td>benzin</td>\n",
       "      <td>limousine</td>\n",
       "    </tr>\n",
       "    <tr>\n",
       "      <th>30</th>\n",
       "      <td>automatik</td>\n",
       "      <td>x_reihe</td>\n",
       "      <td>diesel</td>\n",
       "      <td>suv</td>\n",
       "    </tr>\n",
       "    <tr>\n",
       "      <th>31</th>\n",
       "      <td>manuell</td>\n",
       "      <td>golf</td>\n",
       "      <td>benzin</td>\n",
       "      <td>kleinwagen</td>\n",
       "    </tr>\n",
       "    <tr>\n",
       "      <th>32</th>\n",
       "      <td>manuell</td>\n",
       "      <td>kalos</td>\n",
       "      <td>benzin</td>\n",
       "      <td>kleinwagen</td>\n",
       "    </tr>\n",
       "    <tr>\n",
       "      <th>33</th>\n",
       "      <td>manuell</td>\n",
       "      <td>corsa</td>\n",
       "      <td>benzin</td>\n",
       "      <td>kleinwagen</td>\n",
       "    </tr>\n",
       "    <tr>\n",
       "      <th>34</th>\n",
       "      <td>manuell</td>\n",
       "      <td>a2</td>\n",
       "      <td>benzin</td>\n",
       "      <td>kleinwagen</td>\n",
       "    </tr>\n",
       "    <tr>\n",
       "      <th>35</th>\n",
       "      <td>manuell</td>\n",
       "      <td>a4</td>\n",
       "      <td>diesel</td>\n",
       "      <td>kombi</td>\n",
       "    </tr>\n",
       "    <tr>\n",
       "      <th>36</th>\n",
       "      <td>manuell</td>\n",
       "      <td>a4</td>\n",
       "      <td>diesel</td>\n",
       "      <td>andere</td>\n",
       "    </tr>\n",
       "    <tr>\n",
       "      <th>37</th>\n",
       "      <td>manuell</td>\n",
       "      <td>twingo</td>\n",
       "      <td>benzin</td>\n",
       "      <td>Missing</td>\n",
       "    </tr>\n",
       "    <tr>\n",
       "      <th>38</th>\n",
       "      <td>automatik</td>\n",
       "      <td>andere</td>\n",
       "      <td>diesel</td>\n",
       "      <td>suv</td>\n",
       "    </tr>\n",
       "    <tr>\n",
       "      <th>39</th>\n",
       "      <td>automatik</td>\n",
       "      <td>twingo</td>\n",
       "      <td>benzin</td>\n",
       "      <td>kleinwagen</td>\n",
       "    </tr>\n",
       "    <tr>\n",
       "      <th>40</th>\n",
       "      <td>manuell</td>\n",
       "      <td>ka</td>\n",
       "      <td>benzin</td>\n",
       "      <td>kleinwagen</td>\n",
       "    </tr>\n",
       "    <tr>\n",
       "      <th>41</th>\n",
       "      <td>manuell</td>\n",
       "      <td>Missing</td>\n",
       "      <td>Missing</td>\n",
       "      <td>kombi</td>\n",
       "    </tr>\n",
       "    <tr>\n",
       "      <th>42</th>\n",
       "      <td>manuell</td>\n",
       "      <td>corsa</td>\n",
       "      <td>benzin</td>\n",
       "      <td>kleinwagen</td>\n",
       "    </tr>\n",
       "    <tr>\n",
       "      <th>43</th>\n",
       "      <td>manuell</td>\n",
       "      <td>fiesta</td>\n",
       "      <td>benzin</td>\n",
       "      <td>kleinwagen</td>\n",
       "    </tr>\n",
       "    <tr>\n",
       "      <th>44</th>\n",
       "      <td>manuell</td>\n",
       "      <td>2_reihe</td>\n",
       "      <td>benzin</td>\n",
       "      <td>kleinwagen</td>\n",
       "    </tr>\n",
       "    <tr>\n",
       "      <th>45</th>\n",
       "      <td>automatik</td>\n",
       "      <td>911</td>\n",
       "      <td>benzin</td>\n",
       "      <td>cabrio</td>\n",
       "    </tr>\n",
       "    <tr>\n",
       "      <th>46</th>\n",
       "      <td>manuell</td>\n",
       "      <td>5er</td>\n",
       "      <td>benzin</td>\n",
       "      <td>limousine</td>\n",
       "    </tr>\n",
       "    <tr>\n",
       "      <th>47</th>\n",
       "      <td>manuell</td>\n",
       "      <td>Missing</td>\n",
       "      <td>Missing</td>\n",
       "      <td>Missing</td>\n",
       "    </tr>\n",
       "    <tr>\n",
       "      <th>48</th>\n",
       "      <td>automatik</td>\n",
       "      <td>x_reihe</td>\n",
       "      <td>diesel</td>\n",
       "      <td>suv</td>\n",
       "    </tr>\n",
       "    <tr>\n",
       "      <th>49</th>\n",
       "      <td>manuell</td>\n",
       "      <td>3er</td>\n",
       "      <td>lpg</td>\n",
       "      <td>Missing</td>\n",
       "    </tr>\n",
       "  </tbody>\n",
       "</table>\n",
       "</div>"
      ],
      "text/plain": [
       "      gearbox        model fuelType vehicleType\n",
       "0     manuell       escort   benzin       kombi\n",
       "1     manuell          3er  Missing      cabrio\n",
       "2     manuell     c_klasse   benzin       kombi\n",
       "3     manuell           a3   diesel   limousine\n",
       "4   automatik       fortwo   diesel      cabrio\n",
       "5     manuell          3er   benzin   limousine\n",
       "6     manuell        yaris   benzin  kleinwagen\n",
       "7     manuell           a4   diesel       kombi\n",
       "8     manuell         golf   benzin  kleinwagen\n",
       "9     manuell  transporter   diesel         bus\n",
       "10    manuell          slk   benzin      cabrio\n",
       "11  automatik       andere   benzin       coupe\n",
       "12    manuell         golf   benzin   limousine\n",
       "13    manuell      Missing  Missing  kleinwagen\n",
       "14    manuell       zafira   diesel         bus\n",
       "15  automatik      Missing   benzin       coupe\n",
       "16    manuell        corsa   benzin  kleinwagen\n",
       "17  automatik         golf   benzin   limousine\n",
       "18    manuell       twingo   benzin     Missing\n",
       "19    manuell        corsa  Missing     Missing\n",
       "20    manuell        arosa   benzin  kleinwagen\n",
       "21  automatik       passat   diesel       kombi\n",
       "22    Missing     mx_reihe  Missing   limousine\n",
       "23    manuell        corsa   benzin  kleinwagen\n",
       "24    manuell      2_reihe   benzin   limousine\n",
       "25    manuell          rav   benzin         suv\n",
       "26  automatik       mondeo   diesel       kombi\n",
       "27    manuell       andere   benzin         suv\n",
       "28    manuell         golf   diesel   limousine\n",
       "29    manuell           a4   benzin   limousine\n",
       "30  automatik      x_reihe   diesel         suv\n",
       "31    manuell         golf   benzin  kleinwagen\n",
       "32    manuell        kalos   benzin  kleinwagen\n",
       "33    manuell        corsa   benzin  kleinwagen\n",
       "34    manuell           a2   benzin  kleinwagen\n",
       "35    manuell           a4   diesel       kombi\n",
       "36    manuell           a4   diesel      andere\n",
       "37    manuell       twingo   benzin     Missing\n",
       "38  automatik       andere   diesel         suv\n",
       "39  automatik       twingo   benzin  kleinwagen\n",
       "40    manuell           ka   benzin  kleinwagen\n",
       "41    manuell      Missing  Missing       kombi\n",
       "42    manuell        corsa   benzin  kleinwagen\n",
       "43    manuell       fiesta   benzin  kleinwagen\n",
       "44    manuell      2_reihe   benzin  kleinwagen\n",
       "45  automatik          911   benzin      cabrio\n",
       "46    manuell          5er   benzin   limousine\n",
       "47    manuell      Missing  Missing     Missing\n",
       "48  automatik      x_reihe   diesel         suv\n",
       "49    manuell          3er      lpg     Missing"
      ]
     },
     "execution_count": 10,
     "metadata": {},
     "output_type": "execute_result"
    }
   ],
   "source": [
    "for feature in cate_feature_nan: #just filled all missing cate. variable with term as 'Missing'\n",
    "    cars[feature] = cars[feature].fillna('Missing')\n",
    "cars[cate_feature_nan].head(50)"
   ]
  },
  {
   "cell_type": "code",
   "execution_count": 11,
   "metadata": {},
   "outputs": [
    {
     "data": {
      "text/plain": [
       "gearbox        0\n",
       "model          0\n",
       "fuelType       0\n",
       "vehicleType    0\n",
       "dtype: int64"
      ]
     },
     "execution_count": 11,
     "metadata": {},
     "output_type": "execute_result"
    }
   ],
   "source": [
    "cars[cate_feature_nan].isnull().sum()"
   ]
  },
  {
   "cell_type": "code",
   "execution_count": 12,
   "metadata": {},
   "outputs": [
    {
     "data": {
      "image/png": "[encoded data removed]",
      "text/plain": [
       "<Figure size 432x288 with 1 Axes>"
      ]
     },
     "metadata": {
      "needs_background": "light"
     },
     "output_type": "display_data"
    },
    {
     "data": {
      "image/png": "[encoded data removed]",
      "text/plain": [
       "<Figure size 432x288 with 1 Axes>"
      ]
     },
     "metadata": {
      "needs_background": "light"
     },
     "output_type": "display_data"
    },
    {
     "data": {
      "image/png": "[encoded data removed]",
      "text/plain": [
       "<Figure size 432x288 with 1 Axes>"
      ]
     },
     "metadata": {
      "needs_background": "light"
     },
     "output_type": "display_data"
    },
    {
     "data": {
      "image/png": "[encoded data removed]",
      "text/plain": [
       "<Figure size 432x288 with 1 Axes>"
      ]
     },
     "metadata": {
      "needs_background": "light"
     },
     "output_type": "display_data"
    },
    {
     "data": {
      "image/png": "[encoded data removed]",
      "text/plain": [
       "<Figure size 432x288 with 1 Axes>"
      ]
     },
     "metadata": {
      "needs_background": "light"
     },
     "output_type": "display_data"
    }
   ],
   "source": [
    "for feature in conti_feature:  #analyzed the conti variable by creating histograms to understand there distribution\n",
    "    cars[feature].hist(bins = 25)  \n",
    "    plt.xlabel(feature)\n",
    "    plt.ylabel('count')\n",
    "    plt.title(feature)\n",
    "    plt.show()"
   ]
  },
  {
   "cell_type": "code",
   "execution_count": 13,
   "metadata": {},
   "outputs": [
    {
     "data": {
      "text/plain": [
       "['price', 'yearOfRegistration', 'monthOfRegistration', 'powerPS', 'kilometer']"
      ]
     },
     "execution_count": 13,
     "metadata": {},
     "output_type": "execute_result"
    }
   ],
   "source": [
    "conti_feature"
   ]
  },
  {
   "cell_type": "code",
   "execution_count": 14,
   "metadata": {},
   "outputs": [
    {
     "data": {
      "image/png": "[encoded data removed]",
      "text/plain": [
       "<Figure size 432x288 with 1 Axes>"
      ]
     },
     "metadata": {
      "needs_background": "light"
     },
     "output_type": "display_data"
    },
    {
     "data": {
      "image/png": "[encoded data removed]",
      "text/plain": [
       "<Figure size 432x288 with 1 Axes>"
      ]
     },
     "metadata": {
      "needs_background": "light"
     },
     "output_type": "display_data"
    }
   ],
   "source": [
    "for feature in conti_feature:        #using logarithmeic transformation on conti feature \n",
    "    cars_log = cars.copy()\n",
    "    if 0 in cars_log[feature].unique():\n",
    "        pass\n",
    "    else:\n",
    "        cars_log[feature] = np.log(cars_log[feature]).hist()\n",
    "        plt.xlabel(feature)\n",
    "        plt.ylabel('price')\n",
    "        plt.title(feature)\n",
    "        plt.show()"
   ]
  },
  {
   "cell_type": "code",
   "execution_count": 15,
   "metadata": {},
   "outputs": [
    {
     "data": {
      "text/html": [
       "<div>\n",
       "<style scoped>\n",
       "    .dataframe tbody tr th:only-of-type {\n",
       "        vertical-align: middle;\n",
       "    }\n",
       "\n",
       "    .dataframe tbody tr th {\n",
       "        vertical-align: top;\n",
       "    }\n",
       "\n",
       "    .dataframe thead th {\n",
       "        text-align: right;\n",
       "    }\n",
       "</style>\n",
       "<table border=\"1\" class=\"dataframe\">\n",
       "  <thead>\n",
       "    <tr style=\"text-align: right;\">\n",
       "      <th></th>\n",
       "      <th>price</th>\n",
       "      <th>name</th>\n",
       "      <th>yearOfRegistration</th>\n",
       "      <th>monthOfRegistration</th>\n",
       "      <th>gearbox</th>\n",
       "      <th>powerPS</th>\n",
       "      <th>model</th>\n",
       "      <th>kilometer</th>\n",
       "      <th>fuelType</th>\n",
       "      <th>brand</th>\n",
       "      <th>vehicleType</th>\n",
       "    </tr>\n",
       "  </thead>\n",
       "  <tbody>\n",
       "    <tr>\n",
       "      <th>0</th>\n",
       "      <td>400</td>\n",
       "      <td>Ford_Escort</td>\n",
       "      <td>1992</td>\n",
       "      <td>8</td>\n",
       "      <td>manuell</td>\n",
       "      <td>89</td>\n",
       "      <td>escort</td>\n",
       "      <td>AxesSubplot(0.125,0.125;0.775x0.755)</td>\n",
       "      <td>benzin</td>\n",
       "      <td>ford</td>\n",
       "      <td>kombi</td>\n",
       "    </tr>\n",
       "    <tr>\n",
       "      <th>1</th>\n",
       "      <td>3500</td>\n",
       "      <td>Bmw_320_cabrio</td>\n",
       "      <td>1996</td>\n",
       "      <td>0</td>\n",
       "      <td>manuell</td>\n",
       "      <td>150</td>\n",
       "      <td>3er</td>\n",
       "      <td>AxesSubplot(0.125,0.125;0.775x0.755)</td>\n",
       "      <td>Missing</td>\n",
       "      <td>bmw</td>\n",
       "      <td>cabrio</td>\n",
       "    </tr>\n",
       "    <tr>\n",
       "      <th>2</th>\n",
       "      <td>2200</td>\n",
       "      <td>Mercedes_C_230_T_im_top_Zustand_Tuev_Neu!!_Win...</td>\n",
       "      <td>1998</td>\n",
       "      <td>0</td>\n",
       "      <td>manuell</td>\n",
       "      <td>150</td>\n",
       "      <td>c_klasse</td>\n",
       "      <td>AxesSubplot(0.125,0.125;0.775x0.755)</td>\n",
       "      <td>benzin</td>\n",
       "      <td>mercedes_benz</td>\n",
       "      <td>kombi</td>\n",
       "    </tr>\n",
       "    <tr>\n",
       "      <th>3</th>\n",
       "      <td>4000</td>\n",
       "      <td>A3_Limousine</td>\n",
       "      <td>2006</td>\n",
       "      <td>7</td>\n",
       "      <td>manuell</td>\n",
       "      <td>0</td>\n",
       "      <td>a3</td>\n",
       "      <td>AxesSubplot(0.125,0.125;0.775x0.755)</td>\n",
       "      <td>diesel</td>\n",
       "      <td>audi</td>\n",
       "      <td>limousine</td>\n",
       "    </tr>\n",
       "    <tr>\n",
       "      <th>4</th>\n",
       "      <td>2600</td>\n",
       "      <td>Smart_Smart_cabrio_450_cdi</td>\n",
       "      <td>2002</td>\n",
       "      <td>7</td>\n",
       "      <td>automatik</td>\n",
       "      <td>41</td>\n",
       "      <td>fortwo</td>\n",
       "      <td>AxesSubplot(0.125,0.125;0.775x0.755)</td>\n",
       "      <td>diesel</td>\n",
       "      <td>smart</td>\n",
       "      <td>cabrio</td>\n",
       "    </tr>\n",
       "  </tbody>\n",
       "</table>\n",
       "</div>"
      ],
      "text/plain": [
       "   price                                               name  \\\n",
       "0    400                                        Ford_Escort   \n",
       "1   3500                                     Bmw_320_cabrio   \n",
       "2   2200  Mercedes_C_230_T_im_top_Zustand_Tuev_Neu!!_Win...   \n",
       "3   4000                                       A3_Limousine   \n",
       "4   2600                         Smart_Smart_cabrio_450_cdi   \n",
       "\n",
       "   yearOfRegistration  monthOfRegistration    gearbox  powerPS     model  \\\n",
       "0                1992                    8    manuell       89    escort   \n",
       "1                1996                    0    manuell      150       3er   \n",
       "2                1998                    0    manuell      150  c_klasse   \n",
       "3                2006                    7    manuell        0        a3   \n",
       "4                2002                    7  automatik       41    fortwo   \n",
       "\n",
       "                              kilometer fuelType          brand vehicleType  \n",
       "0  AxesSubplot(0.125,0.125;0.775x0.755)   benzin           ford       kombi  \n",
       "1  AxesSubplot(0.125,0.125;0.775x0.755)  Missing            bmw      cabrio  \n",
       "2  AxesSubplot(0.125,0.125;0.775x0.755)   benzin  mercedes_benz       kombi  \n",
       "3  AxesSubplot(0.125,0.125;0.775x0.755)   diesel           audi   limousine  \n",
       "4  AxesSubplot(0.125,0.125;0.775x0.755)   diesel          smart      cabrio  "
      ]
     },
     "execution_count": 15,
     "metadata": {},
     "output_type": "execute_result"
    }
   ],
   "source": [
    "cars_log.head(5)"
   ]
  },
  {
   "cell_type": "code",
   "execution_count": 16,
   "metadata": {},
   "outputs": [
    {
     "data": {
      "image/png": "[encoded data removed]",
      "text/plain": [
       "<Figure size 432x288 with 1 Axes>"
      ]
     },
     "metadata": {
      "needs_background": "light"
     },
     "output_type": "display_data"
    },
    {
     "data": {
      "image/png": "[encoded data removed]",
      "text/plain": [
       "<Figure size 432x288 with 1 Axes>"
      ]
     },
     "metadata": {
      "needs_background": "light"
     },
     "output_type": "display_data"
    },
    {
     "data": {
      "image/png": "[encoded data removed]",
      "text/plain": [
       "<Figure size 432x288 with 1 Axes>"
      ]
     },
     "metadata": {
      "needs_background": "light"
     },
     "output_type": "display_data"
    },
    {
     "data": {
      "image/png": "[encoded data removed]",
      "text/plain": [
       "<Figure size 432x288 with 1 Axes>"
      ]
     },
     "metadata": {
      "needs_background": "light"
     },
     "output_type": "display_data"
    },
    {
     "data": {
      "image/png": "[encoded data removed]",
      "text/plain": [
       "<Figure size 432x288 with 1 Axes>"
      ]
     },
     "metadata": {
      "needs_background": "light"
     },
     "output_type": "display_data"
    }
   ],
   "source": [
    "for feature in conti_feature:  \n",
    "    cars_sqrt = cars.copy()\n",
    "    cars_sqrt[feature] = np.sqrt(cars_sqrt[feature]).hist()\n",
    "    plt.xlabel(feature)\n",
    "    plt.ylabel('price')\n",
    "    plt.title(feature)\n",
    "    plt.show()"
   ]
  },
  {
   "cell_type": "code",
   "execution_count": 17,
   "metadata": {},
   "outputs": [
    {
     "data": {
      "text/html": [
       "<div>\n",
       "<style scoped>\n",
       "    .dataframe tbody tr th:only-of-type {\n",
       "        vertical-align: middle;\n",
       "    }\n",
       "\n",
       "    .dataframe tbody tr th {\n",
       "        vertical-align: top;\n",
       "    }\n",
       "\n",
       "    .dataframe thead th {\n",
       "        text-align: right;\n",
       "    }\n",
       "</style>\n",
       "<table border=\"1\" class=\"dataframe\">\n",
       "  <thead>\n",
       "    <tr style=\"text-align: right;\">\n",
       "      <th></th>\n",
       "      <th>price</th>\n",
       "      <th>name</th>\n",
       "      <th>yearOfRegistration</th>\n",
       "      <th>monthOfRegistration</th>\n",
       "      <th>gearbox</th>\n",
       "      <th>powerPS</th>\n",
       "      <th>model</th>\n",
       "      <th>kilometer</th>\n",
       "      <th>fuelType</th>\n",
       "      <th>brand</th>\n",
       "      <th>vehicleType</th>\n",
       "    </tr>\n",
       "  </thead>\n",
       "  <tbody>\n",
       "    <tr>\n",
       "      <th>0</th>\n",
       "      <td>400</td>\n",
       "      <td>Ford_Escort</td>\n",
       "      <td>1992</td>\n",
       "      <td>8</td>\n",
       "      <td>manuell</td>\n",
       "      <td>89</td>\n",
       "      <td>escort</td>\n",
       "      <td>AxesSubplot(0.125,0.125;0.775x0.755)</td>\n",
       "      <td>benzin</td>\n",
       "      <td>ford</td>\n",
       "      <td>kombi</td>\n",
       "    </tr>\n",
       "    <tr>\n",
       "      <th>1</th>\n",
       "      <td>3500</td>\n",
       "      <td>Bmw_320_cabrio</td>\n",
       "      <td>1996</td>\n",
       "      <td>0</td>\n",
       "      <td>manuell</td>\n",
       "      <td>150</td>\n",
       "      <td>3er</td>\n",
       "      <td>AxesSubplot(0.125,0.125;0.775x0.755)</td>\n",
       "      <td>Missing</td>\n",
       "      <td>bmw</td>\n",
       "      <td>cabrio</td>\n",
       "    </tr>\n",
       "    <tr>\n",
       "      <th>2</th>\n",
       "      <td>2200</td>\n",
       "      <td>Mercedes_C_230_T_im_top_Zustand_Tuev_Neu!!_Win...</td>\n",
       "      <td>1998</td>\n",
       "      <td>0</td>\n",
       "      <td>manuell</td>\n",
       "      <td>150</td>\n",
       "      <td>c_klasse</td>\n",
       "      <td>AxesSubplot(0.125,0.125;0.775x0.755)</td>\n",
       "      <td>benzin</td>\n",
       "      <td>mercedes_benz</td>\n",
       "      <td>kombi</td>\n",
       "    </tr>\n",
       "    <tr>\n",
       "      <th>3</th>\n",
       "      <td>4000</td>\n",
       "      <td>A3_Limousine</td>\n",
       "      <td>2006</td>\n",
       "      <td>7</td>\n",
       "      <td>manuell</td>\n",
       "      <td>0</td>\n",
       "      <td>a3</td>\n",
       "      <td>AxesSubplot(0.125,0.125;0.775x0.755)</td>\n",
       "      <td>diesel</td>\n",
       "      <td>audi</td>\n",
       "      <td>limousine</td>\n",
       "    </tr>\n",
       "    <tr>\n",
       "      <th>4</th>\n",
       "      <td>2600</td>\n",
       "      <td>Smart_Smart_cabrio_450_cdi</td>\n",
       "      <td>2002</td>\n",
       "      <td>7</td>\n",
       "      <td>automatik</td>\n",
       "      <td>41</td>\n",
       "      <td>fortwo</td>\n",
       "      <td>AxesSubplot(0.125,0.125;0.775x0.755)</td>\n",
       "      <td>diesel</td>\n",
       "      <td>smart</td>\n",
       "      <td>cabrio</td>\n",
       "    </tr>\n",
       "  </tbody>\n",
       "</table>\n",
       "</div>"
      ],
      "text/plain": [
       "   price                                               name  \\\n",
       "0    400                                        Ford_Escort   \n",
       "1   3500                                     Bmw_320_cabrio   \n",
       "2   2200  Mercedes_C_230_T_im_top_Zustand_Tuev_Neu!!_Win...   \n",
       "3   4000                                       A3_Limousine   \n",
       "4   2600                         Smart_Smart_cabrio_450_cdi   \n",
       "\n",
       "   yearOfRegistration  monthOfRegistration    gearbox  powerPS     model  \\\n",
       "0                1992                    8    manuell       89    escort   \n",
       "1                1996                    0    manuell      150       3er   \n",
       "2                1998                    0    manuell      150  c_klasse   \n",
       "3                2006                    7    manuell        0        a3   \n",
       "4                2002                    7  automatik       41    fortwo   \n",
       "\n",
       "                              kilometer fuelType          brand vehicleType  \n",
       "0  AxesSubplot(0.125,0.125;0.775x0.755)   benzin           ford       kombi  \n",
       "1  AxesSubplot(0.125,0.125;0.775x0.755)  Missing            bmw      cabrio  \n",
       "2  AxesSubplot(0.125,0.125;0.775x0.755)   benzin  mercedes_benz       kombi  \n",
       "3  AxesSubplot(0.125,0.125;0.775x0.755)   diesel           audi   limousine  \n",
       "4  AxesSubplot(0.125,0.125;0.775x0.755)   diesel          smart      cabrio  "
      ]
     },
     "execution_count": 17,
     "metadata": {},
     "output_type": "execute_result"
    }
   ],
   "source": [
    "cars_sqrt.head()"
   ]
  },
  {
   "cell_type": "code",
   "execution_count": 18,
   "metadata": {},
   "outputs": [
    {
     "data": {
      "image/png": "[encoded data removed]",
      "text/plain": [
       "<Figure size 432x288 with 1 Axes>"
      ]
     },
     "metadata": {
      "needs_background": "light"
     },
     "output_type": "display_data"
    },
    {
     "data": {
      "image/png": "[encoded data removed]",
      "text/plain": [
       "<Figure size 432x288 with 1 Axes>"
      ]
     },
     "metadata": {
      "needs_background": "light"
     },
     "output_type": "display_data"
    },
    {
     "data": {
      "image/png": "[encoded data removed]",
      "text/plain": [
       "<Figure size 432x288 with 1 Axes>"
      ]
     },
     "metadata": {
      "needs_background": "light"
     },
     "output_type": "display_data"
    },
    {
     "data": {
      "image/png": "[encoded data removed]",
      "text/plain": [
       "<Figure size 432x288 with 1 Axes>"
      ]
     },
     "metadata": {
      "needs_background": "light"
     },
     "output_type": "display_data"
    },
    {
     "data": {
      "image/png": "[encoded data removed]",
      "text/plain": [
       "<Figure size 432x288 with 1 Axes>"
      ]
     },
     "metadata": {
      "needs_background": "light"
     },
     "output_type": "display_data"
    }
   ],
   "source": [
    "for feature in conti_feature:  \n",
    "    cars_cube = cars.copy()\n",
    "    cars_cube[feature] = np.power(cars_cube[feature],1/3).hist()\n",
    "    plt.xlabel(feature)\n",
    "    plt.ylabel('price')\n",
    "    plt.title(feature)\n",
    "    plt.show()"
   ]
  },
  {
   "cell_type": "code",
   "execution_count": 19,
   "metadata": {},
   "outputs": [
    {
     "data": {
      "image/png": "[encoded data removed]",
      "text/plain": [
       "<Figure size 432x288 with 1 Axes>"
      ]
     },
     "metadata": {
      "needs_background": "light"
     },
     "output_type": "display_data"
    },
    {
     "data": {
      "image/png": "[encoded data removed]",
      "text/plain": [
       "<Figure size 432x288 with 1 Axes>"
      ]
     },
     "metadata": {
      "needs_background": "light"
     },
     "output_type": "display_data"
    },
    {
     "data": {
      "image/png": "[encoded data removed]",
      "text/plain": [
       "<Figure size 432x288 with 1 Axes>"
      ]
     },
     "metadata": {
      "needs_background": "light"
     },
     "output_type": "display_data"
    },
    {
     "data": {
      "image/png": "[encoded data removed]",
      "text/plain": [
       "<Figure size 432x288 with 1 Axes>"
      ]
     },
     "metadata": {
      "needs_background": "light"
     },
     "output_type": "display_data"
    },
    {
     "data": {
      "image/png": "[encoded data removed]",
      "text/plain": [
       "<Figure size 432x288 with 1 Axes>"
      ]
     },
     "metadata": {
      "needs_background": "light"
     },
     "output_type": "display_data"
    }
   ],
   "source": [
    "for feature in conti_feature:        #we have selected sqrt root transformation as our variable transformation \n",
    "    cars_cube = cars.copy()                  #since it gives more symmetric results\n",
    "    cars_cube[feature] = np.power(cars_cube[feature],1/3)\n",
    "    cars_cube['price'] = np.power(cars_cube['price'],1/3)\n",
    "    plt.scatter(cars_cube[feature],cars_cube['price'])\n",
    "    plt.xlabel(feature)\n",
    "    plt.ylabel('price')\n",
    "    plt.title(feature)\n",
    "    plt.show()"
   ]
  },
  {
   "cell_type": "code",
   "execution_count": 20,
   "metadata": {},
   "outputs": [
    {
     "data": {
      "text/html": [
       "<div>\n",
       "<style scoped>\n",
       "    .dataframe tbody tr th:only-of-type {\n",
       "        vertical-align: middle;\n",
       "    }\n",
       "\n",
       "    .dataframe tbody tr th {\n",
       "        vertical-align: top;\n",
       "    }\n",
       "\n",
       "    .dataframe thead th {\n",
       "        text-align: right;\n",
       "    }\n",
       "</style>\n",
       "<table border=\"1\" class=\"dataframe\">\n",
       "  <thead>\n",
       "    <tr style=\"text-align: right;\">\n",
       "      <th></th>\n",
       "      <th>price</th>\n",
       "      <th>name</th>\n",
       "      <th>yearOfRegistration</th>\n",
       "      <th>monthOfRegistration</th>\n",
       "      <th>gearbox</th>\n",
       "      <th>powerPS</th>\n",
       "      <th>model</th>\n",
       "      <th>kilometer</th>\n",
       "      <th>fuelType</th>\n",
       "      <th>brand</th>\n",
       "      <th>vehicleType</th>\n",
       "    </tr>\n",
       "  </thead>\n",
       "  <tbody>\n",
       "    <tr>\n",
       "      <th>0</th>\n",
       "      <td>400</td>\n",
       "      <td>Ford_Escort</td>\n",
       "      <td>1992</td>\n",
       "      <td>8</td>\n",
       "      <td>manuell</td>\n",
       "      <td>89</td>\n",
       "      <td>escort</td>\n",
       "      <td>60000</td>\n",
       "      <td>benzin</td>\n",
       "      <td>ford</td>\n",
       "      <td>kombi</td>\n",
       "    </tr>\n",
       "    <tr>\n",
       "      <th>1</th>\n",
       "      <td>3500</td>\n",
       "      <td>Bmw_320_cabrio</td>\n",
       "      <td>1996</td>\n",
       "      <td>0</td>\n",
       "      <td>manuell</td>\n",
       "      <td>150</td>\n",
       "      <td>3er</td>\n",
       "      <td>125000</td>\n",
       "      <td>Missing</td>\n",
       "      <td>bmw</td>\n",
       "      <td>cabrio</td>\n",
       "    </tr>\n",
       "    <tr>\n",
       "      <th>2</th>\n",
       "      <td>2200</td>\n",
       "      <td>Mercedes_C_230_T_im_top_Zustand_Tuev_Neu!!_Win...</td>\n",
       "      <td>1998</td>\n",
       "      <td>0</td>\n",
       "      <td>manuell</td>\n",
       "      <td>150</td>\n",
       "      <td>c_klasse</td>\n",
       "      <td>150000</td>\n",
       "      <td>benzin</td>\n",
       "      <td>mercedes_benz</td>\n",
       "      <td>kombi</td>\n",
       "    </tr>\n",
       "    <tr>\n",
       "      <th>3</th>\n",
       "      <td>4000</td>\n",
       "      <td>A3_Limousine</td>\n",
       "      <td>2006</td>\n",
       "      <td>7</td>\n",
       "      <td>manuell</td>\n",
       "      <td>0</td>\n",
       "      <td>a3</td>\n",
       "      <td>150000</td>\n",
       "      <td>diesel</td>\n",
       "      <td>audi</td>\n",
       "      <td>limousine</td>\n",
       "    </tr>\n",
       "    <tr>\n",
       "      <th>4</th>\n",
       "      <td>2600</td>\n",
       "      <td>Smart_Smart_cabrio_450_cdi</td>\n",
       "      <td>2002</td>\n",
       "      <td>7</td>\n",
       "      <td>automatik</td>\n",
       "      <td>41</td>\n",
       "      <td>fortwo</td>\n",
       "      <td>150000</td>\n",
       "      <td>diesel</td>\n",
       "      <td>smart</td>\n",
       "      <td>cabrio</td>\n",
       "    </tr>\n",
       "  </tbody>\n",
       "</table>\n",
       "</div>"
      ],
      "text/plain": [
       "   price                                               name  \\\n",
       "0    400                                        Ford_Escort   \n",
       "1   3500                                     Bmw_320_cabrio   \n",
       "2   2200  Mercedes_C_230_T_im_top_Zustand_Tuev_Neu!!_Win...   \n",
       "3   4000                                       A3_Limousine   \n",
       "4   2600                         Smart_Smart_cabrio_450_cdi   \n",
       "\n",
       "   yearOfRegistration  monthOfRegistration    gearbox  powerPS     model  \\\n",
       "0                1992                    8    manuell       89    escort   \n",
       "1                1996                    0    manuell      150       3er   \n",
       "2                1998                    0    manuell      150  c_klasse   \n",
       "3                2006                    7    manuell        0        a3   \n",
       "4                2002                    7  automatik       41    fortwo   \n",
       "\n",
       "   kilometer fuelType          brand vehicleType  \n",
       "0      60000   benzin           ford       kombi  \n",
       "1     125000  Missing            bmw      cabrio  \n",
       "2     150000   benzin  mercedes_benz       kombi  \n",
       "3     150000   diesel           audi   limousine  \n",
       "4     150000   diesel          smart      cabrio  "
      ]
     },
     "execution_count": 20,
     "metadata": {},
     "output_type": "execute_result"
    }
   ],
   "source": [
    "cars.head()"
   ]
  },
  {
   "cell_type": "code",
   "execution_count": 21,
   "metadata": {},
   "outputs": [
    {
     "data": {
      "text/html": [
       "<div>\n",
       "<style scoped>\n",
       "    .dataframe tbody tr th:only-of-type {\n",
       "        vertical-align: middle;\n",
       "    }\n",
       "\n",
       "    .dataframe tbody tr th {\n",
       "        vertical-align: top;\n",
       "    }\n",
       "\n",
       "    .dataframe thead th {\n",
       "        text-align: right;\n",
       "    }\n",
       "</style>\n",
       "<table border=\"1\" class=\"dataframe\">\n",
       "  <thead>\n",
       "    <tr style=\"text-align: right;\">\n",
       "      <th></th>\n",
       "      <th>price</th>\n",
       "      <th>name</th>\n",
       "      <th>yearOfRegistration</th>\n",
       "      <th>monthOfRegistration</th>\n",
       "      <th>gearbox</th>\n",
       "      <th>powerPS</th>\n",
       "      <th>model</th>\n",
       "      <th>kilometer</th>\n",
       "      <th>fuelType</th>\n",
       "      <th>brand</th>\n",
       "      <th>vehicleType</th>\n",
       "    </tr>\n",
       "  </thead>\n",
       "  <tbody>\n",
       "    <tr>\n",
       "      <th>0</th>\n",
       "      <td>7.368063</td>\n",
       "      <td>Ford_Escort</td>\n",
       "      <td>1992</td>\n",
       "      <td>8</td>\n",
       "      <td>manuell</td>\n",
       "      <td>89</td>\n",
       "      <td>escort</td>\n",
       "      <td>39.148676</td>\n",
       "      <td>benzin</td>\n",
       "      <td>ford</td>\n",
       "      <td>kombi</td>\n",
       "    </tr>\n",
       "    <tr>\n",
       "      <th>1</th>\n",
       "      <td>15.182945</td>\n",
       "      <td>Bmw_320_cabrio</td>\n",
       "      <td>1996</td>\n",
       "      <td>0</td>\n",
       "      <td>manuell</td>\n",
       "      <td>150</td>\n",
       "      <td>3er</td>\n",
       "      <td>50.000000</td>\n",
       "      <td>Missing</td>\n",
       "      <td>bmw</td>\n",
       "      <td>cabrio</td>\n",
       "    </tr>\n",
       "    <tr>\n",
       "      <th>2</th>\n",
       "      <td>13.005914</td>\n",
       "      <td>Mercedes_C_230_T_im_top_Zustand_Tuev_Neu!!_Win...</td>\n",
       "      <td>1998</td>\n",
       "      <td>0</td>\n",
       "      <td>manuell</td>\n",
       "      <td>150</td>\n",
       "      <td>c_klasse</td>\n",
       "      <td>53.132928</td>\n",
       "      <td>benzin</td>\n",
       "      <td>mercedes_benz</td>\n",
       "      <td>kombi</td>\n",
       "    </tr>\n",
       "    <tr>\n",
       "      <th>3</th>\n",
       "      <td>15.874011</td>\n",
       "      <td>A3_Limousine</td>\n",
       "      <td>2006</td>\n",
       "      <td>7</td>\n",
       "      <td>manuell</td>\n",
       "      <td>0</td>\n",
       "      <td>a3</td>\n",
       "      <td>53.132928</td>\n",
       "      <td>diesel</td>\n",
       "      <td>audi</td>\n",
       "      <td>limousine</td>\n",
       "    </tr>\n",
       "    <tr>\n",
       "      <th>4</th>\n",
       "      <td>13.750689</td>\n",
       "      <td>Smart_Smart_cabrio_450_cdi</td>\n",
       "      <td>2002</td>\n",
       "      <td>7</td>\n",
       "      <td>automatik</td>\n",
       "      <td>41</td>\n",
       "      <td>fortwo</td>\n",
       "      <td>53.132928</td>\n",
       "      <td>diesel</td>\n",
       "      <td>smart</td>\n",
       "      <td>cabrio</td>\n",
       "    </tr>\n",
       "  </tbody>\n",
       "</table>\n",
       "</div>"
      ],
      "text/plain": [
       "       price                                               name  \\\n",
       "0   7.368063                                        Ford_Escort   \n",
       "1  15.182945                                     Bmw_320_cabrio   \n",
       "2  13.005914  Mercedes_C_230_T_im_top_Zustand_Tuev_Neu!!_Win...   \n",
       "3  15.874011                                       A3_Limousine   \n",
       "4  13.750689                         Smart_Smart_cabrio_450_cdi   \n",
       "\n",
       "   yearOfRegistration  monthOfRegistration    gearbox  powerPS     model  \\\n",
       "0                1992                    8    manuell       89    escort   \n",
       "1                1996                    0    manuell      150       3er   \n",
       "2                1998                    0    manuell      150  c_klasse   \n",
       "3                2006                    7    manuell        0        a3   \n",
       "4                2002                    7  automatik       41    fortwo   \n",
       "\n",
       "   kilometer fuelType          brand vehicleType  \n",
       "0  39.148676   benzin           ford       kombi  \n",
       "1  50.000000  Missing            bmw      cabrio  \n",
       "2  53.132928   benzin  mercedes_benz       kombi  \n",
       "3  53.132928   diesel           audi   limousine  \n",
       "4  53.132928   diesel          smart      cabrio  "
      ]
     },
     "execution_count": 21,
     "metadata": {},
     "output_type": "execute_result"
    }
   ],
   "source": [
    "cars_cube.head() #this is the new dataset which we will adopt #####################"
   ]
  },
  {
   "cell_type": "code",
   "execution_count": 22,
   "metadata": {},
   "outputs": [
    {
     "data": {
      "text/plain": [
       "<matplotlib.axes._subplots.AxesSubplot at 0x22d50d2d848>"
      ]
     },
     "execution_count": 22,
     "metadata": {},
     "output_type": "execute_result"
    },
    {
     "data": {
      "image/png": "[encoded data removed]",
      "text/plain": [
       "<Figure size 432x288 with 1 Axes>"
      ]
     },
     "metadata": {
      "needs_background": "light"
     },
     "output_type": "display_data"
    }
   ],
   "source": [
    "cars_cube['price'].plot.box(grid=True)"
   ]
  },
  {
   "cell_type": "code",
   "execution_count": 23,
   "metadata": {},
   "outputs": [],
   "source": [
    "cars_cube = cars_cube[cars_cube['price']<32]"
   ]
  },
  {
   "cell_type": "code",
   "execution_count": 24,
   "metadata": {},
   "outputs": [
    {
     "data": {
      "text/plain": [
       "<matplotlib.axes._subplots.AxesSubplot at 0x22d51262748>"
      ]
     },
     "execution_count": 24,
     "metadata": {},
     "output_type": "execute_result"
    },
    {
     "data": {
      "image/png": "[encoded data removed]",
      "text/plain": [
       "<Figure size 432x288 with 1 Axes>"
      ]
     },
     "metadata": {
      "needs_background": "light"
     },
     "output_type": "display_data"
    }
   ],
   "source": [
    "cars_cube['price'].plot.box(grid=True)"
   ]
  },
  {
   "cell_type": "code",
   "execution_count": 25,
   "metadata": {},
   "outputs": [
    {
     "data": {
      "text/plain": [
       "<matplotlib.axes._subplots.AxesSubplot at 0x22d51241488>"
      ]
     },
     "execution_count": 25,
     "metadata": {},
     "output_type": "execute_result"
    },
    {
     "data": {
      "image/png": "[encoded data removed]",
      "text/plain": [
       "<Figure size 432x288 with 1 Axes>"
      ]
     },
     "metadata": {
      "needs_background": "light"
     },
     "output_type": "display_data"
    }
   ],
   "source": [
    "cars_cube['yearOfRegistration'].plot.box(grid=True)"
   ]
  },
  {
   "cell_type": "code",
   "execution_count": 26,
   "metadata": {},
   "outputs": [],
   "source": [
    "cars_cube = cars_cube[cars_cube['yearOfRegistration']<4000]"
   ]
  },
  {
   "cell_type": "code",
   "execution_count": 27,
   "metadata": {},
   "outputs": [
    {
     "data": {
      "text/plain": [
       "<matplotlib.axes._subplots.AxesSubplot at 0x22d50d95108>"
      ]
     },
     "execution_count": 27,
     "metadata": {},
     "output_type": "execute_result"
    },
    {
     "data": {
      "image/png": "[encoded data removed]",
      "text/plain": [
       "<Figure size 432x288 with 1 Axes>"
      ]
     },
     "metadata": {
      "needs_background": "light"
     },
     "output_type": "display_data"
    }
   ],
   "source": [
    "cars_cube['yearOfRegistration'].plot.box(grid=True)"
   ]
  },
  {
   "cell_type": "code",
   "execution_count": 28,
   "metadata": {},
   "outputs": [],
   "source": [
    "cars_cube = cars_cube[cars_cube['yearOfRegistration']>1985]"
   ]
  },
  {
   "cell_type": "code",
   "execution_count": 29,
   "metadata": {},
   "outputs": [
    {
     "data": {
      "text/plain": [
       "<matplotlib.axes._subplots.AxesSubplot at 0x22d50e99cc8>"
      ]
     },
     "execution_count": 29,
     "metadata": {},
     "output_type": "execute_result"
    },
    {
     "data": {
      "image/png": "[encoded data removed]",
      "text/plain": [
       "<Figure size 432x288 with 1 Axes>"
      ]
     },
     "metadata": {
      "needs_background": "light"
     },
     "output_type": "display_data"
    }
   ],
   "source": [
    "cars_cube['yearOfRegistration'].plot.box(grid=True)"
   ]
  },
  {
   "cell_type": "code",
   "execution_count": 30,
   "metadata": {},
   "outputs": [
    {
     "data": {
      "text/plain": [
       "(9681, 11)"
      ]
     },
     "execution_count": 30,
     "metadata": {},
     "output_type": "execute_result"
    }
   ],
   "source": [
    "cars_cube.shape"
   ]
  },
  {
   "cell_type": "code",
   "execution_count": 31,
   "metadata": {},
   "outputs": [
    {
     "data": {
      "text/plain": [
       "<matplotlib.axes._subplots.AxesSubplot at 0x22d52354208>"
      ]
     },
     "execution_count": 31,
     "metadata": {},
     "output_type": "execute_result"
    },
    {
     "data": {
      "image/png": "[encoded data removed]",
      "text/plain": [
       "<Figure size 432x288 with 1 Axes>"
      ]
     },
     "metadata": {
      "needs_background": "light"
     },
     "output_type": "display_data"
    }
   ],
   "source": [
    "cars_cube['monthOfRegistration'].plot.box(grid=True)"
   ]
  },
  {
   "cell_type": "code",
   "execution_count": 32,
   "metadata": {},
   "outputs": [
    {
     "data": {
      "text/plain": [
       "<matplotlib.axes._subplots.AxesSubplot at 0x22d50feb688>"
      ]
     },
     "execution_count": 32,
     "metadata": {},
     "output_type": "execute_result"
    },
    {
     "data": {
      "image/png": "[encoded data removed]",
      "text/plain": [
       "<Figure size 432x288 with 1 Axes>"
      ]
     },
     "metadata": {
      "needs_background": "light"
     },
     "output_type": "display_data"
    }
   ],
   "source": [
    "cars_cube['powerPS'].plot.box(grid=True)"
   ]
  },
  {
   "cell_type": "code",
   "execution_count": 33,
   "metadata": {},
   "outputs": [],
   "source": [
    "cars_cube = cars_cube[cars_cube['powerPS']<245]"
   ]
  },
  {
   "cell_type": "code",
   "execution_count": 34,
   "metadata": {},
   "outputs": [
    {
     "data": {
      "text/plain": [
       "<matplotlib.axes._subplots.AxesSubplot at 0x22d50dcdf88>"
      ]
     },
     "execution_count": 34,
     "metadata": {},
     "output_type": "execute_result"
    },
    {
     "data": {
      "image/png": "[encoded data removed]",
      "text/plain": [
       "<Figure size 432x288 with 1 Axes>"
      ]
     },
     "metadata": {
      "needs_background": "light"
     },
     "output_type": "display_data"
    }
   ],
   "source": [
    "cars_cube['powerPS'].plot.box(grid=True)"
   ]
  },
  {
   "cell_type": "code",
   "execution_count": 35,
   "metadata": {},
   "outputs": [
    {
     "data": {
      "text/html": [
       "<div>\n",
       "<style scoped>\n",
       "    .dataframe tbody tr th:only-of-type {\n",
       "        vertical-align: middle;\n",
       "    }\n",
       "\n",
       "    .dataframe tbody tr th {\n",
       "        vertical-align: top;\n",
       "    }\n",
       "\n",
       "    .dataframe thead th {\n",
       "        text-align: right;\n",
       "    }\n",
       "</style>\n",
       "<table border=\"1\" class=\"dataframe\">\n",
       "  <thead>\n",
       "    <tr style=\"text-align: right;\">\n",
       "      <th></th>\n",
       "      <th>price</th>\n",
       "      <th>name</th>\n",
       "      <th>yearOfRegistration</th>\n",
       "      <th>monthOfRegistration</th>\n",
       "      <th>gearbox</th>\n",
       "      <th>powerPS</th>\n",
       "      <th>model</th>\n",
       "      <th>kilometer</th>\n",
       "      <th>fuelType</th>\n",
       "      <th>brand</th>\n",
       "      <th>vehicleType</th>\n",
       "    </tr>\n",
       "  </thead>\n",
       "  <tbody>\n",
       "    <tr>\n",
       "      <th>0</th>\n",
       "      <td>7.368063</td>\n",
       "      <td>Ford_Escort</td>\n",
       "      <td>1992</td>\n",
       "      <td>8</td>\n",
       "      <td>manuell</td>\n",
       "      <td>89</td>\n",
       "      <td>escort</td>\n",
       "      <td>39.148676</td>\n",
       "      <td>benzin</td>\n",
       "      <td>ford</td>\n",
       "      <td>kombi</td>\n",
       "    </tr>\n",
       "    <tr>\n",
       "      <th>1</th>\n",
       "      <td>15.182945</td>\n",
       "      <td>Bmw_320_cabrio</td>\n",
       "      <td>1996</td>\n",
       "      <td>0</td>\n",
       "      <td>manuell</td>\n",
       "      <td>150</td>\n",
       "      <td>3er</td>\n",
       "      <td>50.000000</td>\n",
       "      <td>Missing</td>\n",
       "      <td>bmw</td>\n",
       "      <td>cabrio</td>\n",
       "    </tr>\n",
       "    <tr>\n",
       "      <th>2</th>\n",
       "      <td>13.005914</td>\n",
       "      <td>Mercedes_C_230_T_im_top_Zustand_Tuev_Neu!!_Win...</td>\n",
       "      <td>1998</td>\n",
       "      <td>0</td>\n",
       "      <td>manuell</td>\n",
       "      <td>150</td>\n",
       "      <td>c_klasse</td>\n",
       "      <td>53.132928</td>\n",
       "      <td>benzin</td>\n",
       "      <td>mercedes_benz</td>\n",
       "      <td>kombi</td>\n",
       "    </tr>\n",
       "    <tr>\n",
       "      <th>3</th>\n",
       "      <td>15.874011</td>\n",
       "      <td>A3_Limousine</td>\n",
       "      <td>2006</td>\n",
       "      <td>7</td>\n",
       "      <td>manuell</td>\n",
       "      <td>0</td>\n",
       "      <td>a3</td>\n",
       "      <td>53.132928</td>\n",
       "      <td>diesel</td>\n",
       "      <td>audi</td>\n",
       "      <td>limousine</td>\n",
       "    </tr>\n",
       "    <tr>\n",
       "      <th>4</th>\n",
       "      <td>13.750689</td>\n",
       "      <td>Smart_Smart_cabrio_450_cdi</td>\n",
       "      <td>2002</td>\n",
       "      <td>7</td>\n",
       "      <td>automatik</td>\n",
       "      <td>41</td>\n",
       "      <td>fortwo</td>\n",
       "      <td>53.132928</td>\n",
       "      <td>diesel</td>\n",
       "      <td>smart</td>\n",
       "      <td>cabrio</td>\n",
       "    </tr>\n",
       "  </tbody>\n",
       "</table>\n",
       "</div>"
      ],
      "text/plain": [
       "       price                                               name  \\\n",
       "0   7.368063                                        Ford_Escort   \n",
       "1  15.182945                                     Bmw_320_cabrio   \n",
       "2  13.005914  Mercedes_C_230_T_im_top_Zustand_Tuev_Neu!!_Win...   \n",
       "3  15.874011                                       A3_Limousine   \n",
       "4  13.750689                         Smart_Smart_cabrio_450_cdi   \n",
       "\n",
       "   yearOfRegistration  monthOfRegistration    gearbox  powerPS     model  \\\n",
       "0                1992                    8    manuell       89    escort   \n",
       "1                1996                    0    manuell      150       3er   \n",
       "2                1998                    0    manuell      150  c_klasse   \n",
       "3                2006                    7    manuell        0        a3   \n",
       "4                2002                    7  automatik       41    fortwo   \n",
       "\n",
       "   kilometer fuelType          brand vehicleType  \n",
       "0  39.148676   benzin           ford       kombi  \n",
       "1  50.000000  Missing            bmw      cabrio  \n",
       "2  53.132928   benzin  mercedes_benz       kombi  \n",
       "3  53.132928   diesel           audi   limousine  \n",
       "4  53.132928   diesel          smart      cabrio  "
      ]
     },
     "execution_count": 35,
     "metadata": {},
     "output_type": "execute_result"
    }
   ],
   "source": [
    "cars_cube.head()"
   ]
  },
  {
   "cell_type": "code",
   "execution_count": 36,
   "metadata": {},
   "outputs": [
    {
     "data": {
      "text/plain": [
       "(9348, 11)"
      ]
     },
     "execution_count": 36,
     "metadata": {},
     "output_type": "execute_result"
    }
   ],
   "source": [
    "cars_cube.shape"
   ]
  },
  {
   "cell_type": "code",
   "execution_count": 37,
   "metadata": {},
   "outputs": [
    {
     "data": {
      "text/plain": [
       "<matplotlib.axes._subplots.AxesSubplot at 0x22d50d74d88>"
      ]
     },
     "execution_count": 37,
     "metadata": {},
     "output_type": "execute_result"
    },
    {
     "data": {
      "image/png": "[encoded data removed]",
      "text/plain": [
       "<Figure size 432x288 with 1 Axes>"
      ]
     },
     "metadata": {
      "needs_background": "light"
     },
     "output_type": "display_data"
    }
   ],
   "source": [
    "cars_cube['kilometer'].plot.box(grid=True)"
   ]
  },
  {
   "cell_type": "code",
   "execution_count": 38,
   "metadata": {},
   "outputs": [],
   "source": [
    "cars_cube = cars_cube[cars_cube['kilometer']>40]"
   ]
  },
  {
   "cell_type": "code",
   "execution_count": 39,
   "metadata": {},
   "outputs": [
    {
     "data": {
      "text/plain": [
       "<matplotlib.axes._subplots.AxesSubplot at 0x22d50cf75c8>"
      ]
     },
     "execution_count": 39,
     "metadata": {},
     "output_type": "execute_result"
    },
    {
     "data": {
      "image/png": "[encoded data removed]",
      "text/plain": [
       "<Figure size 432x288 with 1 Axes>"
      ]
     },
     "metadata": {
      "needs_background": "light"
     },
     "output_type": "display_data"
    }
   ],
   "source": [
    "cars_cube['kilometer'].plot.box(grid=True)"
   ]
  },
  {
   "cell_type": "code",
   "execution_count": 40,
   "metadata": {},
   "outputs": [
    {
     "data": {
      "text/plain": [
       "3.1329284591305537"
      ]
     },
     "execution_count": 40,
     "metadata": {},
     "output_type": "execute_result"
    }
   ],
   "source": [
    "#### Lets compute the Interquantile range to calculate the boundaries\n",
    "IQR=cars_cube['kilometer'].quantile(0.75)-cars_cube['kilometer'].quantile(0.25)\n",
    "IQR"
   ]
  },
  {
   "cell_type": "code",
   "execution_count": 41,
   "metadata": {},
   "outputs": [
    {
     "name": "stdout",
     "output_type": "stream",
     "text": [
      "40.601214622608325\n",
      "62.5317138365222\n"
     ]
    },
    {
     "data": {
      "text/plain": [
       "(None, None)"
      ]
     },
     "execution_count": 41,
     "metadata": {},
     "output_type": "execute_result"
    }
   ],
   "source": [
    "#### Extreme outliers\n",
    "lower_bridge=cars_cube['kilometer'].quantile(0.25)-(IQR*3)\n",
    "upper_bridge=cars_cube['kilometer'].quantile(0.75)+(IQR*3)\n",
    "print(lower_bridge), print(upper_bridge)"
   ]
  },
  {
   "cell_type": "code",
   "execution_count": 42,
   "metadata": {},
   "outputs": [],
   "source": [
    "cars_cube = cars_cube[cars_cube['kilometer']<62.53]"
   ]
  },
  {
   "cell_type": "code",
   "execution_count": 43,
   "metadata": {},
   "outputs": [
    {
     "data": {
      "text/plain": [
       "<matplotlib.axes._subplots.AxesSubplot at 0x22d51066dc8>"
      ]
     },
     "execution_count": 43,
     "metadata": {},
     "output_type": "execute_result"
    },
    {
     "data": {
      "image/png": "[encoded data removed]",
      "text/plain": [
       "<Figure size 432x288 with 1 Axes>"
      ]
     },
     "metadata": {
      "needs_background": "light"
     },
     "output_type": "display_data"
    }
   ],
   "source": [
    "cars_cube['kilometer'].plot.box(grid=True)"
   ]
  },
  {
   "cell_type": "code",
   "execution_count": 44,
   "metadata": {},
   "outputs": [],
   "source": [
    "cars_cube = cars_cube[cars_cube['kilometer']>40.60]"
   ]
  },
  {
   "cell_type": "code",
   "execution_count": 45,
   "metadata": {},
   "outputs": [
    {
     "data": {
      "text/plain": [
       "<matplotlib.axes._subplots.AxesSubplot at 0x22d510d5488>"
      ]
     },
     "execution_count": 45,
     "metadata": {},
     "output_type": "execute_result"
    },
    {
     "data": {
      "image/png": "[encoded data removed]",
      "text/plain": [
       "<Figure size 432x288 with 1 Axes>"
      ]
     },
     "metadata": {
      "needs_background": "light"
     },
     "output_type": "display_data"
    }
   ],
   "source": [
    "cars_cube['kilometer'].plot.box(grid=True)"
   ]
  },
  {
   "cell_type": "code",
   "execution_count": 46,
   "metadata": {},
   "outputs": [
    {
     "data": {
      "text/html": [
       "<div>\n",
       "<style scoped>\n",
       "    .dataframe tbody tr th:only-of-type {\n",
       "        vertical-align: middle;\n",
       "    }\n",
       "\n",
       "    .dataframe tbody tr th {\n",
       "        vertical-align: top;\n",
       "    }\n",
       "\n",
       "    .dataframe thead th {\n",
       "        text-align: right;\n",
       "    }\n",
       "</style>\n",
       "<table border=\"1\" class=\"dataframe\">\n",
       "  <thead>\n",
       "    <tr style=\"text-align: right;\">\n",
       "      <th></th>\n",
       "      <th>price</th>\n",
       "      <th>name</th>\n",
       "      <th>yearOfRegistration</th>\n",
       "      <th>monthOfRegistration</th>\n",
       "      <th>gearbox</th>\n",
       "      <th>powerPS</th>\n",
       "      <th>model</th>\n",
       "      <th>kilometer</th>\n",
       "      <th>fuelType</th>\n",
       "      <th>brand</th>\n",
       "      <th>vehicleType</th>\n",
       "    </tr>\n",
       "  </thead>\n",
       "  <tbody>\n",
       "    <tr>\n",
       "      <th>1</th>\n",
       "      <td>15.182945</td>\n",
       "      <td>Bmw_320_cabrio</td>\n",
       "      <td>1996</td>\n",
       "      <td>0</td>\n",
       "      <td>manuell</td>\n",
       "      <td>150</td>\n",
       "      <td>3er</td>\n",
       "      <td>50.000000</td>\n",
       "      <td>Missing</td>\n",
       "      <td>bmw</td>\n",
       "      <td>cabrio</td>\n",
       "    </tr>\n",
       "    <tr>\n",
       "      <th>2</th>\n",
       "      <td>13.005914</td>\n",
       "      <td>Mercedes_C_230_T_im_top_Zustand_Tuev_Neu!!_Win...</td>\n",
       "      <td>1998</td>\n",
       "      <td>0</td>\n",
       "      <td>manuell</td>\n",
       "      <td>150</td>\n",
       "      <td>c_klasse</td>\n",
       "      <td>53.132928</td>\n",
       "      <td>benzin</td>\n",
       "      <td>mercedes_benz</td>\n",
       "      <td>kombi</td>\n",
       "    </tr>\n",
       "    <tr>\n",
       "      <th>3</th>\n",
       "      <td>15.874011</td>\n",
       "      <td>A3_Limousine</td>\n",
       "      <td>2006</td>\n",
       "      <td>7</td>\n",
       "      <td>manuell</td>\n",
       "      <td>0</td>\n",
       "      <td>a3</td>\n",
       "      <td>53.132928</td>\n",
       "      <td>diesel</td>\n",
       "      <td>audi</td>\n",
       "      <td>limousine</td>\n",
       "    </tr>\n",
       "    <tr>\n",
       "      <th>4</th>\n",
       "      <td>13.750689</td>\n",
       "      <td>Smart_Smart_cabrio_450_cdi</td>\n",
       "      <td>2002</td>\n",
       "      <td>7</td>\n",
       "      <td>automatik</td>\n",
       "      <td>41</td>\n",
       "      <td>fortwo</td>\n",
       "      <td>53.132928</td>\n",
       "      <td>diesel</td>\n",
       "      <td>smart</td>\n",
       "      <td>cabrio</td>\n",
       "    </tr>\n",
       "    <tr>\n",
       "      <th>5</th>\n",
       "      <td>13.049124</td>\n",
       "      <td>BMW_318ti_compact</td>\n",
       "      <td>2001</td>\n",
       "      <td>10</td>\n",
       "      <td>manuell</td>\n",
       "      <td>143</td>\n",
       "      <td>3er</td>\n",
       "      <td>53.132928</td>\n",
       "      <td>benzin</td>\n",
       "      <td>bmw</td>\n",
       "      <td>limousine</td>\n",
       "    </tr>\n",
       "  </tbody>\n",
       "</table>\n",
       "</div>"
      ],
      "text/plain": [
       "       price                                               name  \\\n",
       "1  15.182945                                     Bmw_320_cabrio   \n",
       "2  13.005914  Mercedes_C_230_T_im_top_Zustand_Tuev_Neu!!_Win...   \n",
       "3  15.874011                                       A3_Limousine   \n",
       "4  13.750689                         Smart_Smart_cabrio_450_cdi   \n",
       "5  13.049124                                  BMW_318ti_compact   \n",
       "\n",
       "   yearOfRegistration  monthOfRegistration    gearbox  powerPS     model  \\\n",
       "1                1996                    0    manuell      150       3er   \n",
       "2                1998                    0    manuell      150  c_klasse   \n",
       "3                2006                    7    manuell        0        a3   \n",
       "4                2002                    7  automatik       41    fortwo   \n",
       "5                2001                   10    manuell      143       3er   \n",
       "\n",
       "   kilometer fuelType          brand vehicleType  \n",
       "1  50.000000  Missing            bmw      cabrio  \n",
       "2  53.132928   benzin  mercedes_benz       kombi  \n",
       "3  53.132928   diesel           audi   limousine  \n",
       "4  53.132928   diesel          smart      cabrio  \n",
       "5  53.132928   benzin            bmw   limousine  "
      ]
     },
     "execution_count": 46,
     "metadata": {},
     "output_type": "execute_result"
    }
   ],
   "source": [
    "cars_cube.head()"
   ]
  },
  {
   "cell_type": "markdown",
   "metadata": {},
   "source": [
    "## Categorical features"
   ]
  },
  {
   "cell_type": "code",
   "execution_count": 47,
   "metadata": {},
   "outputs": [
    {
     "name": "stdout",
     "output_type": "stream",
     "text": [
      "6\n"
     ]
    },
    {
     "data": {
      "text/html": [
       "<div>\n",
       "<style scoped>\n",
       "    .dataframe tbody tr th:only-of-type {\n",
       "        vertical-align: middle;\n",
       "    }\n",
       "\n",
       "    .dataframe tbody tr th {\n",
       "        vertical-align: top;\n",
       "    }\n",
       "\n",
       "    .dataframe thead th {\n",
       "        text-align: right;\n",
       "    }\n",
       "</style>\n",
       "<table border=\"1\" class=\"dataframe\">\n",
       "  <thead>\n",
       "    <tr style=\"text-align: right;\">\n",
       "      <th></th>\n",
       "      <th>name</th>\n",
       "      <th>gearbox</th>\n",
       "      <th>model</th>\n",
       "      <th>fuelType</th>\n",
       "      <th>brand</th>\n",
       "      <th>vehicleType</th>\n",
       "    </tr>\n",
       "  </thead>\n",
       "  <tbody>\n",
       "    <tr>\n",
       "      <th>0</th>\n",
       "      <td>Ford_Escort</td>\n",
       "      <td>manuell</td>\n",
       "      <td>escort</td>\n",
       "      <td>benzin</td>\n",
       "      <td>ford</td>\n",
       "      <td>kombi</td>\n",
       "    </tr>\n",
       "    <tr>\n",
       "      <th>1</th>\n",
       "      <td>Bmw_320_cabrio</td>\n",
       "      <td>manuell</td>\n",
       "      <td>3er</td>\n",
       "      <td>Missing</td>\n",
       "      <td>bmw</td>\n",
       "      <td>cabrio</td>\n",
       "    </tr>\n",
       "    <tr>\n",
       "      <th>2</th>\n",
       "      <td>Mercedes_C_230_T_im_top_Zustand_Tuev_Neu!!_Win...</td>\n",
       "      <td>manuell</td>\n",
       "      <td>c_klasse</td>\n",
       "      <td>benzin</td>\n",
       "      <td>mercedes_benz</td>\n",
       "      <td>kombi</td>\n",
       "    </tr>\n",
       "    <tr>\n",
       "      <th>3</th>\n",
       "      <td>A3_Limousine</td>\n",
       "      <td>manuell</td>\n",
       "      <td>a3</td>\n",
       "      <td>diesel</td>\n",
       "      <td>audi</td>\n",
       "      <td>limousine</td>\n",
       "    </tr>\n",
       "    <tr>\n",
       "      <th>4</th>\n",
       "      <td>Smart_Smart_cabrio_450_cdi</td>\n",
       "      <td>automatik</td>\n",
       "      <td>fortwo</td>\n",
       "      <td>diesel</td>\n",
       "      <td>smart</td>\n",
       "      <td>cabrio</td>\n",
       "    </tr>\n",
       "  </tbody>\n",
       "</table>\n",
       "</div>"
      ],
      "text/plain": [
       "                                                name    gearbox     model  \\\n",
       "0                                        Ford_Escort    manuell    escort   \n",
       "1                                     Bmw_320_cabrio    manuell       3er   \n",
       "2  Mercedes_C_230_T_im_top_Zustand_Tuev_Neu!!_Win...    manuell  c_klasse   \n",
       "3                                       A3_Limousine    manuell        a3   \n",
       "4                         Smart_Smart_cabrio_450_cdi  automatik    fortwo   \n",
       "\n",
       "  fuelType          brand vehicleType  \n",
       "0   benzin           ford       kombi  \n",
       "1  Missing            bmw      cabrio  \n",
       "2   benzin  mercedes_benz       kombi  \n",
       "3   diesel           audi   limousine  \n",
       "4   diesel          smart      cabrio  "
      ]
     },
     "execution_count": 47,
     "metadata": {},
     "output_type": "execute_result"
    }
   ],
   "source": [
    "cate_feature = [feature for feature in cars.columns if (cars[feature].dtypes == 'O')]\n",
    "print(len(cate_feature))\n",
    "cars[cate_feature].head()"
   ]
  },
  {
   "cell_type": "code",
   "execution_count": 48,
   "metadata": {},
   "outputs": [
    {
     "data": {
      "image/png": "[encoded data removed]",
      "text/plain": [
       "<Figure size 432x288 with 1 Axes>"
      ]
     },
     "metadata": {
      "needs_background": "light"
     },
     "output_type": "display_data"
    },
    {
     "data": {
      "image/png": "[encoded data removed]",
      "text/plain": [
       "<Figure size 432x288 with 1 Axes>"
      ]
     },
     "metadata": {
      "needs_background": "light"
     },
     "output_type": "display_data"
    },
    {
     "data": {
      "image/png": "[encoded data removed]",
      "text/plain": [
       "<Figure size 432x288 with 1 Axes>"
      ]
     },
     "metadata": {
      "needs_background": "light"
     },
     "output_type": "display_data"
    },
    {
     "data": {
      "image/png": "[encoded data removed]",
      "text/plain": [
       "<Figure size 432x288 with 1 Axes>"
      ]
     },
     "metadata": {
      "needs_background": "light"
     },
     "output_type": "display_data"
    }
   ],
   "source": [
    "for feature in cate_feature:\n",
    "    if feature in ['name','model']:\n",
    "        pass\n",
    "    else:\n",
    "        cars.groupby(feature)['price'].median().plot.bar()\n",
    "        plt.xlabel(feature)\n",
    "        plt.ylabel('price')\n",
    "        plt.title(feature)\n",
    "        plt.show()"
   ]
  },
  {
   "cell_type": "code",
   "execution_count": 49,
   "metadata": {},
   "outputs": [
    {
     "data": {
      "image/png": "[encoded data removed]",
      "text/plain": [
       "<Figure size 432x288 with 1 Axes>"
      ]
     },
     "metadata": {
      "needs_background": "light"
     },
     "output_type": "display_data"
    },
    {
     "data": {
      "image/png": "[encoded data removed]",
      "text/plain": [
       "<Figure size 432x288 with 1 Axes>"
      ]
     },
     "metadata": {
      "needs_background": "light"
     },
     "output_type": "display_data"
    },
    {
     "data": {
      "image/png": "[encoded data removed]",
      "text/plain": [
       "<Figure size 432x288 with 1 Axes>"
      ]
     },
     "metadata": {
      "needs_background": "light"
     },
     "output_type": "display_data"
    },
    {
     "data": {
      "image/png": "[encoded data removed]",
      "text/plain": [
       "<Figure size 432x288 with 1 Axes>"
      ]
     },
     "metadata": {
      "needs_background": "light"
     },
     "output_type": "display_data"
    }
   ],
   "source": [
    "for feature in cate_feature:\n",
    "    if feature in ['name','model']:\n",
    "        pass\n",
    "    else:\n",
    "        (cars[feature].value_counts()/len(cars)).plot.bar()\n",
    "        plt.xlabel(feature)\n",
    "        plt.ylabel('count')\n",
    "        plt.title(feature)\n",
    "        plt.show()"
   ]
  },
  {
   "cell_type": "code",
   "execution_count": 50,
   "metadata": {},
   "outputs": [
    {
     "data": {
      "text/html": [
       "<div>\n",
       "<style scoped>\n",
       "    .dataframe tbody tr th:only-of-type {\n",
       "        vertical-align: middle;\n",
       "    }\n",
       "\n",
       "    .dataframe tbody tr th {\n",
       "        vertical-align: top;\n",
       "    }\n",
       "\n",
       "    .dataframe thead th {\n",
       "        text-align: right;\n",
       "    }\n",
       "</style>\n",
       "<table border=\"1\" class=\"dataframe\">\n",
       "  <thead>\n",
       "    <tr style=\"text-align: right;\">\n",
       "      <th></th>\n",
       "      <th>name</th>\n",
       "      <th>gearbox</th>\n",
       "      <th>model</th>\n",
       "      <th>fuelType</th>\n",
       "      <th>brand</th>\n",
       "      <th>vehicleType</th>\n",
       "    </tr>\n",
       "  </thead>\n",
       "  <tbody>\n",
       "    <tr>\n",
       "      <th>0</th>\n",
       "      <td>Ford_Escort</td>\n",
       "      <td>manuell</td>\n",
       "      <td>escort</td>\n",
       "      <td>benzin</td>\n",
       "      <td>ford</td>\n",
       "      <td>kombi</td>\n",
       "    </tr>\n",
       "    <tr>\n",
       "      <th>1</th>\n",
       "      <td>Bmw_320_cabrio</td>\n",
       "      <td>manuell</td>\n",
       "      <td>3er</td>\n",
       "      <td>Missing</td>\n",
       "      <td>bmw</td>\n",
       "      <td>cabrio</td>\n",
       "    </tr>\n",
       "    <tr>\n",
       "      <th>2</th>\n",
       "      <td>Mercedes_C_230_T_im_top_Zustand_Tuev_Neu!!_Win...</td>\n",
       "      <td>manuell</td>\n",
       "      <td>c_klasse</td>\n",
       "      <td>benzin</td>\n",
       "      <td>mercedes_benz</td>\n",
       "      <td>kombi</td>\n",
       "    </tr>\n",
       "    <tr>\n",
       "      <th>3</th>\n",
       "      <td>A3_Limousine</td>\n",
       "      <td>manuell</td>\n",
       "      <td>a3</td>\n",
       "      <td>diesel</td>\n",
       "      <td>audi</td>\n",
       "      <td>limousine</td>\n",
       "    </tr>\n",
       "    <tr>\n",
       "      <th>4</th>\n",
       "      <td>Smart_Smart_cabrio_450_cdi</td>\n",
       "      <td>automatik</td>\n",
       "      <td>fortwo</td>\n",
       "      <td>diesel</td>\n",
       "      <td>smart</td>\n",
       "      <td>cabrio</td>\n",
       "    </tr>\n",
       "  </tbody>\n",
       "</table>\n",
       "</div>"
      ],
      "text/plain": [
       "                                                name    gearbox     model  \\\n",
       "0                                        Ford_Escort    manuell    escort   \n",
       "1                                     Bmw_320_cabrio    manuell       3er   \n",
       "2  Mercedes_C_230_T_im_top_Zustand_Tuev_Neu!!_Win...    manuell  c_klasse   \n",
       "3                                       A3_Limousine    manuell        a3   \n",
       "4                         Smart_Smart_cabrio_450_cdi  automatik    fortwo   \n",
       "\n",
       "  fuelType          brand vehicleType  \n",
       "0   benzin           ford       kombi  \n",
       "1  Missing            bmw      cabrio  \n",
       "2   benzin  mercedes_benz       kombi  \n",
       "3   diesel           audi   limousine  \n",
       "4   diesel          smart      cabrio  "
      ]
     },
     "execution_count": 50,
     "metadata": {},
     "output_type": "execute_result"
    }
   ],
   "source": [
    "cars[cate_feature].head()"
   ]
  },
  {
   "cell_type": "code",
   "execution_count": 51,
   "metadata": {},
   "outputs": [
    {
     "name": "stdout",
     "output_type": "stream",
     "text": [
      "name : 8819 labels\n",
      "gearbox : 3 labels\n",
      "model : 236 labels\n",
      "fuelType : 8 labels\n",
      "brand : 40 labels\n",
      "vehicleType : 9 labels\n"
     ]
    }
   ],
   "source": [
    "for col in cars[cate_feature].columns:              #in order to check that how many labels each categorical feature has \n",
    "    print(col ,':' ,len(cars[col].unique()),'labels')        #data[col] give us the values inside the dataset col. by col."
   ]
  },
  {
   "cell_type": "code",
   "execution_count": 52,
   "metadata": {},
   "outputs": [],
   "source": [
    "#created a new variable as cars_cat which doesnt have name column\n",
    "cars_cat = cars[cate_feature].drop('name',axis = 1)  "
   ]
  },
  {
   "cell_type": "code",
   "execution_count": 53,
   "metadata": {},
   "outputs": [
    {
     "data": {
      "text/html": [
       "<div>\n",
       "<style scoped>\n",
       "    .dataframe tbody tr th:only-of-type {\n",
       "        vertical-align: middle;\n",
       "    }\n",
       "\n",
       "    .dataframe tbody tr th {\n",
       "        vertical-align: top;\n",
       "    }\n",
       "\n",
       "    .dataframe thead th {\n",
       "        text-align: right;\n",
       "    }\n",
       "</style>\n",
       "<table border=\"1\" class=\"dataframe\">\n",
       "  <thead>\n",
       "    <tr style=\"text-align: right;\">\n",
       "      <th></th>\n",
       "      <th>gearbox</th>\n",
       "      <th>model</th>\n",
       "      <th>fuelType</th>\n",
       "      <th>brand</th>\n",
       "      <th>vehicleType</th>\n",
       "    </tr>\n",
       "  </thead>\n",
       "  <tbody>\n",
       "    <tr>\n",
       "      <th>0</th>\n",
       "      <td>manuell</td>\n",
       "      <td>escort</td>\n",
       "      <td>benzin</td>\n",
       "      <td>ford</td>\n",
       "      <td>kombi</td>\n",
       "    </tr>\n",
       "    <tr>\n",
       "      <th>1</th>\n",
       "      <td>manuell</td>\n",
       "      <td>3er</td>\n",
       "      <td>Missing</td>\n",
       "      <td>bmw</td>\n",
       "      <td>cabrio</td>\n",
       "    </tr>\n",
       "    <tr>\n",
       "      <th>2</th>\n",
       "      <td>manuell</td>\n",
       "      <td>c_klasse</td>\n",
       "      <td>benzin</td>\n",
       "      <td>mercedes_benz</td>\n",
       "      <td>kombi</td>\n",
       "    </tr>\n",
       "    <tr>\n",
       "      <th>3</th>\n",
       "      <td>manuell</td>\n",
       "      <td>a3</td>\n",
       "      <td>diesel</td>\n",
       "      <td>audi</td>\n",
       "      <td>limousine</td>\n",
       "    </tr>\n",
       "    <tr>\n",
       "      <th>4</th>\n",
       "      <td>automatik</td>\n",
       "      <td>fortwo</td>\n",
       "      <td>diesel</td>\n",
       "      <td>smart</td>\n",
       "      <td>cabrio</td>\n",
       "    </tr>\n",
       "  </tbody>\n",
       "</table>\n",
       "</div>"
      ],
      "text/plain": [
       "     gearbox     model fuelType          brand vehicleType\n",
       "0    manuell    escort   benzin           ford       kombi\n",
       "1    manuell       3er  Missing            bmw      cabrio\n",
       "2    manuell  c_klasse   benzin  mercedes_benz       kombi\n",
       "3    manuell        a3   diesel           audi   limousine\n",
       "4  automatik    fortwo   diesel          smart      cabrio"
      ]
     },
     "execution_count": 53,
     "metadata": {},
     "output_type": "execute_result"
    }
   ],
   "source": [
    "cars_cat.head()"
   ]
  },
  {
   "cell_type": "code",
   "execution_count": 54,
   "metadata": {},
   "outputs": [
    {
     "data": {
      "text/plain": [
       "gearbox          3\n",
       "model          236\n",
       "fuelType         8\n",
       "brand           40\n",
       "vehicleType      9\n",
       "dtype: int64"
      ]
     },
     "execution_count": 54,
     "metadata": {},
     "output_type": "execute_result"
    }
   ],
   "source": [
    "cars_cat[['gearbox','model','fuelType','brand','vehicleType']].nunique()"
   ]
  },
  {
   "cell_type": "code",
   "execution_count": 55,
   "metadata": {},
   "outputs": [
    {
     "data": {
      "text/plain": [
       "{'golf': 823,\n",
       " 'andere': 711,\n",
       " 'Missing': 566,\n",
       " '3er': 557,\n",
       " 'polo': 386,\n",
       " 'corsa': 330,\n",
       " 'astra': 306,\n",
       " 'a4': 267,\n",
       " 'passat': 259,\n",
       " 'c_klasse': 236,\n",
       " 'e_klasse': 224,\n",
       " '5er': 216,\n",
       " 'a6': 167,\n",
       " 'focus': 164,\n",
       " 'transporter': 153,\n",
       " 'a3': 152,\n",
       " 'fiesta': 152,\n",
       " 'twingo': 145,\n",
       " 'a_klasse': 129,\n",
       " '2_reihe': 123,\n",
       " 'touran': 112,\n",
       " 'fortwo': 103,\n",
       " '1er': 102,\n",
       " 'vectra': 101,\n",
       " '3_reihe': 97,\n",
       " 'clio': 93,\n",
       " 'punto': 88,\n",
       " 'zafira': 88,\n",
       " 'megane': 87,\n",
       " 'mondeo': 80,\n",
       " 'ka': 75,\n",
       " 'fabia': 70,\n",
       " 'ibiza': 70,\n",
       " 'lupo': 66,\n",
       " 'x_reihe': 60,\n",
       " 'octavia': 56,\n",
       " 'cooper': 52,\n",
       " 'sharan': 45,\n",
       " 'clk': 44,\n",
       " '1_reihe': 42,\n",
       " 'slk': 42,\n",
       " 'micra': 42,\n",
       " '80': 40,\n",
       " 'caddy': 39,\n",
       " '6_reihe': 38,\n",
       " 'tt': 38,\n",
       " 'omega': 37,\n",
       " '7er': 35,\n",
       " 's_klasse': 31,\n",
       " 'i_reihe': 31,\n",
       " 'a5': 31,\n",
       " 'z_reihe': 31,\n",
       " 'leon': 29,\n",
       " 'fox': 29,\n",
       " 'meriva': 29,\n",
       " 'yaris': 29,\n",
       " 'civic': 28,\n",
       " 'm_klasse': 28,\n",
       " '500': 28,\n",
       " 'scenic': 28,\n",
       " 'kangoo': 27,\n",
       " 'escort': 27,\n",
       " 'tigra': 26,\n",
       " 'c_max': 26,\n",
       " 'one': 26,\n",
       " 'mx_reihe': 26,\n",
       " '911': 24,\n",
       " 'sprinter': 24,\n",
       " 'bora': 23,\n",
       " 'arosa': 23,\n",
       " 'stilo': 23,\n",
       " 'galaxy': 23,\n",
       " 'vito': 22,\n",
       " 'b_klasse': 22,\n",
       " 'primera': 22,\n",
       " 'colt': 22,\n",
       " 'laguna': 21,\n",
       " 'swift': 21,\n",
       " 'beetle': 21,\n",
       " 'ducato': 19,\n",
       " 'insignia': 19,\n",
       " 'berlingo': 19,\n",
       " 'a8': 19,\n",
       " 'v40': 19,\n",
       " 'v70': 19,\n",
       " '147': 19,\n",
       " 'm_reihe': 18,\n",
       " 'seicento': 18,\n",
       " 'tiguan': 18,\n",
       " 'espace': 17,\n",
       " 'agila': 17,\n",
       " 'combo': 17,\n",
       " 'transit': 17,\n",
       " 'grand': 17,\n",
       " 'signum': 17,\n",
       " 'touareg': 17,\n",
       " '4_reihe': 16,\n",
       " '156': 16,\n",
       " 'a1': 15,\n",
       " 'getz': 15,\n",
       " 'almera': 15,\n",
       " 'cr_reihe': 15,\n",
       " 'corolla': 14,\n",
       " 's_max': 14,\n",
       " '601': 14,\n",
       " 'q5': 13,\n",
       " 'eos': 13,\n",
       " 'c4': 13,\n",
       " 'alhambra': 13,\n",
       " 'rav': 12,\n",
       " 'kaefer': 12,\n",
       " 'sorento': 12,\n",
       " 'kadett': 12,\n",
       " '5_reihe': 12,\n",
       " 'sl': 12,\n",
       " 'ptcruiser': 12,\n",
       " 'up': 12,\n",
       " 'xc_reihe': 11,\n",
       " 'c5': 11,\n",
       " '100': 11,\n",
       " 'picanto': 11,\n",
       " 'panda': 11,\n",
       " 'avensis': 11,\n",
       " 'carnival': 11,\n",
       " 'fusion': 11,\n",
       " 'scirocco': 11,\n",
       " 'forfour': 11,\n",
       " 'a2': 11,\n",
       " 'boxster': 11,\n",
       " 'sportage': 11,\n",
       " 'mustang': 10,\n",
       " 'cayenne': 10,\n",
       " 'modus': 10,\n",
       " 'cuore': 10,\n",
       " 'santa': 10,\n",
       " 'superb': 10,\n",
       " 'viano': 10,\n",
       " 'phaeton': 10,\n",
       " 'c3': 10,\n",
       " 'v_klasse': 10,\n",
       " '6er': 9,\n",
       " 'pajero': 9,\n",
       " 'accord': 9,\n",
       " 'matiz': 9,\n",
       " 'cordoba': 9,\n",
       " 'qashqai': 9,\n",
       " 'glk': 9,\n",
       " 'carisma': 9,\n",
       " 'c_reihe': 8,\n",
       " 'auris': 8,\n",
       " 'logan': 8,\n",
       " 'aygo': 8,\n",
       " 'lancer': 8,\n",
       " 'bravo': 7,\n",
       " 'doblo': 7,\n",
       " 'g_klasse': 7,\n",
       " 'c1': 7,\n",
       " 'yeti': 7,\n",
       " 'verso': 7,\n",
       " 'q7': 7,\n",
       " 'kuga': 7,\n",
       " 'outlander': 7,\n",
       " 'jetta': 7,\n",
       " 'toledo': 7,\n",
       " 'voyager': 7,\n",
       " 'duster': 7,\n",
       " 'ypsilon': 7,\n",
       " 'x_trail': 7,\n",
       " 'jimny': 6,\n",
       " 'x_type': 6,\n",
       " 'cc': 6,\n",
       " 'rio': 6,\n",
       " 'tucson': 6,\n",
       " 'roadster': 6,\n",
       " 'clubman': 6,\n",
       " 'jazz': 6,\n",
       " 'q3': 6,\n",
       " 'galant': 6,\n",
       " '159': 6,\n",
       " 'captiva': 5,\n",
       " 'vivaro': 5,\n",
       " 'navara': 5,\n",
       " 'rx_reihe': 5,\n",
       " 'c2': 5,\n",
       " 'cl': 5,\n",
       " 'cx_reihe': 5,\n",
       " 'sandero': 5,\n",
       " 'spider': 5,\n",
       " 'cherokee': 4,\n",
       " 's_type': 4,\n",
       " 'altea': 4,\n",
       " 'kalos': 4,\n",
       " 'calibra': 4,\n",
       " 'defender': 4,\n",
       " 's60': 4,\n",
       " 'v50': 4,\n",
       " 'move': 4,\n",
       " 'freelander': 3,\n",
       " '900': 3,\n",
       " 'note': 3,\n",
       " 'nubira': 3,\n",
       " 'exeo': 3,\n",
       " 'aveo': 3,\n",
       " 'ceed': 3,\n",
       " 'citigo': 3,\n",
       " 'impreza': 3,\n",
       " 'r19': 3,\n",
       " '90': 3,\n",
       " 'mii': 3,\n",
       " 'v60': 3,\n",
       " 'roomster': 3,\n",
       " 'legacy': 2,\n",
       " 'wrangler': 2,\n",
       " 'sirion': 2,\n",
       " 'gl': 2,\n",
       " 'niva': 2,\n",
       " 'spark': 2,\n",
       " 'antara': 2,\n",
       " '850': 2,\n",
       " 'range_rover_sport': 2,\n",
       " 'range_rover_evoque': 2,\n",
       " 'amarok': 2,\n",
       " 'materia': 2,\n",
       " 'justy': 2,\n",
       " 'juke': 2,\n",
       " 'crossfire': 1,\n",
       " '145': 1,\n",
       " 'lodgy': 1,\n",
       " '200': 1,\n",
       " 'lanos': 1,\n",
       " 'lybra': 1,\n",
       " 'forester': 1,\n",
       " 'discovery': 1,\n",
       " 'delta': 1,\n",
       " 'kappa': 1,\n",
       " 'range_rover': 1}"
      ]
     },
     "execution_count": 55,
     "metadata": {},
     "output_type": "execute_result"
    }
   ],
   "source": [
    "# let's obtain the counts for each one of the labels in model(since it really has lots of unique values)\n",
    "# let's capture this in a dictionary that we can use to re-map the labels\n",
    "cars_cat['model'].value_counts().to_dict()  "
   ]
  },
  {
   "cell_type": "code",
   "execution_count": 56,
   "metadata": {},
   "outputs": [],
   "source": [
    "# And now let's replace each label in X2 by its count\n",
    "\n",
    "# first we make a dictionary that maps each label to the counts\n",
    "cars_frequency_map = cars_cat['model'].value_counts().to_dict()"
   ]
  },
  {
   "cell_type": "code",
   "execution_count": 57,
   "metadata": {},
   "outputs": [],
   "source": [
    "# and now we replace 'Item_Identifier' feature in the dataset data\n",
    "cars_cat['model'] = cars_cat['model'].map(cars_frequency_map)"
   ]
  },
  {
   "cell_type": "code",
   "execution_count": 58,
   "metadata": {},
   "outputs": [
    {
     "data": {
      "text/plain": [
       "0     27\n",
       "1    557\n",
       "2    236\n",
       "3    152\n",
       "4    103\n",
       "Name: model, dtype: int64"
      ]
     },
     "execution_count": 58,
     "metadata": {},
     "output_type": "execute_result"
    }
   ],
   "source": [
    "cars_cat['model'].head()"
   ]
  },
  {
   "cell_type": "code",
   "execution_count": 59,
   "metadata": {},
   "outputs": [
    {
     "data": {
      "text/html": [
       "<div>\n",
       "<style scoped>\n",
       "    .dataframe tbody tr th:only-of-type {\n",
       "        vertical-align: middle;\n",
       "    }\n",
       "\n",
       "    .dataframe tbody tr th {\n",
       "        vertical-align: top;\n",
       "    }\n",
       "\n",
       "    .dataframe thead th {\n",
       "        text-align: right;\n",
       "    }\n",
       "</style>\n",
       "<table border=\"1\" class=\"dataframe\">\n",
       "  <thead>\n",
       "    <tr style=\"text-align: right;\">\n",
       "      <th></th>\n",
       "      <th>gearbox</th>\n",
       "      <th>model</th>\n",
       "      <th>fuelType</th>\n",
       "      <th>brand</th>\n",
       "      <th>vehicleType</th>\n",
       "    </tr>\n",
       "  </thead>\n",
       "  <tbody>\n",
       "    <tr>\n",
       "      <th>0</th>\n",
       "      <td>manuell</td>\n",
       "      <td>27</td>\n",
       "      <td>benzin</td>\n",
       "      <td>ford</td>\n",
       "      <td>kombi</td>\n",
       "    </tr>\n",
       "    <tr>\n",
       "      <th>1</th>\n",
       "      <td>manuell</td>\n",
       "      <td>557</td>\n",
       "      <td>Missing</td>\n",
       "      <td>bmw</td>\n",
       "      <td>cabrio</td>\n",
       "    </tr>\n",
       "    <tr>\n",
       "      <th>2</th>\n",
       "      <td>manuell</td>\n",
       "      <td>236</td>\n",
       "      <td>benzin</td>\n",
       "      <td>mercedes_benz</td>\n",
       "      <td>kombi</td>\n",
       "    </tr>\n",
       "    <tr>\n",
       "      <th>3</th>\n",
       "      <td>manuell</td>\n",
       "      <td>152</td>\n",
       "      <td>diesel</td>\n",
       "      <td>audi</td>\n",
       "      <td>limousine</td>\n",
       "    </tr>\n",
       "    <tr>\n",
       "      <th>4</th>\n",
       "      <td>automatik</td>\n",
       "      <td>103</td>\n",
       "      <td>diesel</td>\n",
       "      <td>smart</td>\n",
       "      <td>cabrio</td>\n",
       "    </tr>\n",
       "  </tbody>\n",
       "</table>\n",
       "</div>"
      ],
      "text/plain": [
       "     gearbox  model fuelType          brand vehicleType\n",
       "0    manuell     27   benzin           ford       kombi\n",
       "1    manuell    557  Missing            bmw      cabrio\n",
       "2    manuell    236   benzin  mercedes_benz       kombi\n",
       "3    manuell    152   diesel           audi   limousine\n",
       "4  automatik    103   diesel          smart      cabrio"
      ]
     },
     "execution_count": 59,
     "metadata": {},
     "output_type": "execute_result"
    }
   ],
   "source": [
    "cars_cat.head()"
   ]
  },
  {
   "cell_type": "code",
   "execution_count": 60,
   "metadata": {},
   "outputs": [],
   "source": [
    "from sklearn.preprocessing import LabelEncoder\n",
    "le = LabelEncoder()"
   ]
  },
  {
   "cell_type": "code",
   "execution_count": 61,
   "metadata": {},
   "outputs": [],
   "source": [
    "cars_cat['gearbox'] = le.fit_transform(cars_cat['gearbox'])\n",
    "cars_cat['model'] = le.fit_transform(cars_cat['model'])\n",
    "cars_cat['fuelType'] = le.fit_transform(cars_cat['fuelType'])\n",
    "cars_cat['brand'] = le.fit_transform(cars_cat['brand'])\n",
    "cars_cat['vehicleType'] = le.fit_transform(cars_cat['vehicleType'])"
   ]
  },
  {
   "cell_type": "code",
   "execution_count": 62,
   "metadata": {},
   "outputs": [
    {
     "data": {
      "text/html": [
       "<div>\n",
       "<style scoped>\n",
       "    .dataframe tbody tr th:only-of-type {\n",
       "        vertical-align: middle;\n",
       "    }\n",
       "\n",
       "    .dataframe tbody tr th {\n",
       "        vertical-align: top;\n",
       "    }\n",
       "\n",
       "    .dataframe thead th {\n",
       "        text-align: right;\n",
       "    }\n",
       "</style>\n",
       "<table border=\"1\" class=\"dataframe\">\n",
       "  <thead>\n",
       "    <tr style=\"text-align: right;\">\n",
       "      <th></th>\n",
       "      <th>gearbox</th>\n",
       "      <th>model</th>\n",
       "      <th>fuelType</th>\n",
       "      <th>brand</th>\n",
       "      <th>vehicleType</th>\n",
       "    </tr>\n",
       "  </thead>\n",
       "  <tbody>\n",
       "    <tr>\n",
       "      <th>0</th>\n",
       "      <td>2</td>\n",
       "      <td>24</td>\n",
       "      <td>2</td>\n",
       "      <td>10</td>\n",
       "      <td>6</td>\n",
       "    </tr>\n",
       "    <tr>\n",
       "      <th>1</th>\n",
       "      <td>2</td>\n",
       "      <td>66</td>\n",
       "      <td>0</td>\n",
       "      <td>2</td>\n",
       "      <td>3</td>\n",
       "    </tr>\n",
       "    <tr>\n",
       "      <th>2</th>\n",
       "      <td>2</td>\n",
       "      <td>60</td>\n",
       "      <td>2</td>\n",
       "      <td>20</td>\n",
       "      <td>6</td>\n",
       "    </tr>\n",
       "    <tr>\n",
       "      <th>3</th>\n",
       "      <td>2</td>\n",
       "      <td>54</td>\n",
       "      <td>4</td>\n",
       "      <td>1</td>\n",
       "      <td>7</td>\n",
       "    </tr>\n",
       "    <tr>\n",
       "      <th>4</th>\n",
       "      <td>1</td>\n",
       "      <td>49</td>\n",
       "      <td>4</td>\n",
       "      <td>32</td>\n",
       "      <td>3</td>\n",
       "    </tr>\n",
       "  </tbody>\n",
       "</table>\n",
       "</div>"
      ],
      "text/plain": [
       "   gearbox  model  fuelType  brand  vehicleType\n",
       "0        2     24         2     10            6\n",
       "1        2     66         0      2            3\n",
       "2        2     60         2     20            6\n",
       "3        2     54         4      1            7\n",
       "4        1     49         4     32            3"
      ]
     },
     "execution_count": 62,
     "metadata": {},
     "output_type": "execute_result"
    }
   ],
   "source": [
    "cars_cat.head()"
   ]
  },
  {
   "cell_type": "code",
   "execution_count": 63,
   "metadata": {},
   "outputs": [
    {
     "data": {
      "text/html": [
       "<div>\n",
       "<style scoped>\n",
       "    .dataframe tbody tr th:only-of-type {\n",
       "        vertical-align: middle;\n",
       "    }\n",
       "\n",
       "    .dataframe tbody tr th {\n",
       "        vertical-align: top;\n",
       "    }\n",
       "\n",
       "    .dataframe thead th {\n",
       "        text-align: right;\n",
       "    }\n",
       "</style>\n",
       "<table border=\"1\" class=\"dataframe\">\n",
       "  <thead>\n",
       "    <tr style=\"text-align: right;\">\n",
       "      <th></th>\n",
       "      <th>price</th>\n",
       "      <th>name</th>\n",
       "      <th>yearOfRegistration</th>\n",
       "      <th>monthOfRegistration</th>\n",
       "      <th>gearbox</th>\n",
       "      <th>powerPS</th>\n",
       "      <th>model</th>\n",
       "      <th>kilometer</th>\n",
       "      <th>fuelType</th>\n",
       "      <th>brand</th>\n",
       "      <th>vehicleType</th>\n",
       "    </tr>\n",
       "  </thead>\n",
       "  <tbody>\n",
       "    <tr>\n",
       "      <th>1</th>\n",
       "      <td>15.182945</td>\n",
       "      <td>Bmw_320_cabrio</td>\n",
       "      <td>1996</td>\n",
       "      <td>0</td>\n",
       "      <td>manuell</td>\n",
       "      <td>150</td>\n",
       "      <td>3er</td>\n",
       "      <td>50.000000</td>\n",
       "      <td>Missing</td>\n",
       "      <td>bmw</td>\n",
       "      <td>cabrio</td>\n",
       "    </tr>\n",
       "    <tr>\n",
       "      <th>2</th>\n",
       "      <td>13.005914</td>\n",
       "      <td>Mercedes_C_230_T_im_top_Zustand_Tuev_Neu!!_Win...</td>\n",
       "      <td>1998</td>\n",
       "      <td>0</td>\n",
       "      <td>manuell</td>\n",
       "      <td>150</td>\n",
       "      <td>c_klasse</td>\n",
       "      <td>53.132928</td>\n",
       "      <td>benzin</td>\n",
       "      <td>mercedes_benz</td>\n",
       "      <td>kombi</td>\n",
       "    </tr>\n",
       "    <tr>\n",
       "      <th>3</th>\n",
       "      <td>15.874011</td>\n",
       "      <td>A3_Limousine</td>\n",
       "      <td>2006</td>\n",
       "      <td>7</td>\n",
       "      <td>manuell</td>\n",
       "      <td>0</td>\n",
       "      <td>a3</td>\n",
       "      <td>53.132928</td>\n",
       "      <td>diesel</td>\n",
       "      <td>audi</td>\n",
       "      <td>limousine</td>\n",
       "    </tr>\n",
       "    <tr>\n",
       "      <th>4</th>\n",
       "      <td>13.750689</td>\n",
       "      <td>Smart_Smart_cabrio_450_cdi</td>\n",
       "      <td>2002</td>\n",
       "      <td>7</td>\n",
       "      <td>automatik</td>\n",
       "      <td>41</td>\n",
       "      <td>fortwo</td>\n",
       "      <td>53.132928</td>\n",
       "      <td>diesel</td>\n",
       "      <td>smart</td>\n",
       "      <td>cabrio</td>\n",
       "    </tr>\n",
       "    <tr>\n",
       "      <th>5</th>\n",
       "      <td>13.049124</td>\n",
       "      <td>BMW_318ti_compact</td>\n",
       "      <td>2001</td>\n",
       "      <td>10</td>\n",
       "      <td>manuell</td>\n",
       "      <td>143</td>\n",
       "      <td>3er</td>\n",
       "      <td>53.132928</td>\n",
       "      <td>benzin</td>\n",
       "      <td>bmw</td>\n",
       "      <td>limousine</td>\n",
       "    </tr>\n",
       "  </tbody>\n",
       "</table>\n",
       "</div>"
      ],
      "text/plain": [
       "       price                                               name  \\\n",
       "1  15.182945                                     Bmw_320_cabrio   \n",
       "2  13.005914  Mercedes_C_230_T_im_top_Zustand_Tuev_Neu!!_Win...   \n",
       "3  15.874011                                       A3_Limousine   \n",
       "4  13.750689                         Smart_Smart_cabrio_450_cdi   \n",
       "5  13.049124                                  BMW_318ti_compact   \n",
       "\n",
       "   yearOfRegistration  monthOfRegistration    gearbox  powerPS     model  \\\n",
       "1                1996                    0    manuell      150       3er   \n",
       "2                1998                    0    manuell      150  c_klasse   \n",
       "3                2006                    7    manuell        0        a3   \n",
       "4                2002                    7  automatik       41    fortwo   \n",
       "5                2001                   10    manuell      143       3er   \n",
       "\n",
       "   kilometer fuelType          brand vehicleType  \n",
       "1  50.000000  Missing            bmw      cabrio  \n",
       "2  53.132928   benzin  mercedes_benz       kombi  \n",
       "3  53.132928   diesel           audi   limousine  \n",
       "4  53.132928   diesel          smart      cabrio  \n",
       "5  53.132928   benzin            bmw   limousine  "
      ]
     },
     "execution_count": 63,
     "metadata": {},
     "output_type": "execute_result"
    }
   ],
   "source": [
    "cars_cube.head()"
   ]
  },
  {
   "cell_type": "code",
   "execution_count": 64,
   "metadata": {},
   "outputs": [],
   "source": [
    "cars_cube = cars_cube.drop(['name','gearbox','model','fuelType','brand','vehicleType'],axis = 1)"
   ]
  },
  {
   "cell_type": "code",
   "execution_count": 65,
   "metadata": {},
   "outputs": [
    {
     "data": {
      "text/html": [
       "<div>\n",
       "<style scoped>\n",
       "    .dataframe tbody tr th:only-of-type {\n",
       "        vertical-align: middle;\n",
       "    }\n",
       "\n",
       "    .dataframe tbody tr th {\n",
       "        vertical-align: top;\n",
       "    }\n",
       "\n",
       "    .dataframe thead th {\n",
       "        text-align: right;\n",
       "    }\n",
       "</style>\n",
       "<table border=\"1\" class=\"dataframe\">\n",
       "  <thead>\n",
       "    <tr style=\"text-align: right;\">\n",
       "      <th></th>\n",
       "      <th>price</th>\n",
       "      <th>yearOfRegistration</th>\n",
       "      <th>monthOfRegistration</th>\n",
       "      <th>powerPS</th>\n",
       "      <th>kilometer</th>\n",
       "    </tr>\n",
       "  </thead>\n",
       "  <tbody>\n",
       "    <tr>\n",
       "      <th>1</th>\n",
       "      <td>15.182945</td>\n",
       "      <td>1996</td>\n",
       "      <td>0</td>\n",
       "      <td>150</td>\n",
       "      <td>50.000000</td>\n",
       "    </tr>\n",
       "    <tr>\n",
       "      <th>2</th>\n",
       "      <td>13.005914</td>\n",
       "      <td>1998</td>\n",
       "      <td>0</td>\n",
       "      <td>150</td>\n",
       "      <td>53.132928</td>\n",
       "    </tr>\n",
       "    <tr>\n",
       "      <th>3</th>\n",
       "      <td>15.874011</td>\n",
       "      <td>2006</td>\n",
       "      <td>7</td>\n",
       "      <td>0</td>\n",
       "      <td>53.132928</td>\n",
       "    </tr>\n",
       "    <tr>\n",
       "      <th>4</th>\n",
       "      <td>13.750689</td>\n",
       "      <td>2002</td>\n",
       "      <td>7</td>\n",
       "      <td>41</td>\n",
       "      <td>53.132928</td>\n",
       "    </tr>\n",
       "    <tr>\n",
       "      <th>5</th>\n",
       "      <td>13.049124</td>\n",
       "      <td>2001</td>\n",
       "      <td>10</td>\n",
       "      <td>143</td>\n",
       "      <td>53.132928</td>\n",
       "    </tr>\n",
       "  </tbody>\n",
       "</table>\n",
       "</div>"
      ],
      "text/plain": [
       "       price  yearOfRegistration  monthOfRegistration  powerPS  kilometer\n",
       "1  15.182945                1996                    0      150  50.000000\n",
       "2  13.005914                1998                    0      150  53.132928\n",
       "3  15.874011                2006                    7        0  53.132928\n",
       "4  13.750689                2002                    7       41  53.132928\n",
       "5  13.049124                2001                   10      143  53.132928"
      ]
     },
     "execution_count": 65,
     "metadata": {},
     "output_type": "execute_result"
    }
   ],
   "source": [
    "cars_cube.head()"
   ]
  },
  {
   "cell_type": "code",
   "execution_count": 66,
   "metadata": {},
   "outputs": [],
   "source": [
    "cars1 = pd.concat([cars_cube,cars_cat],axis =1 )"
   ]
  },
  {
   "cell_type": "code",
   "execution_count": 67,
   "metadata": {},
   "outputs": [
    {
     "data": {
      "text/html": [
       "<div>\n",
       "<style scoped>\n",
       "    .dataframe tbody tr th:only-of-type {\n",
       "        vertical-align: middle;\n",
       "    }\n",
       "\n",
       "    .dataframe tbody tr th {\n",
       "        vertical-align: top;\n",
       "    }\n",
       "\n",
       "    .dataframe thead th {\n",
       "        text-align: right;\n",
       "    }\n",
       "</style>\n",
       "<table border=\"1\" class=\"dataframe\">\n",
       "  <thead>\n",
       "    <tr style=\"text-align: right;\">\n",
       "      <th></th>\n",
       "      <th>price</th>\n",
       "      <th>yearOfRegistration</th>\n",
       "      <th>monthOfRegistration</th>\n",
       "      <th>powerPS</th>\n",
       "      <th>kilometer</th>\n",
       "      <th>gearbox</th>\n",
       "      <th>model</th>\n",
       "      <th>fuelType</th>\n",
       "      <th>brand</th>\n",
       "      <th>vehicleType</th>\n",
       "    </tr>\n",
       "  </thead>\n",
       "  <tbody>\n",
       "    <tr>\n",
       "      <th>0</th>\n",
       "      <td>NaN</td>\n",
       "      <td>NaN</td>\n",
       "      <td>NaN</td>\n",
       "      <td>NaN</td>\n",
       "      <td>NaN</td>\n",
       "      <td>2</td>\n",
       "      <td>24</td>\n",
       "      <td>2</td>\n",
       "      <td>10</td>\n",
       "      <td>6</td>\n",
       "    </tr>\n",
       "    <tr>\n",
       "      <th>1</th>\n",
       "      <td>15.182945</td>\n",
       "      <td>1996.0</td>\n",
       "      <td>0.0</td>\n",
       "      <td>150.0</td>\n",
       "      <td>50.000000</td>\n",
       "      <td>2</td>\n",
       "      <td>66</td>\n",
       "      <td>0</td>\n",
       "      <td>2</td>\n",
       "      <td>3</td>\n",
       "    </tr>\n",
       "    <tr>\n",
       "      <th>2</th>\n",
       "      <td>13.005914</td>\n",
       "      <td>1998.0</td>\n",
       "      <td>0.0</td>\n",
       "      <td>150.0</td>\n",
       "      <td>53.132928</td>\n",
       "      <td>2</td>\n",
       "      <td>60</td>\n",
       "      <td>2</td>\n",
       "      <td>20</td>\n",
       "      <td>6</td>\n",
       "    </tr>\n",
       "    <tr>\n",
       "      <th>3</th>\n",
       "      <td>15.874011</td>\n",
       "      <td>2006.0</td>\n",
       "      <td>7.0</td>\n",
       "      <td>0.0</td>\n",
       "      <td>53.132928</td>\n",
       "      <td>2</td>\n",
       "      <td>54</td>\n",
       "      <td>4</td>\n",
       "      <td>1</td>\n",
       "      <td>7</td>\n",
       "    </tr>\n",
       "    <tr>\n",
       "      <th>4</th>\n",
       "      <td>13.750689</td>\n",
       "      <td>2002.0</td>\n",
       "      <td>7.0</td>\n",
       "      <td>41.0</td>\n",
       "      <td>53.132928</td>\n",
       "      <td>1</td>\n",
       "      <td>49</td>\n",
       "      <td>4</td>\n",
       "      <td>32</td>\n",
       "      <td>3</td>\n",
       "    </tr>\n",
       "    <tr>\n",
       "      <th>5</th>\n",
       "      <td>13.049124</td>\n",
       "      <td>2001.0</td>\n",
       "      <td>10.0</td>\n",
       "      <td>143.0</td>\n",
       "      <td>53.132928</td>\n",
       "      <td>2</td>\n",
       "      <td>66</td>\n",
       "      <td>2</td>\n",
       "      <td>2</td>\n",
       "      <td>7</td>\n",
       "    </tr>\n",
       "    <tr>\n",
       "      <th>6</th>\n",
       "      <td>15.874011</td>\n",
       "      <td>2008.0</td>\n",
       "      <td>11.0</td>\n",
       "      <td>69.0</td>\n",
       "      <td>50.000000</td>\n",
       "      <td>2</td>\n",
       "      <td>26</td>\n",
       "      <td>2</td>\n",
       "      <td>36</td>\n",
       "      <td>5</td>\n",
       "    </tr>\n",
       "    <tr>\n",
       "      <th>7</th>\n",
       "      <td>8.291344</td>\n",
       "      <td>1999.0</td>\n",
       "      <td>6.0</td>\n",
       "      <td>180.0</td>\n",
       "      <td>53.132928</td>\n",
       "      <td>2</td>\n",
       "      <td>62</td>\n",
       "      <td>4</td>\n",
       "      <td>1</td>\n",
       "      <td>6</td>\n",
       "    </tr>\n",
       "    <tr>\n",
       "      <th>8</th>\n",
       "      <td>21.543629</td>\n",
       "      <td>2005.0</td>\n",
       "      <td>10.0</td>\n",
       "      <td>200.0</td>\n",
       "      <td>53.132928</td>\n",
       "      <td>2</td>\n",
       "      <td>69</td>\n",
       "      <td>2</td>\n",
       "      <td>38</td>\n",
       "      <td>5</td>\n",
       "    </tr>\n",
       "    <tr>\n",
       "      <th>9</th>\n",
       "      <td>25.712312</td>\n",
       "      <td>2006.0</td>\n",
       "      <td>1.0</td>\n",
       "      <td>131.0</td>\n",
       "      <td>53.132928</td>\n",
       "      <td>2</td>\n",
       "      <td>55</td>\n",
       "      <td>4</td>\n",
       "      <td>38</td>\n",
       "      <td>2</td>\n",
       "    </tr>\n",
       "    <tr>\n",
       "      <th>10</th>\n",
       "      <td>22.440170</td>\n",
       "      <td>2000.0</td>\n",
       "      <td>3.0</td>\n",
       "      <td>218.0</td>\n",
       "      <td>44.814047</td>\n",
       "      <td>2</td>\n",
       "      <td>33</td>\n",
       "      <td>2</td>\n",
       "      <td>20</td>\n",
       "      <td>3</td>\n",
       "    </tr>\n",
       "    <tr>\n",
       "      <th>11</th>\n",
       "      <td>NaN</td>\n",
       "      <td>NaN</td>\n",
       "      <td>NaN</td>\n",
       "      <td>NaN</td>\n",
       "      <td>NaN</td>\n",
       "      <td>1</td>\n",
       "      <td>68</td>\n",
       "      <td>2</td>\n",
       "      <td>20</td>\n",
       "      <td>4</td>\n",
       "    </tr>\n",
       "    <tr>\n",
       "      <th>12</th>\n",
       "      <td>15.872688</td>\n",
       "      <td>2006.0</td>\n",
       "      <td>10.0</td>\n",
       "      <td>80.0</td>\n",
       "      <td>46.415888</td>\n",
       "      <td>2</td>\n",
       "      <td>69</td>\n",
       "      <td>2</td>\n",
       "      <td>38</td>\n",
       "      <td>7</td>\n",
       "    </tr>\n",
       "    <tr>\n",
       "      <th>13</th>\n",
       "      <td>NaN</td>\n",
       "      <td>NaN</td>\n",
       "      <td>NaN</td>\n",
       "      <td>NaN</td>\n",
       "      <td>NaN</td>\n",
       "      <td>2</td>\n",
       "      <td>67</td>\n",
       "      <td>0</td>\n",
       "      <td>1</td>\n",
       "      <td>5</td>\n",
       "    </tr>\n",
       "    <tr>\n",
       "      <th>14</th>\n",
       "      <td>15.110298</td>\n",
       "      <td>2006.0</td>\n",
       "      <td>11.0</td>\n",
       "      <td>120.0</td>\n",
       "      <td>53.132928</td>\n",
       "      <td>2</td>\n",
       "      <td>44</td>\n",
       "      <td>4</td>\n",
       "      <td>24</td>\n",
       "      <td>2</td>\n",
       "    </tr>\n",
       "    <tr>\n",
       "      <th>15</th>\n",
       "      <td>NaN</td>\n",
       "      <td>NaN</td>\n",
       "      <td>NaN</td>\n",
       "      <td>NaN</td>\n",
       "      <td>NaN</td>\n",
       "      <td>1</td>\n",
       "      <td>67</td>\n",
       "      <td>2</td>\n",
       "      <td>33</td>\n",
       "      <td>4</td>\n",
       "    </tr>\n",
       "    <tr>\n",
       "      <th>16</th>\n",
       "      <td>7.937005</td>\n",
       "      <td>1997.0</td>\n",
       "      <td>3.0</td>\n",
       "      <td>60.0</td>\n",
       "      <td>53.132928</td>\n",
       "      <td>2</td>\n",
       "      <td>64</td>\n",
       "      <td>2</td>\n",
       "      <td>24</td>\n",
       "      <td>5</td>\n",
       "    </tr>\n",
       "    <tr>\n",
       "      <th>17</th>\n",
       "      <td>NaN</td>\n",
       "      <td>NaN</td>\n",
       "      <td>NaN</td>\n",
       "      <td>NaN</td>\n",
       "      <td>NaN</td>\n",
       "      <td>1</td>\n",
       "      <td>69</td>\n",
       "      <td>2</td>\n",
       "      <td>38</td>\n",
       "      <td>7</td>\n",
       "    </tr>\n",
       "    <tr>\n",
       "      <th>18</th>\n",
       "      <td>7.937005</td>\n",
       "      <td>2017.0</td>\n",
       "      <td>0.0</td>\n",
       "      <td>0.0</td>\n",
       "      <td>53.132928</td>\n",
       "      <td>2</td>\n",
       "      <td>53</td>\n",
       "      <td>2</td>\n",
       "      <td>27</td>\n",
       "      <td>0</td>\n",
       "    </tr>\n",
       "    <tr>\n",
       "      <th>19</th>\n",
       "      <td>5.838272</td>\n",
       "      <td>2000.0</td>\n",
       "      <td>0.0</td>\n",
       "      <td>60.0</td>\n",
       "      <td>53.132928</td>\n",
       "      <td>2</td>\n",
       "      <td>64</td>\n",
       "      <td>0</td>\n",
       "      <td>24</td>\n",
       "      <td>0</td>\n",
       "    </tr>\n",
       "    <tr>\n",
       "      <th>20</th>\n",
       "      <td>14.094597</td>\n",
       "      <td>2004.0</td>\n",
       "      <td>8.0</td>\n",
       "      <td>50.0</td>\n",
       "      <td>41.212853</td>\n",
       "      <td>2</td>\n",
       "      <td>21</td>\n",
       "      <td>2</td>\n",
       "      <td>30</td>\n",
       "      <td>5</td>\n",
       "    </tr>\n",
       "    <tr>\n",
       "      <th>21</th>\n",
       "      <td>19.486074</td>\n",
       "      <td>2007.0</td>\n",
       "      <td>10.0</td>\n",
       "      <td>140.0</td>\n",
       "      <td>53.132928</td>\n",
       "      <td>1</td>\n",
       "      <td>61</td>\n",
       "      <td>4</td>\n",
       "      <td>38</td>\n",
       "      <td>6</td>\n",
       "    </tr>\n",
       "    <tr>\n",
       "      <th>22</th>\n",
       "      <td>NaN</td>\n",
       "      <td>NaN</td>\n",
       "      <td>NaN</td>\n",
       "      <td>NaN</td>\n",
       "      <td>NaN</td>\n",
       "      <td>0</td>\n",
       "      <td>23</td>\n",
       "      <td>0</td>\n",
       "      <td>19</td>\n",
       "      <td>7</td>\n",
       "    </tr>\n",
       "    <tr>\n",
       "      <th>23</th>\n",
       "      <td>13.005914</td>\n",
       "      <td>2005.0</td>\n",
       "      <td>1.0</td>\n",
       "      <td>60.0</td>\n",
       "      <td>43.088694</td>\n",
       "      <td>2</td>\n",
       "      <td>64</td>\n",
       "      <td>2</td>\n",
       "      <td>24</td>\n",
       "      <td>5</td>\n",
       "    </tr>\n",
       "    <tr>\n",
       "      <th>24</th>\n",
       "      <td>NaN</td>\n",
       "      <td>NaN</td>\n",
       "      <td>NaN</td>\n",
       "      <td>NaN</td>\n",
       "      <td>NaN</td>\n",
       "      <td>2</td>\n",
       "      <td>51</td>\n",
       "      <td>2</td>\n",
       "      <td>25</td>\n",
       "      <td>7</td>\n",
       "    </tr>\n",
       "    <tr>\n",
       "      <th>25</th>\n",
       "      <td>17.099759</td>\n",
       "      <td>2000.0</td>\n",
       "      <td>8.0</td>\n",
       "      <td>150.0</td>\n",
       "      <td>53.132928</td>\n",
       "      <td>2</td>\n",
       "      <td>11</td>\n",
       "      <td>2</td>\n",
       "      <td>36</td>\n",
       "      <td>8</td>\n",
       "    </tr>\n",
       "    <tr>\n",
       "      <th>26</th>\n",
       "      <td>NaN</td>\n",
       "      <td>NaN</td>\n",
       "      <td>NaN</td>\n",
       "      <td>NaN</td>\n",
       "      <td>NaN</td>\n",
       "      <td>1</td>\n",
       "      <td>42</td>\n",
       "      <td>4</td>\n",
       "      <td>10</td>\n",
       "      <td>6</td>\n",
       "    </tr>\n",
       "    <tr>\n",
       "      <th>27</th>\n",
       "      <td>NaN</td>\n",
       "      <td>NaN</td>\n",
       "      <td>NaN</td>\n",
       "      <td>NaN</td>\n",
       "      <td>NaN</td>\n",
       "      <td>2</td>\n",
       "      <td>68</td>\n",
       "      <td>2</td>\n",
       "      <td>36</td>\n",
       "      <td>8</td>\n",
       "    </tr>\n",
       "    <tr>\n",
       "      <th>28</th>\n",
       "      <td>17.434037</td>\n",
       "      <td>2004.0</td>\n",
       "      <td>11.0</td>\n",
       "      <td>105.0</td>\n",
       "      <td>53.132928</td>\n",
       "      <td>2</td>\n",
       "      <td>69</td>\n",
       "      <td>4</td>\n",
       "      <td>38</td>\n",
       "      <td>7</td>\n",
       "    </tr>\n",
       "    <tr>\n",
       "      <th>29</th>\n",
       "      <td>10.000000</td>\n",
       "      <td>1995.0</td>\n",
       "      <td>12.0</td>\n",
       "      <td>101.0</td>\n",
       "      <td>53.132928</td>\n",
       "      <td>2</td>\n",
       "      <td>62</td>\n",
       "      <td>2</td>\n",
       "      <td>1</td>\n",
       "      <td>7</td>\n",
       "    </tr>\n",
       "    <tr>\n",
       "      <th>30</th>\n",
       "      <td>19.831925</td>\n",
       "      <td>2005.0</td>\n",
       "      <td>11.0</td>\n",
       "      <td>218.0</td>\n",
       "      <td>53.132928</td>\n",
       "      <td>1</td>\n",
       "      <td>38</td>\n",
       "      <td>4</td>\n",
       "      <td>2</td>\n",
       "      <td>8</td>\n",
       "    </tr>\n",
       "    <tr>\n",
       "      <th>31</th>\n",
       "      <td>6.686883</td>\n",
       "      <td>1995.0</td>\n",
       "      <td>9.0</td>\n",
       "      <td>75.0</td>\n",
       "      <td>53.132928</td>\n",
       "      <td>2</td>\n",
       "      <td>69</td>\n",
       "      <td>2</td>\n",
       "      <td>38</td>\n",
       "      <td>5</td>\n",
       "    </tr>\n",
       "    <tr>\n",
       "      <th>32</th>\n",
       "      <td>11.934832</td>\n",
       "      <td>2003.0</td>\n",
       "      <td>8.0</td>\n",
       "      <td>83.0</td>\n",
       "      <td>46.415888</td>\n",
       "      <td>2</td>\n",
       "      <td>3</td>\n",
       "      <td>2</td>\n",
       "      <td>7</td>\n",
       "      <td>5</td>\n",
       "    </tr>\n",
       "    <tr>\n",
       "      <th>33</th>\n",
       "      <td>9.085603</td>\n",
       "      <td>1994.0</td>\n",
       "      <td>5.0</td>\n",
       "      <td>80.0</td>\n",
       "      <td>50.000000</td>\n",
       "      <td>2</td>\n",
       "      <td>64</td>\n",
       "      <td>2</td>\n",
       "      <td>24</td>\n",
       "      <td>5</td>\n",
       "    </tr>\n",
       "    <tr>\n",
       "      <th>34</th>\n",
       "      <td>16.134286</td>\n",
       "      <td>2003.0</td>\n",
       "      <td>1.0</td>\n",
       "      <td>110.0</td>\n",
       "      <td>53.132928</td>\n",
       "      <td>2</td>\n",
       "      <td>10</td>\n",
       "      <td>2</td>\n",
       "      <td>1</td>\n",
       "      <td>5</td>\n",
       "    </tr>\n",
       "    <tr>\n",
       "      <th>35</th>\n",
       "      <td>21.029437</td>\n",
       "      <td>2007.0</td>\n",
       "      <td>8.0</td>\n",
       "      <td>205.0</td>\n",
       "      <td>53.132928</td>\n",
       "      <td>2</td>\n",
       "      <td>62</td>\n",
       "      <td>4</td>\n",
       "      <td>1</td>\n",
       "      <td>6</td>\n",
       "    </tr>\n",
       "    <tr>\n",
       "      <th>36</th>\n",
       "      <td>21.897596</td>\n",
       "      <td>2005.0</td>\n",
       "      <td>3.0</td>\n",
       "      <td>203.0</td>\n",
       "      <td>53.132928</td>\n",
       "      <td>2</td>\n",
       "      <td>62</td>\n",
       "      <td>4</td>\n",
       "      <td>1</td>\n",
       "      <td>1</td>\n",
       "    </tr>\n",
       "    <tr>\n",
       "      <th>37</th>\n",
       "      <td>12.141835</td>\n",
       "      <td>2018.0</td>\n",
       "      <td>4.0</td>\n",
       "      <td>58.0</td>\n",
       "      <td>50.000000</td>\n",
       "      <td>2</td>\n",
       "      <td>53</td>\n",
       "      <td>2</td>\n",
       "      <td>27</td>\n",
       "      <td>0</td>\n",
       "    </tr>\n",
       "    <tr>\n",
       "      <th>38</th>\n",
       "      <td>17.489790</td>\n",
       "      <td>2006.0</td>\n",
       "      <td>10.0</td>\n",
       "      <td>163.0</td>\n",
       "      <td>53.132928</td>\n",
       "      <td>1</td>\n",
       "      <td>68</td>\n",
       "      <td>4</td>\n",
       "      <td>12</td>\n",
       "      <td>8</td>\n",
       "    </tr>\n",
       "    <tr>\n",
       "      <th>39</th>\n",
       "      <td>11.186889</td>\n",
       "      <td>2001.0</td>\n",
       "      <td>0.0</td>\n",
       "      <td>75.0</td>\n",
       "      <td>46.415888</td>\n",
       "      <td>1</td>\n",
       "      <td>53</td>\n",
       "      <td>2</td>\n",
       "      <td>27</td>\n",
       "      <td>5</td>\n",
       "    </tr>\n",
       "    <tr>\n",
       "      <th>40</th>\n",
       "      <td>9.205164</td>\n",
       "      <td>1998.0</td>\n",
       "      <td>11.0</td>\n",
       "      <td>60.0</td>\n",
       "      <td>46.415888</td>\n",
       "      <td>2</td>\n",
       "      <td>41</td>\n",
       "      <td>2</td>\n",
       "      <td>10</td>\n",
       "      <td>5</td>\n",
       "    </tr>\n",
       "    <tr>\n",
       "      <th>41</th>\n",
       "      <td>7.368063</td>\n",
       "      <td>1998.0</td>\n",
       "      <td>7.0</td>\n",
       "      <td>100.0</td>\n",
       "      <td>50.000000</td>\n",
       "      <td>2</td>\n",
       "      <td>67</td>\n",
       "      <td>0</td>\n",
       "      <td>9</td>\n",
       "      <td>6</td>\n",
       "    </tr>\n",
       "    <tr>\n",
       "      <th>42</th>\n",
       "      <td>9.654894</td>\n",
       "      <td>1997.0</td>\n",
       "      <td>0.0</td>\n",
       "      <td>0.0</td>\n",
       "      <td>53.132928</td>\n",
       "      <td>2</td>\n",
       "      <td>64</td>\n",
       "      <td>2</td>\n",
       "      <td>24</td>\n",
       "      <td>5</td>\n",
       "    </tr>\n",
       "    <tr>\n",
       "      <th>43</th>\n",
       "      <td>7.047299</td>\n",
       "      <td>2001.0</td>\n",
       "      <td>2.0</td>\n",
       "      <td>75.0</td>\n",
       "      <td>53.132928</td>\n",
       "      <td>2</td>\n",
       "      <td>54</td>\n",
       "      <td>2</td>\n",
       "      <td>10</td>\n",
       "      <td>5</td>\n",
       "    </tr>\n",
       "    <tr>\n",
       "      <th>44</th>\n",
       "      <td>8.836556</td>\n",
       "      <td>1999.0</td>\n",
       "      <td>1.0</td>\n",
       "      <td>75.0</td>\n",
       "      <td>53.132928</td>\n",
       "      <td>2</td>\n",
       "      <td>51</td>\n",
       "      <td>2</td>\n",
       "      <td>25</td>\n",
       "      <td>5</td>\n",
       "    </tr>\n",
       "    <tr>\n",
       "      <th>45</th>\n",
       "      <td>NaN</td>\n",
       "      <td>NaN</td>\n",
       "      <td>NaN</td>\n",
       "      <td>NaN</td>\n",
       "      <td>NaN</td>\n",
       "      <td>1</td>\n",
       "      <td>22</td>\n",
       "      <td>2</td>\n",
       "      <td>26</td>\n",
       "      <td>3</td>\n",
       "    </tr>\n",
       "    <tr>\n",
       "      <th>46</th>\n",
       "      <td>10.626586</td>\n",
       "      <td>1998.0</td>\n",
       "      <td>1.0</td>\n",
       "      <td>0.0</td>\n",
       "      <td>53.132928</td>\n",
       "      <td>2</td>\n",
       "      <td>58</td>\n",
       "      <td>2</td>\n",
       "      <td>2</td>\n",
       "      <td>7</td>\n",
       "    </tr>\n",
       "    <tr>\n",
       "      <th>47</th>\n",
       "      <td>17.544106</td>\n",
       "      <td>2009.0</td>\n",
       "      <td>10.0</td>\n",
       "      <td>125.0</td>\n",
       "      <td>53.132928</td>\n",
       "      <td>2</td>\n",
       "      <td>67</td>\n",
       "      <td>0</td>\n",
       "      <td>30</td>\n",
       "      <td>0</td>\n",
       "    </tr>\n",
       "    <tr>\n",
       "      <th>48</th>\n",
       "      <td>22.172202</td>\n",
       "      <td>2004.0</td>\n",
       "      <td>2.0</td>\n",
       "      <td>204.0</td>\n",
       "      <td>53.132928</td>\n",
       "      <td>1</td>\n",
       "      <td>38</td>\n",
       "      <td>4</td>\n",
       "      <td>2</td>\n",
       "      <td>8</td>\n",
       "    </tr>\n",
       "    <tr>\n",
       "      <th>49</th>\n",
       "      <td>13.005914</td>\n",
       "      <td>2016.0</td>\n",
       "      <td>0.0</td>\n",
       "      <td>99.0</td>\n",
       "      <td>53.132928</td>\n",
       "      <td>2</td>\n",
       "      <td>66</td>\n",
       "      <td>7</td>\n",
       "      <td>2</td>\n",
       "      <td>0</td>\n",
       "    </tr>\n",
       "  </tbody>\n",
       "</table>\n",
       "</div>"
      ],
      "text/plain": [
       "        price  yearOfRegistration  monthOfRegistration  powerPS  kilometer  \\\n",
       "0         NaN                 NaN                  NaN      NaN        NaN   \n",
       "1   15.182945              1996.0                  0.0    150.0  50.000000   \n",
       "2   13.005914              1998.0                  0.0    150.0  53.132928   \n",
       "3   15.874011              2006.0                  7.0      0.0  53.132928   \n",
       "4   13.750689              2002.0                  7.0     41.0  53.132928   \n",
       "5   13.049124              2001.0                 10.0    143.0  53.132928   \n",
       "6   15.874011              2008.0                 11.0     69.0  50.000000   \n",
       "7    8.291344              1999.0                  6.0    180.0  53.132928   \n",
       "8   21.543629              2005.0                 10.0    200.0  53.132928   \n",
       "9   25.712312              2006.0                  1.0    131.0  53.132928   \n",
       "10  22.440170              2000.0                  3.0    218.0  44.814047   \n",
       "11        NaN                 NaN                  NaN      NaN        NaN   \n",
       "12  15.872688              2006.0                 10.0     80.0  46.415888   \n",
       "13        NaN                 NaN                  NaN      NaN        NaN   \n",
       "14  15.110298              2006.0                 11.0    120.0  53.132928   \n",
       "15        NaN                 NaN                  NaN      NaN        NaN   \n",
       "16   7.937005              1997.0                  3.0     60.0  53.132928   \n",
       "17        NaN                 NaN                  NaN      NaN        NaN   \n",
       "18   7.937005              2017.0                  0.0      0.0  53.132928   \n",
       "19   5.838272              2000.0                  0.0     60.0  53.132928   \n",
       "20  14.094597              2004.0                  8.0     50.0  41.212853   \n",
       "21  19.486074              2007.0                 10.0    140.0  53.132928   \n",
       "22        NaN                 NaN                  NaN      NaN        NaN   \n",
       "23  13.005914              2005.0                  1.0     60.0  43.088694   \n",
       "24        NaN                 NaN                  NaN      NaN        NaN   \n",
       "25  17.099759              2000.0                  8.0    150.0  53.132928   \n",
       "26        NaN                 NaN                  NaN      NaN        NaN   \n",
       "27        NaN                 NaN                  NaN      NaN        NaN   \n",
       "28  17.434037              2004.0                 11.0    105.0  53.132928   \n",
       "29  10.000000              1995.0                 12.0    101.0  53.132928   \n",
       "30  19.831925              2005.0                 11.0    218.0  53.132928   \n",
       "31   6.686883              1995.0                  9.0     75.0  53.132928   \n",
       "32  11.934832              2003.0                  8.0     83.0  46.415888   \n",
       "33   9.085603              1994.0                  5.0     80.0  50.000000   \n",
       "34  16.134286              2003.0                  1.0    110.0  53.132928   \n",
       "35  21.029437              2007.0                  8.0    205.0  53.132928   \n",
       "36  21.897596              2005.0                  3.0    203.0  53.132928   \n",
       "37  12.141835              2018.0                  4.0     58.0  50.000000   \n",
       "38  17.489790              2006.0                 10.0    163.0  53.132928   \n",
       "39  11.186889              2001.0                  0.0     75.0  46.415888   \n",
       "40   9.205164              1998.0                 11.0     60.0  46.415888   \n",
       "41   7.368063              1998.0                  7.0    100.0  50.000000   \n",
       "42   9.654894              1997.0                  0.0      0.0  53.132928   \n",
       "43   7.047299              2001.0                  2.0     75.0  53.132928   \n",
       "44   8.836556              1999.0                  1.0     75.0  53.132928   \n",
       "45        NaN                 NaN                  NaN      NaN        NaN   \n",
       "46  10.626586              1998.0                  1.0      0.0  53.132928   \n",
       "47  17.544106              2009.0                 10.0    125.0  53.132928   \n",
       "48  22.172202              2004.0                  2.0    204.0  53.132928   \n",
       "49  13.005914              2016.0                  0.0     99.0  53.132928   \n",
       "\n",
       "    gearbox  model  fuelType  brand  vehicleType  \n",
       "0         2     24         2     10            6  \n",
       "1         2     66         0      2            3  \n",
       "2         2     60         2     20            6  \n",
       "3         2     54         4      1            7  \n",
       "4         1     49         4     32            3  \n",
       "5         2     66         2      2            7  \n",
       "6         2     26         2     36            5  \n",
       "7         2     62         4      1            6  \n",
       "8         2     69         2     38            5  \n",
       "9         2     55         4     38            2  \n",
       "10        2     33         2     20            3  \n",
       "11        1     68         2     20            4  \n",
       "12        2     69         2     38            7  \n",
       "13        2     67         0      1            5  \n",
       "14        2     44         4     24            2  \n",
       "15        1     67         2     33            4  \n",
       "16        2     64         2     24            5  \n",
       "17        1     69         2     38            7  \n",
       "18        2     53         2     27            0  \n",
       "19        2     64         0     24            0  \n",
       "20        2     21         2     30            5  \n",
       "21        1     61         4     38            6  \n",
       "22        0     23         0     19            7  \n",
       "23        2     64         2     24            5  \n",
       "24        2     51         2     25            7  \n",
       "25        2     11         2     36            8  \n",
       "26        1     42         4     10            6  \n",
       "27        2     68         2     36            8  \n",
       "28        2     69         4     38            7  \n",
       "29        2     62         2      1            7  \n",
       "30        1     38         4      2            8  \n",
       "31        2     69         2     38            5  \n",
       "32        2      3         2      7            5  \n",
       "33        2     64         2     24            5  \n",
       "34        2     10         2      1            5  \n",
       "35        2     62         4      1            6  \n",
       "36        2     62         4      1            1  \n",
       "37        2     53         2     27            0  \n",
       "38        1     68         4     12            8  \n",
       "39        1     53         2     27            5  \n",
       "40        2     41         2     10            5  \n",
       "41        2     67         0      9            6  \n",
       "42        2     64         2     24            5  \n",
       "43        2     54         2     10            5  \n",
       "44        2     51         2     25            5  \n",
       "45        1     22         2     26            3  \n",
       "46        2     58         2      2            7  \n",
       "47        2     67         0     30            0  \n",
       "48        1     38         4      2            8  \n",
       "49        2     66         7      2            0  "
      ]
     },
     "execution_count": 67,
     "metadata": {},
     "output_type": "execute_result"
    }
   ],
   "source": [
    "cars1.head(50)"
   ]
  },
  {
   "cell_type": "code",
   "execution_count": 68,
   "metadata": {},
   "outputs": [],
   "source": [
    "#Drop the rows where at least one element is missing(as this may be an outlier where hadnt removed the outlier initially )\n",
    "cars1 = cars1.dropna() "
   ]
  },
  {
   "cell_type": "code",
   "execution_count": 69,
   "metadata": {},
   "outputs": [
    {
     "data": {
      "text/plain": [
       "price                  0\n",
       "yearOfRegistration     0\n",
       "monthOfRegistration    0\n",
       "powerPS                0\n",
       "kilometer              0\n",
       "gearbox                0\n",
       "model                  0\n",
       "fuelType               0\n",
       "brand                  0\n",
       "vehicleType            0\n",
       "dtype: int64"
      ]
     },
     "execution_count": 69,
     "metadata": {},
     "output_type": "execute_result"
    }
   ],
   "source": [
    "cars1.isnull().sum()"
   ]
  },
  {
   "cell_type": "code",
   "execution_count": 70,
   "metadata": {},
   "outputs": [
    {
     "data": {
      "text/html": [
       "<div>\n",
       "<style scoped>\n",
       "    .dataframe tbody tr th:only-of-type {\n",
       "        vertical-align: middle;\n",
       "    }\n",
       "\n",
       "    .dataframe tbody tr th {\n",
       "        vertical-align: top;\n",
       "    }\n",
       "\n",
       "    .dataframe thead th {\n",
       "        text-align: right;\n",
       "    }\n",
       "</style>\n",
       "<table border=\"1\" class=\"dataframe\">\n",
       "  <thead>\n",
       "    <tr style=\"text-align: right;\">\n",
       "      <th></th>\n",
       "      <th>price</th>\n",
       "      <th>yearOfRegistration</th>\n",
       "      <th>monthOfRegistration</th>\n",
       "      <th>powerPS</th>\n",
       "      <th>kilometer</th>\n",
       "      <th>gearbox</th>\n",
       "      <th>model</th>\n",
       "      <th>fuelType</th>\n",
       "      <th>brand</th>\n",
       "      <th>vehicleType</th>\n",
       "    </tr>\n",
       "  </thead>\n",
       "  <tbody>\n",
       "    <tr>\n",
       "      <th>1</th>\n",
       "      <td>15.182945</td>\n",
       "      <td>1996.0</td>\n",
       "      <td>0.0</td>\n",
       "      <td>150.0</td>\n",
       "      <td>50.000000</td>\n",
       "      <td>2</td>\n",
       "      <td>66</td>\n",
       "      <td>0</td>\n",
       "      <td>2</td>\n",
       "      <td>3</td>\n",
       "    </tr>\n",
       "    <tr>\n",
       "      <th>2</th>\n",
       "      <td>13.005914</td>\n",
       "      <td>1998.0</td>\n",
       "      <td>0.0</td>\n",
       "      <td>150.0</td>\n",
       "      <td>53.132928</td>\n",
       "      <td>2</td>\n",
       "      <td>60</td>\n",
       "      <td>2</td>\n",
       "      <td>20</td>\n",
       "      <td>6</td>\n",
       "    </tr>\n",
       "    <tr>\n",
       "      <th>3</th>\n",
       "      <td>15.874011</td>\n",
       "      <td>2006.0</td>\n",
       "      <td>7.0</td>\n",
       "      <td>0.0</td>\n",
       "      <td>53.132928</td>\n",
       "      <td>2</td>\n",
       "      <td>54</td>\n",
       "      <td>4</td>\n",
       "      <td>1</td>\n",
       "      <td>7</td>\n",
       "    </tr>\n",
       "    <tr>\n",
       "      <th>4</th>\n",
       "      <td>13.750689</td>\n",
       "      <td>2002.0</td>\n",
       "      <td>7.0</td>\n",
       "      <td>41.0</td>\n",
       "      <td>53.132928</td>\n",
       "      <td>1</td>\n",
       "      <td>49</td>\n",
       "      <td>4</td>\n",
       "      <td>32</td>\n",
       "      <td>3</td>\n",
       "    </tr>\n",
       "    <tr>\n",
       "      <th>5</th>\n",
       "      <td>13.049124</td>\n",
       "      <td>2001.0</td>\n",
       "      <td>10.0</td>\n",
       "      <td>143.0</td>\n",
       "      <td>53.132928</td>\n",
       "      <td>2</td>\n",
       "      <td>66</td>\n",
       "      <td>2</td>\n",
       "      <td>2</td>\n",
       "      <td>7</td>\n",
       "    </tr>\n",
       "  </tbody>\n",
       "</table>\n",
       "</div>"
      ],
      "text/plain": [
       "       price  yearOfRegistration  monthOfRegistration  powerPS  kilometer  \\\n",
       "1  15.182945              1996.0                  0.0    150.0  50.000000   \n",
       "2  13.005914              1998.0                  0.0    150.0  53.132928   \n",
       "3  15.874011              2006.0                  7.0      0.0  53.132928   \n",
       "4  13.750689              2002.0                  7.0     41.0  53.132928   \n",
       "5  13.049124              2001.0                 10.0    143.0  53.132928   \n",
       "\n",
       "   gearbox  model  fuelType  brand  vehicleType  \n",
       "1        2     66         0      2            3  \n",
       "2        2     60         2     20            6  \n",
       "3        2     54         4      1            7  \n",
       "4        1     49         4     32            3  \n",
       "5        2     66         2      2            7  "
      ]
     },
     "execution_count": 70,
     "metadata": {},
     "output_type": "execute_result"
    }
   ],
   "source": [
    "cars1.head()"
   ]
  },
  {
   "cell_type": "markdown",
   "metadata": {},
   "source": [
    "## 3. Scaling the dataset"
   ]
  },
  {
   "cell_type": "code",
   "execution_count": null,
   "metadata": {},
   "outputs": [],
   "source": [
    "#feature scaling\n",
    "from sklearn.preprocessing import MinMaxScaler"
   ]
  },
  {
   "cell_type": "code",
   "execution_count": 72,
   "metadata": {},
   "outputs": [
    {
     "data": {
      "text/html": [
       "<div>\n",
       "<style scoped>\n",
       "    .dataframe tbody tr th:only-of-type {\n",
       "        vertical-align: middle;\n",
       "    }\n",
       "\n",
       "    .dataframe tbody tr th {\n",
       "        vertical-align: top;\n",
       "    }\n",
       "\n",
       "    .dataframe thead th {\n",
       "        text-align: right;\n",
       "    }\n",
       "</style>\n",
       "<table border=\"1\" class=\"dataframe\">\n",
       "  <thead>\n",
       "    <tr style=\"text-align: right;\">\n",
       "      <th></th>\n",
       "      <th>price</th>\n",
       "      <th>yearOfRegistration</th>\n",
       "      <th>monthOfRegistration</th>\n",
       "      <th>powerPS</th>\n",
       "      <th>kilometer</th>\n",
       "      <th>gearbox</th>\n",
       "      <th>model</th>\n",
       "      <th>fuelType</th>\n",
       "      <th>brand</th>\n",
       "      <th>vehicleType</th>\n",
       "    </tr>\n",
       "  </thead>\n",
       "  <tbody>\n",
       "    <tr>\n",
       "      <th>0</th>\n",
       "      <td>0.478732</td>\n",
       "      <td>0.303030</td>\n",
       "      <td>0.000000</td>\n",
       "      <td>0.614754</td>\n",
       "      <td>0.737172</td>\n",
       "      <td>1.0</td>\n",
       "      <td>0.956522</td>\n",
       "      <td>0.000000</td>\n",
       "      <td>0.051282</td>\n",
       "      <td>0.375</td>\n",
       "    </tr>\n",
       "    <tr>\n",
       "      <th>1</th>\n",
       "      <td>0.410088</td>\n",
       "      <td>0.363636</td>\n",
       "      <td>0.000000</td>\n",
       "      <td>0.614754</td>\n",
       "      <td>1.000000</td>\n",
       "      <td>1.0</td>\n",
       "      <td>0.869565</td>\n",
       "      <td>0.285714</td>\n",
       "      <td>0.512821</td>\n",
       "      <td>0.750</td>\n",
       "    </tr>\n",
       "    <tr>\n",
       "      <th>2</th>\n",
       "      <td>0.500522</td>\n",
       "      <td>0.606061</td>\n",
       "      <td>0.583333</td>\n",
       "      <td>0.000000</td>\n",
       "      <td>1.000000</td>\n",
       "      <td>1.0</td>\n",
       "      <td>0.782609</td>\n",
       "      <td>0.571429</td>\n",
       "      <td>0.025641</td>\n",
       "      <td>0.875</td>\n",
       "    </tr>\n",
       "    <tr>\n",
       "      <th>3</th>\n",
       "      <td>0.433572</td>\n",
       "      <td>0.484848</td>\n",
       "      <td>0.583333</td>\n",
       "      <td>0.168033</td>\n",
       "      <td>1.000000</td>\n",
       "      <td>0.5</td>\n",
       "      <td>0.710145</td>\n",
       "      <td>0.571429</td>\n",
       "      <td>0.820513</td>\n",
       "      <td>0.375</td>\n",
       "    </tr>\n",
       "    <tr>\n",
       "      <th>4</th>\n",
       "      <td>0.411451</td>\n",
       "      <td>0.454545</td>\n",
       "      <td>0.833333</td>\n",
       "      <td>0.586066</td>\n",
       "      <td>1.000000</td>\n",
       "      <td>1.0</td>\n",
       "      <td>0.956522</td>\n",
       "      <td>0.285714</td>\n",
       "      <td>0.051282</td>\n",
       "      <td>0.875</td>\n",
       "    </tr>\n",
       "  </tbody>\n",
       "</table>\n",
       "</div>"
      ],
      "text/plain": [
       "      price  yearOfRegistration  monthOfRegistration   powerPS  kilometer  \\\n",
       "0  0.478732            0.303030             0.000000  0.614754   0.737172   \n",
       "1  0.410088            0.363636             0.000000  0.614754   1.000000   \n",
       "2  0.500522            0.606061             0.583333  0.000000   1.000000   \n",
       "3  0.433572            0.484848             0.583333  0.168033   1.000000   \n",
       "4  0.411451            0.454545             0.833333  0.586066   1.000000   \n",
       "\n",
       "   gearbox     model  fuelType     brand  vehicleType  \n",
       "0      1.0  0.956522  0.000000  0.051282        0.375  \n",
       "1      1.0  0.869565  0.285714  0.512821        0.750  \n",
       "2      1.0  0.782609  0.571429  0.025641        0.875  \n",
       "3      0.5  0.710145  0.571429  0.820513        0.375  \n",
       "4      1.0  0.956522  0.285714  0.051282        0.875  "
      ]
     },
     "execution_count": 72,
     "metadata": {},
     "output_type": "execute_result"
    }
   ],
   "source": [
    "scaler = MinMaxScaler()\n",
    "scaled_data = scaler.fit_transform(cars1)\n",
    "scaled_data = pd.DataFrame(scaled_data, columns = cars1.columns)\n",
    "scaled_data.head()"
   ]
  },
  {
   "cell_type": "code",
   "execution_count": 73,
   "metadata": {
    "scrolled": true
   },
   "outputs": [
    {
     "data": {
      "text/html": [
       "<div>\n",
       "<style scoped>\n",
       "    .dataframe tbody tr th:only-of-type {\n",
       "        vertical-align: middle;\n",
       "    }\n",
       "\n",
       "    .dataframe tbody tr th {\n",
       "        vertical-align: top;\n",
       "    }\n",
       "\n",
       "    .dataframe thead th {\n",
       "        text-align: right;\n",
       "    }\n",
       "</style>\n",
       "<table border=\"1\" class=\"dataframe\">\n",
       "  <thead>\n",
       "    <tr style=\"text-align: right;\">\n",
       "      <th></th>\n",
       "      <th>price</th>\n",
       "      <th>yearOfRegistration</th>\n",
       "      <th>monthOfRegistration</th>\n",
       "      <th>powerPS</th>\n",
       "      <th>kilometer</th>\n",
       "      <th>gearbox</th>\n",
       "      <th>model</th>\n",
       "      <th>fuelType</th>\n",
       "      <th>brand</th>\n",
       "      <th>vehicleType</th>\n",
       "    </tr>\n",
       "  </thead>\n",
       "  <tbody>\n",
       "    <tr>\n",
       "      <th>1</th>\n",
       "      <td>15.182945</td>\n",
       "      <td>1996.0</td>\n",
       "      <td>0.0</td>\n",
       "      <td>150.0</td>\n",
       "      <td>50.000000</td>\n",
       "      <td>2</td>\n",
       "      <td>66</td>\n",
       "      <td>0</td>\n",
       "      <td>2</td>\n",
       "      <td>3</td>\n",
       "    </tr>\n",
       "    <tr>\n",
       "      <th>2</th>\n",
       "      <td>13.005914</td>\n",
       "      <td>1998.0</td>\n",
       "      <td>0.0</td>\n",
       "      <td>150.0</td>\n",
       "      <td>53.132928</td>\n",
       "      <td>2</td>\n",
       "      <td>60</td>\n",
       "      <td>2</td>\n",
       "      <td>20</td>\n",
       "      <td>6</td>\n",
       "    </tr>\n",
       "    <tr>\n",
       "      <th>3</th>\n",
       "      <td>15.874011</td>\n",
       "      <td>2006.0</td>\n",
       "      <td>7.0</td>\n",
       "      <td>0.0</td>\n",
       "      <td>53.132928</td>\n",
       "      <td>2</td>\n",
       "      <td>54</td>\n",
       "      <td>4</td>\n",
       "      <td>1</td>\n",
       "      <td>7</td>\n",
       "    </tr>\n",
       "    <tr>\n",
       "      <th>4</th>\n",
       "      <td>13.750689</td>\n",
       "      <td>2002.0</td>\n",
       "      <td>7.0</td>\n",
       "      <td>41.0</td>\n",
       "      <td>53.132928</td>\n",
       "      <td>1</td>\n",
       "      <td>49</td>\n",
       "      <td>4</td>\n",
       "      <td>32</td>\n",
       "      <td>3</td>\n",
       "    </tr>\n",
       "    <tr>\n",
       "      <th>5</th>\n",
       "      <td>13.049124</td>\n",
       "      <td>2001.0</td>\n",
       "      <td>10.0</td>\n",
       "      <td>143.0</td>\n",
       "      <td>53.132928</td>\n",
       "      <td>2</td>\n",
       "      <td>66</td>\n",
       "      <td>2</td>\n",
       "      <td>2</td>\n",
       "      <td>7</td>\n",
       "    </tr>\n",
       "  </tbody>\n",
       "</table>\n",
       "</div>"
      ],
      "text/plain": [
       "       price  yearOfRegistration  monthOfRegistration  powerPS  kilometer  \\\n",
       "1  15.182945              1996.0                  0.0    150.0  50.000000   \n",
       "2  13.005914              1998.0                  0.0    150.0  53.132928   \n",
       "3  15.874011              2006.0                  7.0      0.0  53.132928   \n",
       "4  13.750689              2002.0                  7.0     41.0  53.132928   \n",
       "5  13.049124              2001.0                 10.0    143.0  53.132928   \n",
       "\n",
       "   gearbox  model  fuelType  brand  vehicleType  \n",
       "1        2     66         0      2            3  \n",
       "2        2     60         2     20            6  \n",
       "3        2     54         4      1            7  \n",
       "4        1     49         4     32            3  \n",
       "5        2     66         2      2            7  "
      ]
     },
     "execution_count": 73,
     "metadata": {},
     "output_type": "execute_result"
    }
   ],
   "source": [
    "cars1.head() "
   ]
  },
  {
   "cell_type": "code",
   "execution_count": 74,
   "metadata": {},
   "outputs": [],
   "source": [
    "cars1 = scaled_data "
   ]
  },
  {
   "cell_type": "code",
   "execution_count": 75,
   "metadata": {},
   "outputs": [
    {
     "data": {
      "text/html": [
       "<div>\n",
       "<style scoped>\n",
       "    .dataframe tbody tr th:only-of-type {\n",
       "        vertical-align: middle;\n",
       "    }\n",
       "\n",
       "    .dataframe tbody tr th {\n",
       "        vertical-align: top;\n",
       "    }\n",
       "\n",
       "    .dataframe thead th {\n",
       "        text-align: right;\n",
       "    }\n",
       "</style>\n",
       "<table border=\"1\" class=\"dataframe\">\n",
       "  <thead>\n",
       "    <tr style=\"text-align: right;\">\n",
       "      <th></th>\n",
       "      <th>price</th>\n",
       "      <th>yearOfRegistration</th>\n",
       "      <th>monthOfRegistration</th>\n",
       "      <th>powerPS</th>\n",
       "      <th>kilometer</th>\n",
       "      <th>gearbox</th>\n",
       "      <th>model</th>\n",
       "      <th>fuelType</th>\n",
       "      <th>brand</th>\n",
       "      <th>vehicleType</th>\n",
       "    </tr>\n",
       "  </thead>\n",
       "  <tbody>\n",
       "    <tr>\n",
       "      <th>0</th>\n",
       "      <td>0.478732</td>\n",
       "      <td>0.303030</td>\n",
       "      <td>0.000000</td>\n",
       "      <td>0.614754</td>\n",
       "      <td>0.737172</td>\n",
       "      <td>1.0</td>\n",
       "      <td>0.956522</td>\n",
       "      <td>0.000000</td>\n",
       "      <td>0.051282</td>\n",
       "      <td>0.375</td>\n",
       "    </tr>\n",
       "    <tr>\n",
       "      <th>1</th>\n",
       "      <td>0.410088</td>\n",
       "      <td>0.363636</td>\n",
       "      <td>0.000000</td>\n",
       "      <td>0.614754</td>\n",
       "      <td>1.000000</td>\n",
       "      <td>1.0</td>\n",
       "      <td>0.869565</td>\n",
       "      <td>0.285714</td>\n",
       "      <td>0.512821</td>\n",
       "      <td>0.750</td>\n",
       "    </tr>\n",
       "    <tr>\n",
       "      <th>2</th>\n",
       "      <td>0.500522</td>\n",
       "      <td>0.606061</td>\n",
       "      <td>0.583333</td>\n",
       "      <td>0.000000</td>\n",
       "      <td>1.000000</td>\n",
       "      <td>1.0</td>\n",
       "      <td>0.782609</td>\n",
       "      <td>0.571429</td>\n",
       "      <td>0.025641</td>\n",
       "      <td>0.875</td>\n",
       "    </tr>\n",
       "    <tr>\n",
       "      <th>3</th>\n",
       "      <td>0.433572</td>\n",
       "      <td>0.484848</td>\n",
       "      <td>0.583333</td>\n",
       "      <td>0.168033</td>\n",
       "      <td>1.000000</td>\n",
       "      <td>0.5</td>\n",
       "      <td>0.710145</td>\n",
       "      <td>0.571429</td>\n",
       "      <td>0.820513</td>\n",
       "      <td>0.375</td>\n",
       "    </tr>\n",
       "    <tr>\n",
       "      <th>4</th>\n",
       "      <td>0.411451</td>\n",
       "      <td>0.454545</td>\n",
       "      <td>0.833333</td>\n",
       "      <td>0.586066</td>\n",
       "      <td>1.000000</td>\n",
       "      <td>1.0</td>\n",
       "      <td>0.956522</td>\n",
       "      <td>0.285714</td>\n",
       "      <td>0.051282</td>\n",
       "      <td>0.875</td>\n",
       "    </tr>\n",
       "  </tbody>\n",
       "</table>\n",
       "</div>"
      ],
      "text/plain": [
       "      price  yearOfRegistration  monthOfRegistration   powerPS  kilometer  \\\n",
       "0  0.478732            0.303030             0.000000  0.614754   0.737172   \n",
       "1  0.410088            0.363636             0.000000  0.614754   1.000000   \n",
       "2  0.500522            0.606061             0.583333  0.000000   1.000000   \n",
       "3  0.433572            0.484848             0.583333  0.168033   1.000000   \n",
       "4  0.411451            0.454545             0.833333  0.586066   1.000000   \n",
       "\n",
       "   gearbox     model  fuelType     brand  vehicleType  \n",
       "0      1.0  0.956522  0.000000  0.051282        0.375  \n",
       "1      1.0  0.869565  0.285714  0.512821        0.750  \n",
       "2      1.0  0.782609  0.571429  0.025641        0.875  \n",
       "3      0.5  0.710145  0.571429  0.820513        0.375  \n",
       "4      1.0  0.956522  0.285714  0.051282        0.875  "
      ]
     },
     "execution_count": 75,
     "metadata": {},
     "output_type": "execute_result"
    }
   ],
   "source": [
    "cars1.head() "
   ]
  },
  {
   "cell_type": "markdown",
   "metadata": {},
   "source": [
    "## 4. Splitting the dataset"
   ]
  },
  {
   "cell_type": "code",
   "execution_count": null,
   "metadata": {},
   "outputs": [],
   "source": [
    "#splitting tha dataset into train and test\n",
    "X = cars1.drop(['price'],axis=1)\n",
    "y = cars1['price']\n",
    "X.shape, y.shape"
   ]
  },
  {
   "cell_type": "code",
   "execution_count": 77,
   "metadata": {},
   "outputs": [],
   "source": [
    "from sklearn.model_selection import train_test_split\n",
    "train_X,test_X,train_y,test_y = train_test_split(X,y,test_size = 0.2,random_state = 56)"
   ]
  },
  {
   "cell_type": "markdown",
   "metadata": {},
   "source": [
    "## 5. Implementing various models and checking scores"
   ]
  },
  {
   "cell_type": "markdown",
   "metadata": {},
   "source": [
    "# MODEL 1 - LINEAR REGRESSION"
   ]
  },
  {
   "cell_type": "code",
   "execution_count": 78,
   "metadata": {},
   "outputs": [],
   "source": [
    "#implement linear regression\n",
    "from sklearn.linear_model import LinearRegression as LR #imported requ. library\n",
    "from sklearn.metrics import mean_absolute_error as mae"
   ]
  },
  {
   "cell_type": "code",
   "execution_count": 79,
   "metadata": {},
   "outputs": [
    {
     "data": {
      "text/plain": [
       "LinearRegression(copy_X=True, fit_intercept=True, n_jobs=None, normalize=False)"
      ]
     },
     "execution_count": 79,
     "metadata": {},
     "output_type": "execute_result"
    }
   ],
   "source": [
    "lr = LR() #creating an instance of it\n",
    "lr.fit(train_X,train_y) #fitting ove the TRAIN data"
   ]
  },
  {
   "cell_type": "code",
   "execution_count": 80,
   "metadata": {},
   "outputs": [
    {
     "name": "stdout",
     "output_type": "stream",
     "text": [
      "Training Mean absolute error 0.08800322430036087\n"
     ]
    }
   ],
   "source": [
    "train_predict = lr.predict(train_X)    # predicting over train data first and calculate mae(over train data)\n",
    "k = mae(train_predict,train_y)\n",
    "print('Training Mean absolute error', k)"
   ]
  },
  {
   "cell_type": "code",
   "execution_count": 81,
   "metadata": {},
   "outputs": [
    {
     "name": "stdout",
     "output_type": "stream",
     "text": [
      "Test Mean absolute error 0.0889142954368137\n"
     ]
    }
   ],
   "source": [
    "test_predict = lr.predict(test_X)  # predicting over test data first and calculate mae(over test data)\n",
    "k = mae(test_predict,test_y)\n",
    "print('Test Mean absolute error', k)"
   ]
  },
  {
   "cell_type": "code",
   "execution_count": 82,
   "metadata": {},
   "outputs": [
    {
     "data": {
      "text/plain": [
       "(0.0889142954368137,\n",
       " 0.5664114776999019,\n",
       " 0.5659415479430738,\n",
       " array([ 0.32758246,  0.03084471,  0.30572859, -0.16072818, -0.04226076,\n",
       "        -0.00610939,  0.19743138,  0.00955516,  0.07334742]),\n",
       " 0.1825033054621083)"
      ]
     },
     "execution_count": 82,
     "metadata": {},
     "output_type": "execute_result"
    }
   ],
   "source": [
    "from math import sqrt                   #first by MAE\n",
    "mae = mae(test_y,test_predict)    \n",
    "from sklearn.metrics import r2_score\n",
    "r2 = r2_score(test_y, test_predict)\n",
    "\n",
    "adj_r2 = 1 - float(len(y)-1)/(len(y)-len(lr.coef_)-1)*(1 - r2)\n",
    "\n",
    "mae, r2, adj_r2,  lr.coef_, lr.intercept_ #mae-error, r2 is the score by this model, lr.coef_is the angle & den d intercept"
   ]
  },
  {
   "cell_type": "code",
   "execution_count": 83,
   "metadata": {},
   "outputs": [
    {
     "data": {
      "text/plain": [
       "(0.12220680530198695,\n",
       " 0.5664114776999019,\n",
       " 0.5659415479430738,\n",
       " array([ 0.32758246,  0.03084471,  0.30572859, -0.16072818, -0.04226076,\n",
       "        -0.00610939,  0.19743138,  0.00955516,  0.07334742]),\n",
       " 0.1825033054621083)"
      ]
     },
     "execution_count": 83,
     "metadata": {},
     "output_type": "execute_result"
    }
   ],
   "source": [
    "from sklearn.metrics import mean_squared_error            #SECOND BY RMSE\n",
    "rmse = sqrt(mean_squared_error(test_y, test_predict))\n",
    "from sklearn.metrics import r2_score\n",
    "r2 = r2_score(test_y, test_predict)\n",
    "\n",
    "adj_r2 = 1 - float(len(y)-1)/(len(y)-len(lr.coef_)-1)*(1 - r2)\n",
    "\n",
    "rmse, r2, adj_r2, lr.coef_, lr.intercept_"
   ]
  },
  {
   "cell_type": "code",
   "execution_count": 84,
   "metadata": {},
   "outputs": [
    {
     "data": {
      "text/plain": [
       "<matplotlib.axes._subplots.AxesSubplot at 0x22d5246fbc8>"
      ]
     },
     "execution_count": 84,
     "metadata": {},
     "output_type": "execute_result"
    },
    {
     "data": {
      "image/png": "[encoded data removed]",
      "text/plain": [
       "<Figure size 432x288 with 1 Axes>"
      ]
     },
     "metadata": {
      "needs_background": "light"
     },
     "output_type": "display_data"
    }
   ],
   "source": [
    "sns.scatterplot(test_y,test_predict)"
   ]
  },
  {
   "cell_type": "code",
   "execution_count": 85,
   "metadata": {},
   "outputs": [
    {
     "data": {
      "text/plain": [
       "Text(0.5, 1.0, 'Predicted vs Actual values')"
      ]
     },
     "execution_count": 85,
     "metadata": {},
     "output_type": "execute_result"
    },
    {
     "data": {
      "image/png": "[encoded data removed]",
      "text/plain": [
       "<Figure size 432x288 with 1 Axes>"
      ]
     },
     "metadata": {
      "needs_background": "light"
     },
     "output_type": "display_data"
    }
   ],
   "source": [
    "fig,ax = plt.subplots()\n",
    "ax.scatter(test_y,test_predict)\n",
    "ax.plot(test_y,test_y,color = 'red')\n",
    "ax.set_xlabel('Actual target values')\n",
    "ax.set_ylabel('predicted target values')\n",
    "ax.set_title('Predicted vs Actual values')"
   ]
  },
  {
   "cell_type": "code",
   "execution_count": 86,
   "metadata": {},
   "outputs": [
    {
     "name": "stdout",
     "output_type": "stream",
     "text": [
      "Mean Absolute Error: 0.0889142954368137\n",
      "Mean Squared Error: 0.014934503262117746\n",
      "Root Mean Squared Error: 0.12220680530198695\n"
     ]
    }
   ],
   "source": [
    "from sklearn import metrics     #checking errors\n",
    "print('Mean Absolute Error:', metrics.mean_absolute_error(test_y, test_predict))  \n",
    "print('Mean Squared Error:', metrics.mean_squared_error(test_y, test_predict))  \n",
    "print('Root Mean Squared Error:', np.sqrt(metrics.mean_squared_error(test_y, test_predict)))"
   ]
  },
  {
   "cell_type": "markdown",
   "metadata": {},
   "source": [
    "### Feature selection and importance"
   ]
  },
  {
   "cell_type": "code",
   "execution_count": 87,
   "metadata": {},
   "outputs": [
    {
     "data": {
      "text/plain": [
       "ExtraTreesRegressor(bootstrap=False, ccp_alpha=0.0, criterion='mse',\n",
       "                    max_depth=None, max_features='auto', max_leaf_nodes=None,\n",
       "                    max_samples=None, min_impurity_decrease=0.0,\n",
       "                    min_impurity_split=None, min_samples_leaf=1,\n",
       "                    min_samples_split=2, min_weight_fraction_leaf=0.0,\n",
       "                    n_estimators=100, n_jobs=None, oob_score=False,\n",
       "                    random_state=None, verbose=0, warm_start=False)"
      ]
     },
     "execution_count": 87,
     "metadata": {},
     "output_type": "execute_result"
    }
   ],
   "source": [
    "# SELECTING FEATURES FOR MODEL BY CHECKING FEATURE IMPORTANCE \n",
    "from sklearn import datasets\n",
    "from sklearn import metrics\n",
    "from sklearn.ensemble import ExtraTreesRegressor\n",
    "\n",
    "model = ExtraTreesRegressor()\n",
    "model.fit(X, y)"
   ]
  },
  {
   "cell_type": "code",
   "execution_count": 88,
   "metadata": {},
   "outputs": [
    {
     "data": {
      "text/plain": [
       "[('yearOfRegistration', 0.33950377856960784),\n",
       " ('powerPS', 0.2570381147202409),\n",
       " ('kilometer', 0.07577450872548958),\n",
       " ('vehicleType', 0.073066081535503),\n",
       " ('fuelType', 0.07175595435043035),\n",
       " ('monthOfRegistration', 0.05724835885521604),\n",
       " ('brand', 0.05528124581649742),\n",
       " ('model', 0.04722489861294606),\n",
       " ('gearbox', 0.023107058814068875)]"
      ]
     },
     "execution_count": 88,
     "metadata": {},
     "output_type": "execute_result"
    }
   ],
   "source": [
    "imp = model.feature_importances_\n",
    "feature_names = cars1.iloc[:, 1:].columns.tolist()\n",
    "feature_names\n",
    "feature_imp_dir = dict(zip(feature_names, imp))\n",
    "features = sorted(feature_imp_dir.items(), key=lambda x: x[1], reverse=True)\n",
    "features"
   ]
  },
  {
   "cell_type": "code",
   "execution_count": 89,
   "metadata": {},
   "outputs": [
    {
     "data": {
      "text/html": [
       "<div>\n",
       "<style scoped>\n",
       "    .dataframe tbody tr th:only-of-type {\n",
       "        vertical-align: middle;\n",
       "    }\n",
       "\n",
       "    .dataframe tbody tr th {\n",
       "        vertical-align: top;\n",
       "    }\n",
       "\n",
       "    .dataframe thead th {\n",
       "        text-align: right;\n",
       "    }\n",
       "</style>\n",
       "<table border=\"1\" class=\"dataframe\">\n",
       "  <thead>\n",
       "    <tr style=\"text-align: right;\">\n",
       "      <th></th>\n",
       "      <th>price</th>\n",
       "      <th>yearOfRegistration</th>\n",
       "      <th>monthOfRegistration</th>\n",
       "      <th>powerPS</th>\n",
       "      <th>kilometer</th>\n",
       "      <th>fuelType</th>\n",
       "      <th>brand</th>\n",
       "      <th>vehicleType</th>\n",
       "    </tr>\n",
       "  </thead>\n",
       "  <tbody>\n",
       "    <tr>\n",
       "      <th>0</th>\n",
       "      <td>0.478732</td>\n",
       "      <td>0.303030</td>\n",
       "      <td>0.000000</td>\n",
       "      <td>0.614754</td>\n",
       "      <td>0.737172</td>\n",
       "      <td>0.000000</td>\n",
       "      <td>0.051282</td>\n",
       "      <td>0.375</td>\n",
       "    </tr>\n",
       "    <tr>\n",
       "      <th>1</th>\n",
       "      <td>0.410088</td>\n",
       "      <td>0.363636</td>\n",
       "      <td>0.000000</td>\n",
       "      <td>0.614754</td>\n",
       "      <td>1.000000</td>\n",
       "      <td>0.285714</td>\n",
       "      <td>0.512821</td>\n",
       "      <td>0.750</td>\n",
       "    </tr>\n",
       "    <tr>\n",
       "      <th>2</th>\n",
       "      <td>0.500522</td>\n",
       "      <td>0.606061</td>\n",
       "      <td>0.583333</td>\n",
       "      <td>0.000000</td>\n",
       "      <td>1.000000</td>\n",
       "      <td>0.571429</td>\n",
       "      <td>0.025641</td>\n",
       "      <td>0.875</td>\n",
       "    </tr>\n",
       "    <tr>\n",
       "      <th>3</th>\n",
       "      <td>0.433572</td>\n",
       "      <td>0.484848</td>\n",
       "      <td>0.583333</td>\n",
       "      <td>0.168033</td>\n",
       "      <td>1.000000</td>\n",
       "      <td>0.571429</td>\n",
       "      <td>0.820513</td>\n",
       "      <td>0.375</td>\n",
       "    </tr>\n",
       "    <tr>\n",
       "      <th>4</th>\n",
       "      <td>0.411451</td>\n",
       "      <td>0.454545</td>\n",
       "      <td>0.833333</td>\n",
       "      <td>0.586066</td>\n",
       "      <td>1.000000</td>\n",
       "      <td>0.285714</td>\n",
       "      <td>0.051282</td>\n",
       "      <td>0.875</td>\n",
       "    </tr>\n",
       "  </tbody>\n",
       "</table>\n",
       "</div>"
      ],
      "text/plain": [
       "      price  yearOfRegistration  monthOfRegistration   powerPS  kilometer  \\\n",
       "0  0.478732            0.303030             0.000000  0.614754   0.737172   \n",
       "1  0.410088            0.363636             0.000000  0.614754   1.000000   \n",
       "2  0.500522            0.606061             0.583333  0.000000   1.000000   \n",
       "3  0.433572            0.484848             0.583333  0.168033   1.000000   \n",
       "4  0.411451            0.454545             0.833333  0.586066   1.000000   \n",
       "\n",
       "   fuelType     brand  vehicleType  \n",
       "0  0.000000  0.051282        0.375  \n",
       "1  0.285714  0.512821        0.750  \n",
       "2  0.571429  0.025641        0.875  \n",
       "3  0.571429  0.820513        0.375  \n",
       "4  0.285714  0.051282        0.875  "
      ]
     },
     "execution_count": 89,
     "metadata": {},
     "output_type": "execute_result"
    }
   ],
   "source": [
    "#Droping powerPS , fuelType and brand as these features are less importnat than the others.\n",
    "cars_d= cars1.drop(['model','gearbox'],axis = 1)\n",
    "cars_d.head()"
   ]
  },
  {
   "cell_type": "code",
   "execution_count": 90,
   "metadata": {},
   "outputs": [
    {
     "data": {
      "text/plain": [
       "array([[0.478732  , 0.3030303 , 0.        , ..., 0.        , 0.05128205,\n",
       "        0.375     ],\n",
       "       [0.41008826, 0.36363636, 0.        , ..., 0.28571429, 0.51282051,\n",
       "        0.75      ],\n",
       "       [0.50052192, 0.60606061, 0.58333333, ..., 0.57142857, 0.02564103,\n",
       "        0.875     ],\n",
       "       ...,\n",
       "       [0.67013173, 0.75757576, 0.5       , ..., 0.57142857, 0.97435897,\n",
       "        0.25      ],\n",
       "       [0.36093876, 0.39393939, 0.        , ..., 0.        , 0.61538462,\n",
       "        0.75      ],\n",
       "       [0.31212389, 0.48484848, 0.83333333, ..., 0.28571429, 0.69230769,\n",
       "        0.625     ]])"
      ]
     },
     "execution_count": 90,
     "metadata": {},
     "output_type": "execute_result"
    }
   ],
   "source": [
    "#Agian creating the features for target variable.\n",
    "y = cars_d['price']\n",
    "y = list(y)\n",
    "col = []\n",
    "for i in cars_d.columns:\n",
    "    col.append(str(i))\n",
    "X = cars_d.values\n",
    "\n",
    "X"
   ]
  },
  {
   "cell_type": "code",
   "execution_count": 91,
   "metadata": {},
   "outputs": [
    {
     "name": "stdout",
     "output_type": "stream",
     "text": [
      "Mean Square Error: 3.691867840309377e-15\n"
     ]
    },
    {
     "data": {
      "text/plain": [
       "(1.0, 1.0)"
      ]
     },
     "execution_count": 91,
     "metadata": {},
     "output_type": "execute_result"
    }
   ],
   "source": [
    "from sklearn.model_selection import train_test_split \n",
    "from sklearn.linear_model import LinearRegression\n",
    "from sklearn.metrics import r2_score,mean_squared_error\n",
    "from math import sqrt\n",
    "\n",
    "X_train, X_test, y_train, y_test = train_test_split(X, y, test_size = 0.2, random_state = 0)\n",
    "lr = LinearRegression()\n",
    "lr.fit(X_train, y_train)\n",
    "\n",
    "y_pred = lr.predict(X_test)\n",
    "\n",
    "\n",
    "r2=lr.score(X_train, y_train)\n",
    "adj_r2 = 1 - float(len(y_train)-1)/(len(y_train)-len(lr.coef_)-1)*(1 - r2)\n",
    "r2,adj_r2\n",
    "\n",
    "print(\"Mean Square Error: \"+str(sqrt(mean_squared_error(y_test, y_pred))))\n",
    "r2,adj_r2"
   ]
  },
  {
   "cell_type": "code",
   "execution_count": 92,
   "metadata": {},
   "outputs": [
    {
     "data": {
      "text/plain": [
       "Text(0.5, 1.0, 'Predicted vs Actual values')"
      ]
     },
     "execution_count": 92,
     "metadata": {},
     "output_type": "execute_result"
    },
    {
     "data": {
      "image/png": "[encoded data removed]",
      "text/plain": [
       "<Figure size 432x288 with 1 Axes>"
      ]
     },
     "metadata": {
      "needs_background": "light"
     },
     "output_type": "display_data"
    }
   ],
   "source": [
    "fig,ax = plt.subplots()\n",
    "ax.scatter(test_y,y_pred)\n",
    "ax.plot(test_y,test_y,color = 'red')\n",
    "ax.set_xlabel('Actual target values')\n",
    "ax.set_ylabel('predicted target values')\n",
    "ax.set_title('Predicted vs Actual values')"
   ]
  },
  {
   "cell_type": "markdown",
   "metadata": {},
   "source": [
    "##### MULTICOLLINEARITY - the degree by which independent variable are dependent on each other. Should be AS LESS AS POSSIBLE. Detected by calculating VIF(variance inflation factor), if VIF >5 or if VIF is high, then multicollinearity is high ( some independent variables are co-related with each other, WHICH ISN'T GOOD as it would be difficult to interpret the outcome of model)"
   ]
  },
  {
   "cell_type": "code",
   "execution_count": 93,
   "metadata": {},
   "outputs": [],
   "source": [
    "from patsy import dmatrices\n",
    "import statsmodels.api as sm\n",
    "from statsmodels.stats.outliers_influence import variance_inflation_factor"
   ]
  },
  {
   "cell_type": "code",
   "execution_count": 94,
   "metadata": {},
   "outputs": [],
   "source": [
    "X = cars1.drop(['price'],axis=1)\n",
    "y = cars1['price']"
   ]
  },
  {
   "cell_type": "code",
   "execution_count": 95,
   "metadata": {},
   "outputs": [
    {
     "data": {
      "text/html": [
       "<div>\n",
       "<style scoped>\n",
       "    .dataframe tbody tr th:only-of-type {\n",
       "        vertical-align: middle;\n",
       "    }\n",
       "\n",
       "    .dataframe tbody tr th {\n",
       "        vertical-align: top;\n",
       "    }\n",
       "\n",
       "    .dataframe thead th {\n",
       "        text-align: right;\n",
       "    }\n",
       "</style>\n",
       "<table border=\"1\" class=\"dataframe\">\n",
       "  <thead>\n",
       "    <tr style=\"text-align: right;\">\n",
       "      <th></th>\n",
       "      <th>price</th>\n",
       "      <th>yearOfRegistration</th>\n",
       "      <th>monthOfRegistration</th>\n",
       "      <th>powerPS</th>\n",
       "      <th>kilometer</th>\n",
       "      <th>gearbox</th>\n",
       "      <th>model</th>\n",
       "      <th>fuelType</th>\n",
       "      <th>brand</th>\n",
       "      <th>vehicleType</th>\n",
       "    </tr>\n",
       "  </thead>\n",
       "  <tbody>\n",
       "    <tr>\n",
       "      <th>0</th>\n",
       "      <td>0.478732</td>\n",
       "      <td>0.303030</td>\n",
       "      <td>0.000000</td>\n",
       "      <td>0.614754</td>\n",
       "      <td>0.737172</td>\n",
       "      <td>1.0</td>\n",
       "      <td>0.956522</td>\n",
       "      <td>0.000000</td>\n",
       "      <td>0.051282</td>\n",
       "      <td>0.375</td>\n",
       "    </tr>\n",
       "    <tr>\n",
       "      <th>1</th>\n",
       "      <td>0.410088</td>\n",
       "      <td>0.363636</td>\n",
       "      <td>0.000000</td>\n",
       "      <td>0.614754</td>\n",
       "      <td>1.000000</td>\n",
       "      <td>1.0</td>\n",
       "      <td>0.869565</td>\n",
       "      <td>0.285714</td>\n",
       "      <td>0.512821</td>\n",
       "      <td>0.750</td>\n",
       "    </tr>\n",
       "    <tr>\n",
       "      <th>2</th>\n",
       "      <td>0.500522</td>\n",
       "      <td>0.606061</td>\n",
       "      <td>0.583333</td>\n",
       "      <td>0.000000</td>\n",
       "      <td>1.000000</td>\n",
       "      <td>1.0</td>\n",
       "      <td>0.782609</td>\n",
       "      <td>0.571429</td>\n",
       "      <td>0.025641</td>\n",
       "      <td>0.875</td>\n",
       "    </tr>\n",
       "    <tr>\n",
       "      <th>3</th>\n",
       "      <td>0.433572</td>\n",
       "      <td>0.484848</td>\n",
       "      <td>0.583333</td>\n",
       "      <td>0.168033</td>\n",
       "      <td>1.000000</td>\n",
       "      <td>0.5</td>\n",
       "      <td>0.710145</td>\n",
       "      <td>0.571429</td>\n",
       "      <td>0.820513</td>\n",
       "      <td>0.375</td>\n",
       "    </tr>\n",
       "    <tr>\n",
       "      <th>4</th>\n",
       "      <td>0.411451</td>\n",
       "      <td>0.454545</td>\n",
       "      <td>0.833333</td>\n",
       "      <td>0.586066</td>\n",
       "      <td>1.000000</td>\n",
       "      <td>1.0</td>\n",
       "      <td>0.956522</td>\n",
       "      <td>0.285714</td>\n",
       "      <td>0.051282</td>\n",
       "      <td>0.875</td>\n",
       "    </tr>\n",
       "  </tbody>\n",
       "</table>\n",
       "</div>"
      ],
      "text/plain": [
       "      price  yearOfRegistration  monthOfRegistration   powerPS  kilometer  \\\n",
       "0  0.478732            0.303030             0.000000  0.614754   0.737172   \n",
       "1  0.410088            0.363636             0.000000  0.614754   1.000000   \n",
       "2  0.500522            0.606061             0.583333  0.000000   1.000000   \n",
       "3  0.433572            0.484848             0.583333  0.168033   1.000000   \n",
       "4  0.411451            0.454545             0.833333  0.586066   1.000000   \n",
       "\n",
       "   gearbox     model  fuelType     brand  vehicleType  \n",
       "0      1.0  0.956522  0.000000  0.051282        0.375  \n",
       "1      1.0  0.869565  0.285714  0.512821        0.750  \n",
       "2      1.0  0.782609  0.571429  0.025641        0.875  \n",
       "3      0.5  0.710145  0.571429  0.820513        0.375  \n",
       "4      1.0  0.956522  0.285714  0.051282        0.875  "
      ]
     },
     "execution_count": 95,
     "metadata": {},
     "output_type": "execute_result"
    }
   ],
   "source": [
    "cars1.head()"
   ]
  },
  {
   "cell_type": "code",
   "execution_count": 96,
   "metadata": {},
   "outputs": [],
   "source": [
    "## fit a OLS model with intercept on TV and Radio\n",
    "X = sm.add_constant(X)\n",
    "model= sm.OLS(y.astype(float), X.astype(float)).fit()"
   ]
  },
  {
   "cell_type": "code",
   "execution_count": 97,
   "metadata": {},
   "outputs": [
    {
     "data": {
      "text/html": [
       "<table class=\"simpletable\">\n",
       "<caption>OLS Regression Results</caption>\n",
       "<tr>\n",
       "  <th>Dep. Variable:</th>          <td>price</td>      <th>  R-squared:         </th>  <td>   0.541</td> \n",
       "</tr>\n",
       "<tr>\n",
       "  <th>Model:</th>                   <td>OLS</td>       <th>  Adj. R-squared:    </th>  <td>   0.541</td> \n",
       "</tr>\n",
       "<tr>\n",
       "  <th>Method:</th>             <td>Least Squares</td>  <th>  F-statistic:       </th>  <td>   1089.</td> \n",
       "</tr>\n",
       "<tr>\n",
       "  <th>Date:</th>             <td>Thu, 20 Aug 2020</td> <th>  Prob (F-statistic):</th>   <td>  0.00</td>  \n",
       "</tr>\n",
       "<tr>\n",
       "  <th>Time:</th>                 <td>18:35:54</td>     <th>  Log-Likelihood:    </th>  <td>  5660.4</td> \n",
       "</tr>\n",
       "<tr>\n",
       "  <th>No. Observations:</th>      <td>  8314</td>      <th>  AIC:               </th> <td>-1.130e+04</td>\n",
       "</tr>\n",
       "<tr>\n",
       "  <th>Df Residuals:</th>          <td>  8304</td>      <th>  BIC:               </th> <td>-1.123e+04</td>\n",
       "</tr>\n",
       "<tr>\n",
       "  <th>Df Model:</th>              <td>     9</td>      <th>                     </th>      <td> </td>    \n",
       "</tr>\n",
       "<tr>\n",
       "  <th>Covariance Type:</th>      <td>nonrobust</td>    <th>                     </th>      <td> </td>    \n",
       "</tr>\n",
       "</table>\n",
       "<table class=\"simpletable\">\n",
       "<tr>\n",
       "           <td></td>              <th>coef</th>     <th>std err</th>      <th>t</th>      <th>P>|t|</th>  <th>[0.025</th>    <th>0.975]</th>  \n",
       "</tr>\n",
       "<tr>\n",
       "  <th>const</th>               <td>    0.1794</td> <td>    0.010</td> <td>   17.108</td> <td> 0.000</td> <td>    0.159</td> <td>    0.200</td>\n",
       "</tr>\n",
       "<tr>\n",
       "  <th>yearOfRegistration</th>  <td>    0.3319</td> <td>    0.008</td> <td>   40.165</td> <td> 0.000</td> <td>    0.316</td> <td>    0.348</td>\n",
       "</tr>\n",
       "<tr>\n",
       "  <th>monthOfRegistration</th> <td>    0.0289</td> <td>    0.004</td> <td>    6.504</td> <td> 0.000</td> <td>    0.020</td> <td>    0.038</td>\n",
       "</tr>\n",
       "<tr>\n",
       "  <th>powerPS</th>             <td>    0.3079</td> <td>    0.006</td> <td>   47.822</td> <td> 0.000</td> <td>    0.295</td> <td>    0.321</td>\n",
       "</tr>\n",
       "<tr>\n",
       "  <th>kilometer</th>           <td>   -0.1607</td> <td>    0.005</td> <td>  -31.064</td> <td> 0.000</td> <td>   -0.171</td> <td>   -0.151</td>\n",
       "</tr>\n",
       "<tr>\n",
       "  <th>gearbox</th>             <td>   -0.0410</td> <td>    0.005</td> <td>   -8.388</td> <td> 0.000</td> <td>   -0.051</td> <td>   -0.031</td>\n",
       "</tr>\n",
       "<tr>\n",
       "  <th>model</th>               <td>   -0.0083</td> <td>    0.005</td> <td>   -1.702</td> <td> 0.089</td> <td>   -0.018</td> <td>    0.001</td>\n",
       "</tr>\n",
       "<tr>\n",
       "  <th>fuelType</th>            <td>    0.2004</td> <td>    0.008</td> <td>   25.838</td> <td> 0.000</td> <td>    0.185</td> <td>    0.216</td>\n",
       "</tr>\n",
       "<tr>\n",
       "  <th>brand</th>               <td>    0.0076</td> <td>    0.004</td> <td>    1.849</td> <td> 0.064</td> <td>   -0.000</td> <td>    0.016</td>\n",
       "</tr>\n",
       "<tr>\n",
       "  <th>vehicleType</th>         <td>    0.0749</td> <td>    0.005</td> <td>   13.800</td> <td> 0.000</td> <td>    0.064</td> <td>    0.086</td>\n",
       "</tr>\n",
       "</table>\n",
       "<table class=\"simpletable\">\n",
       "<tr>\n",
       "  <th>Omnibus:</th>       <td>1055.631</td> <th>  Durbin-Watson:     </th> <td>   1.973</td>\n",
       "</tr>\n",
       "<tr>\n",
       "  <th>Prob(Omnibus):</th>  <td> 0.000</td>  <th>  Jarque-Bera (JB):  </th> <td>4457.603</td>\n",
       "</tr>\n",
       "<tr>\n",
       "  <th>Skew:</th>           <td>-0.569</td>  <th>  Prob(JB):          </th> <td>    0.00</td>\n",
       "</tr>\n",
       "<tr>\n",
       "  <th>Kurtosis:</th>       <td> 6.402</td>  <th>  Cond. No.          </th> <td>    20.3</td>\n",
       "</tr>\n",
       "</table><br/><br/>Warnings:<br/>[1] Standard Errors assume that the covariance matrix of the errors is correctly specified."
      ],
      "text/plain": [
       "<class 'statsmodels.iolib.summary.Summary'>\n",
       "\"\"\"\n",
       "                            OLS Regression Results                            \n",
       "==============================================================================\n",
       "Dep. Variable:                  price   R-squared:                       0.541\n",
       "Model:                            OLS   Adj. R-squared:                  0.541\n",
       "Method:                 Least Squares   F-statistic:                     1089.\n",
       "Date:                Thu, 20 Aug 2020   Prob (F-statistic):               0.00\n",
       "Time:                        18:35:54   Log-Likelihood:                 5660.4\n",
       "No. Observations:                8314   AIC:                        -1.130e+04\n",
       "Df Residuals:                    8304   BIC:                        -1.123e+04\n",
       "Df Model:                           9                                         \n",
       "Covariance Type:            nonrobust                                         \n",
       "=======================================================================================\n",
       "                          coef    std err          t      P>|t|      [0.025      0.975]\n",
       "---------------------------------------------------------------------------------------\n",
       "const                   0.1794      0.010     17.108      0.000       0.159       0.200\n",
       "yearOfRegistration      0.3319      0.008     40.165      0.000       0.316       0.348\n",
       "monthOfRegistration     0.0289      0.004      6.504      0.000       0.020       0.038\n",
       "powerPS                 0.3079      0.006     47.822      0.000       0.295       0.321\n",
       "kilometer              -0.1607      0.005    -31.064      0.000      -0.171      -0.151\n",
       "gearbox                -0.0410      0.005     -8.388      0.000      -0.051      -0.031\n",
       "model                  -0.0083      0.005     -1.702      0.089      -0.018       0.001\n",
       "fuelType                0.2004      0.008     25.838      0.000       0.185       0.216\n",
       "brand                   0.0076      0.004      1.849      0.064      -0.000       0.016\n",
       "vehicleType             0.0749      0.005     13.800      0.000       0.064       0.086\n",
       "==============================================================================\n",
       "Omnibus:                     1055.631   Durbin-Watson:                   1.973\n",
       "Prob(Omnibus):                  0.000   Jarque-Bera (JB):             4457.603\n",
       "Skew:                          -0.569   Prob(JB):                         0.00\n",
       "Kurtosis:                       6.402   Cond. No.                         20.3\n",
       "==============================================================================\n",
       "\n",
       "Warnings:\n",
       "[1] Standard Errors assume that the covariance matrix of the errors is correctly specified.\n",
       "\"\"\""
      ]
     },
     "execution_count": 97,
     "metadata": {},
     "output_type": "execute_result"
    }
   ],
   "source": [
    "model.summary()"
   ]
  },
  {
   "cell_type": "code",
   "execution_count": 98,
   "metadata": {},
   "outputs": [
    {
     "data": {
      "text/html": [
       "<div>\n",
       "<style scoped>\n",
       "    .dataframe tbody tr th:only-of-type {\n",
       "        vertical-align: middle;\n",
       "    }\n",
       "\n",
       "    .dataframe tbody tr th {\n",
       "        vertical-align: top;\n",
       "    }\n",
       "\n",
       "    .dataframe thead th {\n",
       "        text-align: right;\n",
       "    }\n",
       "</style>\n",
       "<table border=\"1\" class=\"dataframe\">\n",
       "  <thead>\n",
       "    <tr style=\"text-align: right;\">\n",
       "      <th></th>\n",
       "      <th>yearOfRegistration</th>\n",
       "      <th>monthOfRegistration</th>\n",
       "      <th>powerPS</th>\n",
       "      <th>kilometer</th>\n",
       "      <th>gearbox</th>\n",
       "      <th>model</th>\n",
       "      <th>fuelType</th>\n",
       "      <th>brand</th>\n",
       "      <th>vehicleType</th>\n",
       "    </tr>\n",
       "  </thead>\n",
       "  <tbody>\n",
       "    <tr>\n",
       "      <th>yearOfRegistration</th>\n",
       "      <td>1.000000</td>\n",
       "      <td>0.003236</td>\n",
       "      <td>0.118376</td>\n",
       "      <td>-0.234955</td>\n",
       "      <td>-0.049865</td>\n",
       "      <td>-0.118186</td>\n",
       "      <td>0.130569</td>\n",
       "      <td>-0.038833</td>\n",
       "      <td>-0.363128</td>\n",
       "    </tr>\n",
       "    <tr>\n",
       "      <th>monthOfRegistration</th>\n",
       "      <td>0.003236</td>\n",
       "      <td>1.000000</td>\n",
       "      <td>0.131970</td>\n",
       "      <td>-0.028452</td>\n",
       "      <td>0.076992</td>\n",
       "      <td>-0.046359</td>\n",
       "      <td>0.140206</td>\n",
       "      <td>-0.011462</td>\n",
       "      <td>0.124164</td>\n",
       "    </tr>\n",
       "    <tr>\n",
       "      <th>powerPS</th>\n",
       "      <td>0.118376</td>\n",
       "      <td>0.131970</td>\n",
       "      <td>1.000000</td>\n",
       "      <td>0.008827</td>\n",
       "      <td>-0.028354</td>\n",
       "      <td>-0.043106</td>\n",
       "      <td>0.270758</td>\n",
       "      <td>-0.274680</td>\n",
       "      <td>0.231755</td>\n",
       "    </tr>\n",
       "    <tr>\n",
       "      <th>kilometer</th>\n",
       "      <td>-0.234955</td>\n",
       "      <td>-0.028452</td>\n",
       "      <td>0.008827</td>\n",
       "      <td>1.000000</td>\n",
       "      <td>-0.016158</td>\n",
       "      <td>0.132524</td>\n",
       "      <td>0.051423</td>\n",
       "      <td>-0.021178</td>\n",
       "      <td>-0.002150</td>\n",
       "    </tr>\n",
       "    <tr>\n",
       "      <th>gearbox</th>\n",
       "      <td>-0.049865</td>\n",
       "      <td>0.076992</td>\n",
       "      <td>-0.028354</td>\n",
       "      <td>-0.016158</td>\n",
       "      <td>1.000000</td>\n",
       "      <td>-0.020842</td>\n",
       "      <td>0.016474</td>\n",
       "      <td>0.044445</td>\n",
       "      <td>0.057951</td>\n",
       "    </tr>\n",
       "    <tr>\n",
       "      <th>model</th>\n",
       "      <td>-0.118186</td>\n",
       "      <td>-0.046359</td>\n",
       "      <td>-0.043106</td>\n",
       "      <td>0.132524</td>\n",
       "      <td>-0.020842</td>\n",
       "      <td>1.000000</td>\n",
       "      <td>-0.092846</td>\n",
       "      <td>0.062566</td>\n",
       "      <td>0.022985</td>\n",
       "    </tr>\n",
       "    <tr>\n",
       "      <th>fuelType</th>\n",
       "      <td>0.130569</td>\n",
       "      <td>0.140206</td>\n",
       "      <td>0.270758</td>\n",
       "      <td>0.051423</td>\n",
       "      <td>0.016474</td>\n",
       "      <td>-0.092846</td>\n",
       "      <td>1.000000</td>\n",
       "      <td>-0.053580</td>\n",
       "      <td>0.184143</td>\n",
       "    </tr>\n",
       "    <tr>\n",
       "      <th>brand</th>\n",
       "      <td>-0.038833</td>\n",
       "      <td>-0.011462</td>\n",
       "      <td>-0.274680</td>\n",
       "      <td>-0.021178</td>\n",
       "      <td>0.044445</td>\n",
       "      <td>0.062566</td>\n",
       "      <td>-0.053580</td>\n",
       "      <td>1.000000</td>\n",
       "      <td>-0.116066</td>\n",
       "    </tr>\n",
       "    <tr>\n",
       "      <th>vehicleType</th>\n",
       "      <td>-0.363128</td>\n",
       "      <td>0.124164</td>\n",
       "      <td>0.231755</td>\n",
       "      <td>-0.002150</td>\n",
       "      <td>0.057951</td>\n",
       "      <td>0.022985</td>\n",
       "      <td>0.184143</td>\n",
       "      <td>-0.116066</td>\n",
       "      <td>1.000000</td>\n",
       "    </tr>\n",
       "  </tbody>\n",
       "</table>\n",
       "</div>"
      ],
      "text/plain": [
       "                     yearOfRegistration  monthOfRegistration   powerPS  \\\n",
       "yearOfRegistration             1.000000             0.003236  0.118376   \n",
       "monthOfRegistration            0.003236             1.000000  0.131970   \n",
       "powerPS                        0.118376             0.131970  1.000000   \n",
       "kilometer                     -0.234955            -0.028452  0.008827   \n",
       "gearbox                       -0.049865             0.076992 -0.028354   \n",
       "model                         -0.118186            -0.046359 -0.043106   \n",
       "fuelType                       0.130569             0.140206  0.270758   \n",
       "brand                         -0.038833            -0.011462 -0.274680   \n",
       "vehicleType                   -0.363128             0.124164  0.231755   \n",
       "\n",
       "                     kilometer   gearbox     model  fuelType     brand  \\\n",
       "yearOfRegistration   -0.234955 -0.049865 -0.118186  0.130569 -0.038833   \n",
       "monthOfRegistration  -0.028452  0.076992 -0.046359  0.140206 -0.011462   \n",
       "powerPS               0.008827 -0.028354 -0.043106  0.270758 -0.274680   \n",
       "kilometer             1.000000 -0.016158  0.132524  0.051423 -0.021178   \n",
       "gearbox              -0.016158  1.000000 -0.020842  0.016474  0.044445   \n",
       "model                 0.132524 -0.020842  1.000000 -0.092846  0.062566   \n",
       "fuelType              0.051423  0.016474 -0.092846  1.000000 -0.053580   \n",
       "brand                -0.021178  0.044445  0.062566 -0.053580  1.000000   \n",
       "vehicleType          -0.002150  0.057951  0.022985  0.184143 -0.116066   \n",
       "\n",
       "                     vehicleType  \n",
       "yearOfRegistration     -0.363128  \n",
       "monthOfRegistration     0.124164  \n",
       "powerPS                 0.231755  \n",
       "kilometer              -0.002150  \n",
       "gearbox                 0.057951  \n",
       "model                   0.022985  \n",
       "fuelType                0.184143  \n",
       "brand                  -0.116066  \n",
       "vehicleType             1.000000  "
      ]
     },
     "execution_count": 98,
     "metadata": {},
     "output_type": "execute_result"
    }
   ],
   "source": [
    "X.iloc[:,1:].corr()"
   ]
  },
  {
   "cell_type": "code",
   "execution_count": 99,
   "metadata": {},
   "outputs": [
    {
     "data": {
      "text/html": [
       "<div>\n",
       "<style scoped>\n",
       "    .dataframe tbody tr th:only-of-type {\n",
       "        vertical-align: middle;\n",
       "    }\n",
       "\n",
       "    .dataframe tbody tr th {\n",
       "        vertical-align: top;\n",
       "    }\n",
       "\n",
       "    .dataframe thead th {\n",
       "        text-align: right;\n",
       "    }\n",
       "</style>\n",
       "<table border=\"1\" class=\"dataframe\">\n",
       "  <thead>\n",
       "    <tr style=\"text-align: right;\">\n",
       "      <th></th>\n",
       "      <th>yearOfRegistration</th>\n",
       "      <th>monthOfRegistration</th>\n",
       "      <th>powerPS</th>\n",
       "      <th>kilometer</th>\n",
       "      <th>gearbox</th>\n",
       "      <th>model</th>\n",
       "      <th>fuelType</th>\n",
       "      <th>brand</th>\n",
       "      <th>vehicleType</th>\n",
       "    </tr>\n",
       "  </thead>\n",
       "  <tbody>\n",
       "    <tr>\n",
       "      <th>vif</th>\n",
       "      <td>7.330966</td>\n",
       "      <td>3.535327</td>\n",
       "      <td>5.358837</td>\n",
       "      <td>8.879478</td>\n",
       "      <td>9.010281</td>\n",
       "      <td>7.055538</td>\n",
       "      <td>5.443431</td>\n",
       "      <td>3.51676</td>\n",
       "      <td>5.919789</td>\n",
       "    </tr>\n",
       "  </tbody>\n",
       "</table>\n",
       "</div>"
      ],
      "text/plain": [
       "     yearOfRegistration  monthOfRegistration   powerPS  kilometer   gearbox  \\\n",
       "vif            7.330966             3.535327  5.358837   8.879478  9.010281   \n",
       "\n",
       "        model  fuelType    brand  vehicleType  \n",
       "vif  7.055538  5.443431  3.51676     5.919789  "
      ]
     },
     "execution_count": 99,
     "metadata": {},
     "output_type": "execute_result"
    }
   ],
   "source": [
    "vif = [variance_inflation_factor(train_X.astype(float).values, i) for i in range(train_X.astype(float).shape[1])]\n",
    "cars_vif = pd.DataFrame({'vif': vif[0:]}, index=train_X.astype(float).columns).T\n",
    "cars_vif"
   ]
  },
  {
   "cell_type": "code",
   "execution_count": 100,
   "metadata": {},
   "outputs": [],
   "source": [
    "cars_final = cars1.drop(['yearOfRegistration','powerPS','kilometer','gearbox','model','fuelType','vehicleType'],axis=1)"
   ]
  },
  {
   "cell_type": "code",
   "execution_count": 101,
   "metadata": {},
   "outputs": [
    {
     "data": {
      "text/html": [
       "<div>\n",
       "<style scoped>\n",
       "    .dataframe tbody tr th:only-of-type {\n",
       "        vertical-align: middle;\n",
       "    }\n",
       "\n",
       "    .dataframe tbody tr th {\n",
       "        vertical-align: top;\n",
       "    }\n",
       "\n",
       "    .dataframe thead th {\n",
       "        text-align: right;\n",
       "    }\n",
       "</style>\n",
       "<table border=\"1\" class=\"dataframe\">\n",
       "  <thead>\n",
       "    <tr style=\"text-align: right;\">\n",
       "      <th></th>\n",
       "      <th>price</th>\n",
       "      <th>monthOfRegistration</th>\n",
       "      <th>brand</th>\n",
       "    </tr>\n",
       "  </thead>\n",
       "  <tbody>\n",
       "    <tr>\n",
       "      <th>0</th>\n",
       "      <td>0.478732</td>\n",
       "      <td>0.000000</td>\n",
       "      <td>0.051282</td>\n",
       "    </tr>\n",
       "    <tr>\n",
       "      <th>1</th>\n",
       "      <td>0.410088</td>\n",
       "      <td>0.000000</td>\n",
       "      <td>0.512821</td>\n",
       "    </tr>\n",
       "    <tr>\n",
       "      <th>2</th>\n",
       "      <td>0.500522</td>\n",
       "      <td>0.583333</td>\n",
       "      <td>0.025641</td>\n",
       "    </tr>\n",
       "    <tr>\n",
       "      <th>3</th>\n",
       "      <td>0.433572</td>\n",
       "      <td>0.583333</td>\n",
       "      <td>0.820513</td>\n",
       "    </tr>\n",
       "    <tr>\n",
       "      <th>4</th>\n",
       "      <td>0.411451</td>\n",
       "      <td>0.833333</td>\n",
       "      <td>0.051282</td>\n",
       "    </tr>\n",
       "  </tbody>\n",
       "</table>\n",
       "</div>"
      ],
      "text/plain": [
       "      price  monthOfRegistration     brand\n",
       "0  0.478732             0.000000  0.051282\n",
       "1  0.410088             0.000000  0.512821\n",
       "2  0.500522             0.583333  0.025641\n",
       "3  0.433572             0.583333  0.820513\n",
       "4  0.411451             0.833333  0.051282"
      ]
     },
     "execution_count": 101,
     "metadata": {},
     "output_type": "execute_result"
    }
   ],
   "source": [
    "cars_final.head()"
   ]
  },
  {
   "cell_type": "code",
   "execution_count": 102,
   "metadata": {},
   "outputs": [],
   "source": [
    "X = cars_final.drop(['price'],axis=1)\n",
    "y = cars_final['price']"
   ]
  },
  {
   "cell_type": "code",
   "execution_count": 103,
   "metadata": {},
   "outputs": [],
   "source": [
    "from sklearn.model_selection import train_test_split\n",
    "train_X,test_X,train_y,test_y = train_test_split(X,y,test_size = 0.2,random_state = 56)"
   ]
  },
  {
   "cell_type": "code",
   "execution_count": 104,
   "metadata": {},
   "outputs": [],
   "source": [
    "#implement linear regression\n",
    "from sklearn.linear_model import LinearRegression as LR #imported requ. library\n",
    "from sklearn.metrics import mean_absolute_error as mae"
   ]
  },
  {
   "cell_type": "code",
   "execution_count": 105,
   "metadata": {},
   "outputs": [
    {
     "data": {
      "text/plain": [
       "LinearRegression(copy_X=True, fit_intercept=True, n_jobs=None, normalize=False)"
      ]
     },
     "execution_count": 105,
     "metadata": {},
     "output_type": "execute_result"
    }
   ],
   "source": [
    "lr = LR() #creating an instance of it\n",
    "lr.fit(train_X,train_y) #fitting ove the TRAIN data"
   ]
  },
  {
   "cell_type": "code",
   "execution_count": 106,
   "metadata": {},
   "outputs": [
    {
     "name": "stdout",
     "output_type": "stream",
     "text": [
      "Training Mean absolute error 0.13903169147703656\n"
     ]
    }
   ],
   "source": [
    "train_predict = lr.predict(train_X)    # predicting over train data first and calculate mae(over train data)\n",
    "k = mae(train_predict,train_y)\n",
    "print('Training Mean absolute error', k)"
   ]
  },
  {
   "cell_type": "code",
   "execution_count": 107,
   "metadata": {},
   "outputs": [
    {
     "name": "stdout",
     "output_type": "stream",
     "text": [
      "Test Mean absolute error 0.14556066421401365\n"
     ]
    }
   ],
   "source": [
    "test_predict = lr.predict(test_X)  # predicting over test data first and calculate mae(over test data)\n",
    "k = mae(test_predict,test_y)\n",
    "print('Test Mean absolute error', k)"
   ]
  },
  {
   "cell_type": "code",
   "execution_count": 108,
   "metadata": {},
   "outputs": [
    {
     "data": {
      "text/plain": [
       "(0.14556066421401365,\n",
       " 0.03596553574691852,\n",
       " 0.03573354574228549,\n",
       " array([ 0.08747568, -0.06912927]),\n",
       " 0.43542568755342076)"
      ]
     },
     "execution_count": 108,
     "metadata": {},
     "output_type": "execute_result"
    }
   ],
   "source": [
    "from math import sqrt                   #first by MAE\n",
    "mae = mae(test_y,test_predict)    \n",
    "from sklearn.metrics import r2_score\n",
    "r2 = r2_score(test_y, test_predict)\n",
    "\n",
    "adj_r2 = 1 - float(len(y)-1)/(len(y)-len(lr.coef_)-1)*(1 - r2)\n",
    "\n",
    "mae, r2, adj_r2,  lr.coef_, lr.intercept_"
   ]
  },
  {
   "cell_type": "code",
   "execution_count": 109,
   "metadata": {},
   "outputs": [
    {
     "data": {
      "text/plain": [
       "(0.1822228280532604,\n",
       " 0.03596553574691852,\n",
       " 0.03573354574228549,\n",
       " array([ 0.08747568, -0.06912927]),\n",
       " 0.43542568755342076)"
      ]
     },
     "execution_count": 109,
     "metadata": {},
     "output_type": "execute_result"
    }
   ],
   "source": [
    "from sklearn.metrics import mean_squared_error            #SECOND BY RMSE\n",
    "rmse = sqrt(mean_squared_error(test_y, test_predict))\n",
    "from sklearn.metrics import r2_score\n",
    "r2 = r2_score(test_y, test_predict)\n",
    "\n",
    "adj_r2 = 1 - float(len(y)-1)/(len(y)-len(lr.coef_)-1)*(1 - r2)\n",
    "\n",
    "rmse, r2, adj_r2, lr.coef_, lr.intercept_"
   ]
  },
  {
   "cell_type": "code",
   "execution_count": 110,
   "metadata": {},
   "outputs": [
    {
     "data": {
      "text/plain": [
       "<matplotlib.axes._subplots.AxesSubplot at 0x22d5a3a3508>"
      ]
     },
     "execution_count": 110,
     "metadata": {},
     "output_type": "execute_result"
    },
    {
     "data": {
      "image/png": "[encoded data removed]",
      "text/plain": [
       "<Figure size 432x288 with 1 Axes>"
      ]
     },
     "metadata": {
      "needs_background": "light"
     },
     "output_type": "display_data"
    }
   ],
   "source": [
    "sns.scatterplot(test_y,test_predict)"
   ]
  },
  {
   "cell_type": "code",
   "execution_count": 112,
   "metadata": {},
   "outputs": [
    {
     "name": "stdout",
     "output_type": "stream",
     "text": [
      "Mean Absolute Error: 0.14556066421401365\n",
      "Mean Squared Error: 0.033205159063728104\n",
      "Root Mean Squared Error: 0.1822228280532604\n"
     ]
    }
   ],
   "source": [
    "from sklearn import metrics     #checking errors\n",
    "print('Mean Absolute Error:', metrics.mean_absolute_error(test_y, test_predict))  \n",
    "print('Mean Squared Error:', metrics.mean_squared_error(test_y, test_predict))  \n",
    "print('Root Mean Squared Error:', np.sqrt(metrics.mean_squared_error(test_y, test_predict)))"
   ]
  },
  {
   "cell_type": "markdown",
   "metadata": {},
   "source": [
    "# MODEL 2 - KNN"
   ]
  },
  {
   "cell_type": "code",
   "execution_count": 114,
   "metadata": {},
   "outputs": [
    {
     "data": {
      "text/html": [
       "<div>\n",
       "<style scoped>\n",
       "    .dataframe tbody tr th:only-of-type {\n",
       "        vertical-align: middle;\n",
       "    }\n",
       "\n",
       "    .dataframe tbody tr th {\n",
       "        vertical-align: top;\n",
       "    }\n",
       "\n",
       "    .dataframe thead th {\n",
       "        text-align: right;\n",
       "    }\n",
       "</style>\n",
       "<table border=\"1\" class=\"dataframe\">\n",
       "  <thead>\n",
       "    <tr style=\"text-align: right;\">\n",
       "      <th></th>\n",
       "      <th>price</th>\n",
       "      <th>yearOfRegistration</th>\n",
       "      <th>monthOfRegistration</th>\n",
       "      <th>powerPS</th>\n",
       "      <th>kilometer</th>\n",
       "      <th>gearbox</th>\n",
       "      <th>model</th>\n",
       "      <th>fuelType</th>\n",
       "      <th>brand</th>\n",
       "      <th>vehicleType</th>\n",
       "    </tr>\n",
       "  </thead>\n",
       "  <tbody>\n",
       "    <tr>\n",
       "      <th>0</th>\n",
       "      <td>0.478732</td>\n",
       "      <td>0.303030</td>\n",
       "      <td>0.000000</td>\n",
       "      <td>0.614754</td>\n",
       "      <td>0.737172</td>\n",
       "      <td>1.0</td>\n",
       "      <td>0.956522</td>\n",
       "      <td>0.000000</td>\n",
       "      <td>0.051282</td>\n",
       "      <td>0.375</td>\n",
       "    </tr>\n",
       "    <tr>\n",
       "      <th>1</th>\n",
       "      <td>0.410088</td>\n",
       "      <td>0.363636</td>\n",
       "      <td>0.000000</td>\n",
       "      <td>0.614754</td>\n",
       "      <td>1.000000</td>\n",
       "      <td>1.0</td>\n",
       "      <td>0.869565</td>\n",
       "      <td>0.285714</td>\n",
       "      <td>0.512821</td>\n",
       "      <td>0.750</td>\n",
       "    </tr>\n",
       "    <tr>\n",
       "      <th>2</th>\n",
       "      <td>0.500522</td>\n",
       "      <td>0.606061</td>\n",
       "      <td>0.583333</td>\n",
       "      <td>0.000000</td>\n",
       "      <td>1.000000</td>\n",
       "      <td>1.0</td>\n",
       "      <td>0.782609</td>\n",
       "      <td>0.571429</td>\n",
       "      <td>0.025641</td>\n",
       "      <td>0.875</td>\n",
       "    </tr>\n",
       "    <tr>\n",
       "      <th>3</th>\n",
       "      <td>0.433572</td>\n",
       "      <td>0.484848</td>\n",
       "      <td>0.583333</td>\n",
       "      <td>0.168033</td>\n",
       "      <td>1.000000</td>\n",
       "      <td>0.5</td>\n",
       "      <td>0.710145</td>\n",
       "      <td>0.571429</td>\n",
       "      <td>0.820513</td>\n",
       "      <td>0.375</td>\n",
       "    </tr>\n",
       "    <tr>\n",
       "      <th>4</th>\n",
       "      <td>0.411451</td>\n",
       "      <td>0.454545</td>\n",
       "      <td>0.833333</td>\n",
       "      <td>0.586066</td>\n",
       "      <td>1.000000</td>\n",
       "      <td>1.0</td>\n",
       "      <td>0.956522</td>\n",
       "      <td>0.285714</td>\n",
       "      <td>0.051282</td>\n",
       "      <td>0.875</td>\n",
       "    </tr>\n",
       "  </tbody>\n",
       "</table>\n",
       "</div>"
      ],
      "text/plain": [
       "      price  yearOfRegistration  monthOfRegistration   powerPS  kilometer  \\\n",
       "0  0.478732            0.303030             0.000000  0.614754   0.737172   \n",
       "1  0.410088            0.363636             0.000000  0.614754   1.000000   \n",
       "2  0.500522            0.606061             0.583333  0.000000   1.000000   \n",
       "3  0.433572            0.484848             0.583333  0.168033   1.000000   \n",
       "4  0.411451            0.454545             0.833333  0.586066   1.000000   \n",
       "\n",
       "   gearbox     model  fuelType     brand  vehicleType  \n",
       "0      1.0  0.956522  0.000000  0.051282        0.375  \n",
       "1      1.0  0.869565  0.285714  0.512821        0.750  \n",
       "2      1.0  0.782609  0.571429  0.025641        0.875  \n",
       "3      0.5  0.710145  0.571429  0.820513        0.375  \n",
       "4      1.0  0.956522  0.285714  0.051282        0.875  "
      ]
     },
     "execution_count": 114,
     "metadata": {},
     "output_type": "execute_result"
    }
   ],
   "source": [
    "cars1.head()"
   ]
  },
  {
   "cell_type": "code",
   "execution_count": 115,
   "metadata": {},
   "outputs": [
    {
     "data": {
      "text/plain": [
       "((8314, 9), (8314,))"
      ]
     },
     "execution_count": 115,
     "metadata": {},
     "output_type": "execute_result"
    }
   ],
   "source": [
    "X = cars1.drop(['price'],axis=1)\n",
    "y = cars1['price']\n",
    "X.shape, y.shape"
   ]
  },
  {
   "cell_type": "code",
   "execution_count": 116,
   "metadata": {},
   "outputs": [],
   "source": [
    "from sklearn.model_selection import train_test_split\n",
    "train_X,test_X,train_y,test_y = train_test_split(X,y,test_size = 0.2,random_state = 56)"
   ]
  },
  {
   "cell_type": "code",
   "execution_count": 117,
   "metadata": {},
   "outputs": [],
   "source": [
    "from sklearn import metrics\n",
    "from sklearn.neighbors import KNeighborsRegressor as KNN #for importing the regressor\n",
    "from sklearn.metrics import mean_squared_error as mse #for importing the evaluation metrics to look for errors"
   ]
  },
  {
   "cell_type": "code",
   "execution_count": 118,
   "metadata": {},
   "outputs": [
    {
     "name": "stdout",
     "output_type": "stream",
     "text": [
      "Test MSE  0.013649810749874227\n"
     ]
    }
   ],
   "source": [
    "reg = KNN(n_neighbors = 5) #creating an instance/object of KNN\n",
    "reg.fit(train_X,train_y) #fitting the model on just the TRAIN data\n",
    "test_predict = reg.predict(test_X) #predicting over the test set\n",
    "k = mse(test_predict,test_y)\n",
    "print('Test MSE ',k)"
   ]
  },
  {
   "cell_type": "code",
   "execution_count": 119,
   "metadata": {},
   "outputs": [],
   "source": [
    "def Elbow(k):  #lets automate this process to check mse for different values of k\n",
    "    test_mse = [] #initiating an empty list first\n",
    "    for i in k:  #training model for every value of k\n",
    "        reg = KNN(n_neighbors = i) #again creating an instance of KNN\n",
    "        reg.fit(train_X,train_y) #fitting over the TRAIN data\n",
    "        tmp = reg.predict(test_X) #predicting over the test set using a variable tmp\n",
    "        tmp = mse(tmp,test_y)\n",
    "        test_mse.append(tmp)  #appending the values of mse to empty list test_mse\n",
    "    return test_mse"
   ]
  },
  {
   "cell_type": "code",
   "execution_count": 120,
   "metadata": {},
   "outputs": [],
   "source": [
    "k = range(1,30) #defining k range"
   ]
  },
  {
   "cell_type": "code",
   "execution_count": 121,
   "metadata": {},
   "outputs": [],
   "source": [
    "test = Elbow(k) #calling above defined function"
   ]
  },
  {
   "cell_type": "code",
   "execution_count": 122,
   "metadata": {},
   "outputs": [
    {
     "data": {
      "text/plain": [
       "Text(0.5, 1.0, 'elbow curve for test')"
      ]
     },
     "execution_count": 122,
     "metadata": {},
     "output_type": "execute_result"
    },
    {
     "data": {
      "image/png": "[encoded data removed]",
      "text/plain": [
       "<Figure size 432x288 with 1 Axes>"
      ]
     },
     "metadata": {
      "needs_background": "light"
     },
     "output_type": "display_data"
    }
   ],
   "source": [
    "plt.plot(k,test)\n",
    "plt.xlabel('k neighbors')\n",
    "plt.ylabel('test mean squared error')\n",
    "plt.title('elbow curve for test')"
   ]
  },
  {
   "cell_type": "code",
   "execution_count": 123,
   "metadata": {},
   "outputs": [
    {
     "data": {
      "text/html": [
       "<div>\n",
       "<style scoped>\n",
       "    .dataframe tbody tr th:only-of-type {\n",
       "        vertical-align: middle;\n",
       "    }\n",
       "\n",
       "    .dataframe tbody tr th {\n",
       "        vertical-align: top;\n",
       "    }\n",
       "\n",
       "    .dataframe thead th {\n",
       "        text-align: right;\n",
       "    }\n",
       "</style>\n",
       "<table border=\"1\" class=\"dataframe\">\n",
       "  <thead>\n",
       "    <tr style=\"text-align: right;\">\n",
       "      <th></th>\n",
       "      <th>k</th>\n",
       "      <th>test</th>\n",
       "    </tr>\n",
       "  </thead>\n",
       "  <tbody>\n",
       "    <tr>\n",
       "      <th>7</th>\n",
       "      <td>8</td>\n",
       "      <td>0.013025</td>\n",
       "    </tr>\n",
       "    <tr>\n",
       "      <th>10</th>\n",
       "      <td>11</td>\n",
       "      <td>0.013064</td>\n",
       "    </tr>\n",
       "    <tr>\n",
       "      <th>11</th>\n",
       "      <td>12</td>\n",
       "      <td>0.013090</td>\n",
       "    </tr>\n",
       "    <tr>\n",
       "      <th>8</th>\n",
       "      <td>9</td>\n",
       "      <td>0.013102</td>\n",
       "    </tr>\n",
       "    <tr>\n",
       "      <th>13</th>\n",
       "      <td>14</td>\n",
       "      <td>0.013119</td>\n",
       "    </tr>\n",
       "    <tr>\n",
       "      <th>9</th>\n",
       "      <td>10</td>\n",
       "      <td>0.013124</td>\n",
       "    </tr>\n",
       "    <tr>\n",
       "      <th>14</th>\n",
       "      <td>15</td>\n",
       "      <td>0.013154</td>\n",
       "    </tr>\n",
       "    <tr>\n",
       "      <th>12</th>\n",
       "      <td>13</td>\n",
       "      <td>0.013156</td>\n",
       "    </tr>\n",
       "    <tr>\n",
       "      <th>15</th>\n",
       "      <td>16</td>\n",
       "      <td>0.013183</td>\n",
       "    </tr>\n",
       "    <tr>\n",
       "      <th>6</th>\n",
       "      <td>7</td>\n",
       "      <td>0.013212</td>\n",
       "    </tr>\n",
       "    <tr>\n",
       "      <th>18</th>\n",
       "      <td>19</td>\n",
       "      <td>0.013228</td>\n",
       "    </tr>\n",
       "    <tr>\n",
       "      <th>19</th>\n",
       "      <td>20</td>\n",
       "      <td>0.013228</td>\n",
       "    </tr>\n",
       "    <tr>\n",
       "      <th>20</th>\n",
       "      <td>21</td>\n",
       "      <td>0.013232</td>\n",
       "    </tr>\n",
       "    <tr>\n",
       "      <th>21</th>\n",
       "      <td>22</td>\n",
       "      <td>0.013252</td>\n",
       "    </tr>\n",
       "    <tr>\n",
       "      <th>16</th>\n",
       "      <td>17</td>\n",
       "      <td>0.013258</td>\n",
       "    </tr>\n",
       "    <tr>\n",
       "      <th>17</th>\n",
       "      <td>18</td>\n",
       "      <td>0.013271</td>\n",
       "    </tr>\n",
       "    <tr>\n",
       "      <th>22</th>\n",
       "      <td>23</td>\n",
       "      <td>0.013297</td>\n",
       "    </tr>\n",
       "    <tr>\n",
       "      <th>23</th>\n",
       "      <td>24</td>\n",
       "      <td>0.013353</td>\n",
       "    </tr>\n",
       "    <tr>\n",
       "      <th>5</th>\n",
       "      <td>6</td>\n",
       "      <td>0.013368</td>\n",
       "    </tr>\n",
       "    <tr>\n",
       "      <th>24</th>\n",
       "      <td>25</td>\n",
       "      <td>0.013423</td>\n",
       "    </tr>\n",
       "    <tr>\n",
       "      <th>26</th>\n",
       "      <td>27</td>\n",
       "      <td>0.013443</td>\n",
       "    </tr>\n",
       "    <tr>\n",
       "      <th>25</th>\n",
       "      <td>26</td>\n",
       "      <td>0.013459</td>\n",
       "    </tr>\n",
       "    <tr>\n",
       "      <th>27</th>\n",
       "      <td>28</td>\n",
       "      <td>0.013560</td>\n",
       "    </tr>\n",
       "    <tr>\n",
       "      <th>28</th>\n",
       "      <td>29</td>\n",
       "      <td>0.013579</td>\n",
       "    </tr>\n",
       "    <tr>\n",
       "      <th>4</th>\n",
       "      <td>5</td>\n",
       "      <td>0.013650</td>\n",
       "    </tr>\n",
       "    <tr>\n",
       "      <th>3</th>\n",
       "      <td>4</td>\n",
       "      <td>0.014212</td>\n",
       "    </tr>\n",
       "    <tr>\n",
       "      <th>2</th>\n",
       "      <td>3</td>\n",
       "      <td>0.015263</td>\n",
       "    </tr>\n",
       "    <tr>\n",
       "      <th>1</th>\n",
       "      <td>2</td>\n",
       "      <td>0.016308</td>\n",
       "    </tr>\n",
       "    <tr>\n",
       "      <th>0</th>\n",
       "      <td>1</td>\n",
       "      <td>0.019376</td>\n",
       "    </tr>\n",
       "  </tbody>\n",
       "</table>\n",
       "</div>"
      ],
      "text/plain": [
       "     k      test\n",
       "7    8  0.013025\n",
       "10  11  0.013064\n",
       "11  12  0.013090\n",
       "8    9  0.013102\n",
       "13  14  0.013119\n",
       "9   10  0.013124\n",
       "14  15  0.013154\n",
       "12  13  0.013156\n",
       "15  16  0.013183\n",
       "6    7  0.013212\n",
       "18  19  0.013228\n",
       "19  20  0.013228\n",
       "20  21  0.013232\n",
       "21  22  0.013252\n",
       "16  17  0.013258\n",
       "17  18  0.013271\n",
       "22  23  0.013297\n",
       "23  24  0.013353\n",
       "5    6  0.013368\n",
       "24  25  0.013423\n",
       "26  27  0.013443\n",
       "25  26  0.013459\n",
       "27  28  0.013560\n",
       "28  29  0.013579\n",
       "4    5  0.013650\n",
       "3    4  0.014212\n",
       "2    3  0.015263\n",
       "1    2  0.016308\n",
       "0    1  0.019376"
      ]
     },
     "execution_count": 123,
     "metadata": {},
     "output_type": "execute_result"
    }
   ],
   "source": [
    "d = {'k': k,'test' : test}\n",
    "d = pd.DataFrame(d)\n",
    "d.sort_values(by=['test'])"
   ]
  },
  {
   "cell_type": "code",
   "execution_count": 124,
   "metadata": {},
   "outputs": [
    {
     "name": "stdout",
     "output_type": "stream",
     "text": [
      "Test MSE  0.013024524027104713\n"
     ]
    }
   ],
   "source": [
    "reg = KNN(n_neighbors = 8) #creating instance of KNN and selecting that k value which results in minimum test error\n",
    "reg.fit(train_X,train_y) #fitting over the TRAIN data\n",
    "test_predict = reg.predict(test_X) #predicting over the test set and calculate mse(over test data)\n",
    "k = mse(test_predict, test_y)\n",
    "print('Test MSE ',k)"
   ]
  },
  {
   "cell_type": "code",
   "execution_count": 125,
   "metadata": {},
   "outputs": [
    {
     "data": {
      "text/plain": [
       "Text(0.5, 1.0, 'Predicted vs Actual values')"
      ]
     },
     "execution_count": 125,
     "metadata": {},
     "output_type": "execute_result"
    },
    {
     "data": {
      "image/png": "[encoded data removed]",
      "text/plain": [
       "<Figure size 432x288 with 1 Axes>"
      ]
     },
     "metadata": {
      "needs_background": "light"
     },
     "output_type": "display_data"
    }
   ],
   "source": [
    "fig,ax = plt.subplots()\n",
    "ax.scatter(test_y,test_predict)\n",
    "ax.plot(test_y,test_y,color = 'red')\n",
    "ax.set_xlabel('Actual target values')\n",
    "ax.set_ylabel('predicted target values')\n",
    "ax.set_title('Predicted vs Actual values')"
   ]
  },
  {
   "cell_type": "code",
   "execution_count": 126,
   "metadata": {},
   "outputs": [
    {
     "name": "stdout",
     "output_type": "stream",
     "text": [
      "Mean Absolute Error: 0.08121475535955917\n",
      "Mean Squared Error: 0.013024524027104713\n",
      "Root Mean Squared Error: 0.11412503681096761\n"
     ]
    }
   ],
   "source": [
    "from sklearn import metrics     #checking errors(when we havent given any paramter to decision tree regressor)\n",
    "print('Mean Absolute Error:', metrics.mean_absolute_error(test_y, test_predict))  \n",
    "print('Mean Squared Error:', metrics.mean_squared_error(test_y, test_predict))  \n",
    "print('Root Mean Squared Error:', np.sqrt(metrics.mean_squared_error(test_y, test_predict)))"
   ]
  },
  {
   "cell_type": "markdown",
   "metadata": {},
   "source": [
    "# MODEL 3 - Decision Tree"
   ]
  },
  {
   "cell_type": "code",
   "execution_count": 127,
   "metadata": {},
   "outputs": [],
   "source": [
    "# how to import decision tree regressor\n",
    "from sklearn.tree import DecisionTreeRegressor"
   ]
  },
  {
   "cell_type": "code",
   "execution_count": 128,
   "metadata": {},
   "outputs": [
    {
     "data": {
      "text/plain": [
       "DecisionTreeRegressor(ccp_alpha=0.0, criterion='mse', max_depth=None,\n",
       "                      max_features=None, max_leaf_nodes=None,\n",
       "                      min_impurity_decrease=0.0, min_impurity_split=None,\n",
       "                      min_samples_leaf=1, min_samples_split=2,\n",
       "                      min_weight_fraction_leaf=0.0, presort='deprecated',\n",
       "                      random_state=56, splitter='best')"
      ]
     },
     "execution_count": 128,
     "metadata": {},
     "output_type": "execute_result"
    }
   ],
   "source": [
    "#creating the decision tree function\n",
    "dt_model = DecisionTreeRegressor(random_state = 56)\n",
    "#fitting the model\n",
    "dt_model.fit(train_X, train_y)"
   ]
  },
  {
   "cell_type": "code",
   "execution_count": 129,
   "metadata": {},
   "outputs": [
    {
     "data": {
      "text/plain": [
       "0.9964400100908746"
      ]
     },
     "execution_count": 129,
     "metadata": {},
     "output_type": "execute_result"
    }
   ],
   "source": [
    "#checking the training score\n",
    "dt_model.score(train_X, train_y)"
   ]
  },
  {
   "cell_type": "code",
   "execution_count": 130,
   "metadata": {},
   "outputs": [
    {
     "data": {
      "text/plain": [
       "0.4601534835417378"
      ]
     },
     "execution_count": 130,
     "metadata": {},
     "output_type": "execute_result"
    }
   ],
   "source": [
    "#checking the test score\n",
    "dt_model.score(test_X, test_y)"
   ]
  },
  {
   "cell_type": "code",
   "execution_count": 131,
   "metadata": {},
   "outputs": [
    {
     "data": {
      "text/html": [
       "<div>\n",
       "<style scoped>\n",
       "    .dataframe tbody tr th:only-of-type {\n",
       "        vertical-align: middle;\n",
       "    }\n",
       "\n",
       "    .dataframe tbody tr th {\n",
       "        vertical-align: top;\n",
       "    }\n",
       "\n",
       "    .dataframe thead th {\n",
       "        text-align: right;\n",
       "    }\n",
       "</style>\n",
       "<table border=\"1\" class=\"dataframe\">\n",
       "  <thead>\n",
       "    <tr style=\"text-align: right;\">\n",
       "      <th></th>\n",
       "      <th>Actual</th>\n",
       "      <th>Predicted</th>\n",
       "    </tr>\n",
       "  </thead>\n",
       "  <tbody>\n",
       "    <tr>\n",
       "      <th>3395</th>\n",
       "      <td>0.368788</td>\n",
       "      <td>0.286477</td>\n",
       "    </tr>\n",
       "    <tr>\n",
       "      <th>6417</th>\n",
       "      <td>0.298682</td>\n",
       "      <td>0.273133</td>\n",
       "    </tr>\n",
       "    <tr>\n",
       "      <th>6480</th>\n",
       "      <td>0.524392</td>\n",
       "      <td>0.610261</td>\n",
       "    </tr>\n",
       "    <tr>\n",
       "      <th>6563</th>\n",
       "      <td>0.749855</td>\n",
       "      <td>0.643491</td>\n",
       "    </tr>\n",
       "    <tr>\n",
       "      <th>8254</th>\n",
       "      <td>0.572955</td>\n",
       "      <td>0.454501</td>\n",
       "    </tr>\n",
       "  </tbody>\n",
       "</table>\n",
       "</div>"
      ],
      "text/plain": [
       "        Actual  Predicted\n",
       "3395  0.368788   0.286477\n",
       "6417  0.298682   0.273133\n",
       "6480  0.524392   0.610261\n",
       "6563  0.749855   0.643491\n",
       "8254  0.572955   0.454501"
      ]
     },
     "execution_count": 131,
     "metadata": {},
     "output_type": "execute_result"
    }
   ],
   "source": [
    "y_pred = dt_model.predict(test_X) #just creating a dataframe with actual and predicted test (y) values\n",
    "df=pd.DataFrame({'Actual':test_y, 'Predicted':y_pred})  \n",
    "df .head()"
   ]
  },
  {
   "cell_type": "code",
   "execution_count": 133,
   "metadata": {},
   "outputs": [
    {
     "data": {
      "text/plain": [
       "Text(0.5, 1.0, 'Predicted vs Actual values')"
      ]
     },
     "execution_count": 133,
     "metadata": {},
     "output_type": "execute_result"
    },
    {
     "data": {
      "image/png": "[encoded data removed]",
      "text/plain": [
       "<Figure size 432x288 with 1 Axes>"
      ]
     },
     "metadata": {
      "needs_background": "light"
     },
     "output_type": "display_data"
    }
   ],
   "source": [
    "fig,ax = plt.subplots()\n",
    "ax.scatter(test_y,y_pred)\n",
    "ax.plot(test_y,test_y,color = 'red')\n",
    "ax.set_xlabel('Actual target values')\n",
    "ax.set_ylabel('predicted target values')\n",
    "ax.set_title('Predicted vs Actual values')"
   ]
  },
  {
   "cell_type": "code",
   "execution_count": 134,
   "metadata": {},
   "outputs": [
    {
     "name": "stdout",
     "output_type": "stream",
     "text": [
      "Mean Absolute Error: 0.09082063652566899\n",
      "Mean Squared Error: 0.01859444876058933\n",
      "Root Mean Squared Error: 0.13636146362000273\n"
     ]
    }
   ],
   "source": [
    "from sklearn import metrics     #checking errors(when we havent given any paramter to decision tree regressor)\n",
    "print('Mean Absolute Error:', metrics.mean_absolute_error(test_y, y_pred))  \n",
    "print('Mean Squared Error:', metrics.mean_squared_error(test_y, y_pred))  \n",
    "print('Root Mean Squared Error:', np.sqrt(metrics.mean_squared_error(test_y, y_pred)))"
   ]
  },
  {
   "cell_type": "markdown",
   "metadata": {},
   "source": [
    "# Model 4 - Random forest"
   ]
  },
  {
   "cell_type": "code",
   "execution_count": 135,
   "metadata": {},
   "outputs": [],
   "source": [
    "#Importing random forest classifier \n",
    "from sklearn.ensemble import RandomForestRegressor\n",
    "from sklearn.model_selection import RandomizedSearchCV"
   ]
  },
  {
   "cell_type": "code",
   "execution_count": 136,
   "metadata": {},
   "outputs": [],
   "source": [
    "#creating a random forest instance   #while initializing no parameter\n",
    "rfr = RandomForestRegressor(random_state=56)"
   ]
  },
  {
   "cell_type": "code",
   "execution_count": 137,
   "metadata": {},
   "outputs": [
    {
     "data": {
      "text/plain": [
       "RandomForestRegressor(bootstrap=True, ccp_alpha=0.0, criterion='mse',\n",
       "                      max_depth=None, max_features='auto', max_leaf_nodes=None,\n",
       "                      max_samples=None, min_impurity_decrease=0.0,\n",
       "                      min_impurity_split=None, min_samples_leaf=1,\n",
       "                      min_samples_split=2, min_weight_fraction_leaf=0.0,\n",
       "                      n_estimators=100, n_jobs=None, oob_score=False,\n",
       "                      random_state=56, verbose=0, warm_start=False)"
      ]
     },
     "execution_count": 137,
     "metadata": {},
     "output_type": "execute_result"
    }
   ],
   "source": [
    "#train the model\n",
    "rfr.fit(train_X,train_y)"
   ]
  },
  {
   "cell_type": "code",
   "execution_count": 138,
   "metadata": {},
   "outputs": [
    {
     "data": {
      "text/plain": [
       "0.9542681291885096"
      ]
     },
     "execution_count": 138,
     "metadata": {},
     "output_type": "execute_result"
    }
   ],
   "source": [
    "#score on training data\n",
    "rfr.score(train_X, train_y)"
   ]
  },
  {
   "cell_type": "code",
   "execution_count": 139,
   "metadata": {},
   "outputs": [
    {
     "data": {
      "text/plain": [
       "0.6991980632359852"
      ]
     },
     "execution_count": 139,
     "metadata": {},
     "output_type": "execute_result"
    }
   ],
   "source": [
    "#score on training data\n",
    "rfr.score(test_X, test_y)"
   ]
  },
  {
   "cell_type": "code",
   "execution_count": 140,
   "metadata": {},
   "outputs": [
    {
     "data": {
      "text/plain": [
       "array([0.42996134, 0.05433037, 0.22939192, 0.03023557, 0.01344014,\n",
       "       0.05404128, 0.02457315, 0.0533262 , 0.11070004])"
      ]
     },
     "execution_count": 140,
     "metadata": {},
     "output_type": "execute_result"
    }
   ],
   "source": [
    "#looking at the feature importance\n",
    "rfr.feature_importances_"
   ]
  },
  {
   "cell_type": "code",
   "execution_count": 141,
   "metadata": {},
   "outputs": [
    {
     "data": {
      "text/plain": [
       "yearOfRegistration     0.429961\n",
       "monthOfRegistration    0.054330\n",
       "powerPS                0.229392\n",
       "kilometer              0.030236\n",
       "gearbox                0.013440\n",
       "model                  0.054041\n",
       "fuelType               0.024573\n",
       "brand                  0.053326\n",
       "vehicleType            0.110700\n",
       "dtype: float64"
      ]
     },
     "execution_count": 141,
     "metadata": {},
     "output_type": "execute_result"
    }
   ],
   "source": [
    "#feature importance against each variable\n",
    "pd.Series(rfr.feature_importances_, index=train_X.columns)"
   ]
  },
  {
   "cell_type": "code",
   "execution_count": 142,
   "metadata": {},
   "outputs": [
    {
     "name": "stdout",
     "output_type": "stream",
     "text": [
      "{'n_estimators': [200, 400, 600, 800, 1000, 1200, 1400, 1600, 1800, 2000], 'max_features': ['auto', 'sqrt'], 'max_depth': [10, 20, 30, 40, 50, 60, 70, 80, 90, 100, 110, None], 'min_samples_split': [2, 5, 10], 'min_samples_leaf': [1, 2, 4], 'bootstrap': [True, False]}\n"
     ]
    }
   ],
   "source": [
    "from sklearn.model_selection import RandomizedSearchCV  #initializing parameter now\n",
    "# Number of trees in random forest\n",
    "n_estimators = [int(x) for x in np.linspace(start = 200, stop = 2000, num = 10)]\n",
    "# Number of features to consider at every split\n",
    "max_features = ['auto', 'sqrt']\n",
    "# Maximum number of levels in tree\n",
    "max_depth = [int(x) for x in np.linspace(10, 110, num = 11)]\n",
    "max_depth.append(None)\n",
    "# Minimum number of samples required to split a node\n",
    "min_samples_split = [2, 5, 10]\n",
    "# Minimum number of samples required at each leaf node\n",
    "min_samples_leaf = [1, 2, 4]\n",
    "# Method of selecting samples for training each tree\n",
    "bootstrap = [True, False]\n",
    "# Create the random grid\n",
    "random_grid = {'n_estimators': n_estimators,\n",
    "               'max_features': max_features,\n",
    "               'max_depth': max_depth,\n",
    "               'min_samples_split': min_samples_split,\n",
    "               'min_samples_leaf': min_samples_leaf,\n",
    "               'bootstrap': bootstrap}\n",
    "print(random_grid)"
   ]
  },
  {
   "cell_type": "code",
   "execution_count": 143,
   "metadata": {},
   "outputs": [
    {
     "name": "stdout",
     "output_type": "stream",
     "text": [
      "Fitting 10 folds for each of 6 candidates, totalling 60 fits\n"
     ]
    },
    {
     "name": "stderr",
     "output_type": "stream",
     "text": [
      "[Parallel(n_jobs=-1)]: Using backend LokyBackend with 8 concurrent workers.\n",
      "[Parallel(n_jobs=-1)]: Done  25 tasks      | elapsed:   45.4s\n",
      "[Parallel(n_jobs=-1)]: Done  60 out of  60 | elapsed:  2.6min finished\n"
     ]
    },
    {
     "data": {
      "text/plain": [
       "RandomizedSearchCV(cv=10, error_score=nan,\n",
       "                   estimator=RandomForestRegressor(bootstrap=True,\n",
       "                                                   ccp_alpha=0.0,\n",
       "                                                   criterion='mse',\n",
       "                                                   max_depth=None,\n",
       "                                                   max_features='auto',\n",
       "                                                   max_leaf_nodes=None,\n",
       "                                                   max_samples=None,\n",
       "                                                   min_impurity_decrease=0.0,\n",
       "                                                   min_impurity_split=None,\n",
       "                                                   min_samples_leaf=1,\n",
       "                                                   min_samples_split=2,\n",
       "                                                   min_weight_fraction_leaf=0.0,\n",
       "                                                   n_estimators=100,\n",
       "                                                   n_jobs=None, oob_score=Fal...\n",
       "                   param_distributions={'bootstrap': [True, False],\n",
       "                                        'max_depth': [10, 20, 30, 40, 50, 60,\n",
       "                                                      70, 80, 90, 100, 110,\n",
       "                                                      None],\n",
       "                                        'max_features': ['auto', 'sqrt'],\n",
       "                                        'min_samples_leaf': [1, 2, 4],\n",
       "                                        'min_samples_split': [2, 5, 10],\n",
       "                                        'n_estimators': [200, 400, 600, 800,\n",
       "                                                         1000, 1200, 1400, 1600,\n",
       "                                                         1800, 2000]},\n",
       "                   pre_dispatch='2*n_jobs', random_state=42, refit=True,\n",
       "                   return_train_score=False, scoring=None, verbose=2)"
      ]
     },
     "execution_count": 143,
     "metadata": {},
     "output_type": "execute_result"
    }
   ],
   "source": [
    "# Use the random grid to search for best hyperparameters  #done to check which are best hyperparameters\n",
    "# First create the base model to tune\n",
    "rfr = RandomForestRegressor()\n",
    "# Random search of parameters, using 3 fold cross validation, \n",
    "# search across 100 different combinations, and use all available cores\n",
    "rfr_random = RandomizedSearchCV(estimator = rfr, param_distributions = random_grid,\n",
    "                               n_iter = 6, cv = 10, verbose=2, random_state=42, n_jobs = -1)\n",
    "# Fit the random search model\n",
    "rfr_random.fit(train_X, train_y)"
   ]
  },
  {
   "cell_type": "code",
   "execution_count": 144,
   "metadata": {},
   "outputs": [
    {
     "data": {
      "text/plain": [
       "{'n_estimators': 1400,\n",
       " 'min_samples_split': 5,\n",
       " 'min_samples_leaf': 1,\n",
       " 'max_features': 'sqrt',\n",
       " 'max_depth': 30,\n",
       " 'bootstrap': True}"
      ]
     },
     "execution_count": 144,
     "metadata": {},
     "output_type": "execute_result"
    }
   ],
   "source": [
    "rfr_random.best_params_   #check for best parameter"
   ]
  },
  {
   "cell_type": "code",
   "execution_count": 145,
   "metadata": {},
   "outputs": [
    {
     "data": {
      "text/plain": [
       "0.9072305709049917"
      ]
     },
     "execution_count": 145,
     "metadata": {},
     "output_type": "execute_result"
    }
   ],
   "source": [
    "#score on training data           #reduced slightly but atleast now the training data isn't overfitting\n",
    "rfr_random.score(train_X, train_y)"
   ]
  },
  {
   "cell_type": "code",
   "execution_count": 146,
   "metadata": {},
   "outputs": [
    {
     "data": {
      "text/plain": [
       "0.7261871764685411"
      ]
     },
     "execution_count": 146,
     "metadata": {},
     "output_type": "execute_result"
    }
   ],
   "source": [
    "#score on training data           #improved slightly\n",
    "rfr_random.score(test_X, test_y)"
   ]
  },
  {
   "cell_type": "code",
   "execution_count": 147,
   "metadata": {
    "scrolled": true
   },
   "outputs": [
    {
     "data": {
      "text/html": [
       "<div>\n",
       "<style scoped>\n",
       "    .dataframe tbody tr th:only-of-type {\n",
       "        vertical-align: middle;\n",
       "    }\n",
       "\n",
       "    .dataframe tbody tr th {\n",
       "        vertical-align: top;\n",
       "    }\n",
       "\n",
       "    .dataframe thead th {\n",
       "        text-align: right;\n",
       "    }\n",
       "</style>\n",
       "<table border=\"1\" class=\"dataframe\">\n",
       "  <thead>\n",
       "    <tr style=\"text-align: right;\">\n",
       "      <th></th>\n",
       "      <th>Actual</th>\n",
       "      <th>Predicted</th>\n",
       "    </tr>\n",
       "  </thead>\n",
       "  <tbody>\n",
       "    <tr>\n",
       "      <th>3395</th>\n",
       "      <td>0.368788</td>\n",
       "      <td>0.316339</td>\n",
       "    </tr>\n",
       "    <tr>\n",
       "      <th>6417</th>\n",
       "      <td>0.298682</td>\n",
       "      <td>0.258722</td>\n",
       "    </tr>\n",
       "    <tr>\n",
       "      <th>6480</th>\n",
       "      <td>0.524392</td>\n",
       "      <td>0.521135</td>\n",
       "    </tr>\n",
       "    <tr>\n",
       "      <th>6563</th>\n",
       "      <td>0.749855</td>\n",
       "      <td>0.630352</td>\n",
       "    </tr>\n",
       "    <tr>\n",
       "      <th>8254</th>\n",
       "      <td>0.572955</td>\n",
       "      <td>0.467047</td>\n",
       "    </tr>\n",
       "  </tbody>\n",
       "</table>\n",
       "</div>"
      ],
      "text/plain": [
       "        Actual  Predicted\n",
       "3395  0.368788   0.316339\n",
       "6417  0.298682   0.258722\n",
       "6480  0.524392   0.521135\n",
       "6563  0.749855   0.630352\n",
       "8254  0.572955   0.467047"
      ]
     },
     "execution_count": 147,
     "metadata": {},
     "output_type": "execute_result"
    }
   ],
   "source": [
    "y_predict = rfr_random.predict(test_X)\n",
    "DT=pd.DataFrame({'Actual':test_y, 'Predicted':y_predict})  \n",
    "DT.head()"
   ]
  },
  {
   "cell_type": "code",
   "execution_count": 148,
   "metadata": {},
   "outputs": [
    {
     "data": {
      "text/plain": [
       "Text(0.5, 1.0, 'Predicted vs Actual values')"
      ]
     },
     "execution_count": 148,
     "metadata": {},
     "output_type": "execute_result"
    },
    {
     "data": {
      "image/png": "[encoded data removed]",
      "text/plain": [
       "<Figure size 432x288 with 1 Axes>"
      ]
     },
     "metadata": {
      "needs_background": "light"
     },
     "output_type": "display_data"
    }
   ],
   "source": [
    "fig,ax = plt.subplots()\n",
    "ax.scatter(test_y,y_predict)\n",
    "ax.plot(test_y,test_y,color = 'red')\n",
    "ax.set_xlabel('Actual target values')\n",
    "ax.set_ylabel('predicted target values')\n",
    "ax.set_title('Predicted vs Actual values')"
   ]
  },
  {
   "cell_type": "code",
   "execution_count": 149,
   "metadata": {},
   "outputs": [
    {
     "name": "stdout",
     "output_type": "stream",
     "text": [
      "Mean Absolute Error: 0.06466136151202105\n",
      "Mean Squared Error: 0.009431196389949544\n",
      "Root Mean Squared Error: 0.09711434698307735\n"
     ]
    }
   ],
   "source": [
    "from sklearn import metrics     #checking errors for new case(when we had manually defined some parameter values)\n",
    "print('Mean Absolute Error:', metrics.mean_absolute_error(test_y, y_predict))  \n",
    "print('Mean Squared Error:', metrics.mean_squared_error(test_y, y_predict))  \n",
    "print('Root Mean Squared Error:', np.sqrt(metrics.mean_squared_error(test_y, y_predict)))"
   ]
  }
 ],
 "metadata": {
  "kernelspec": {
   "display_name": "Python 3",
   "language": "python",
   "name": "python3"
  },
  "language_info": {
   "codemirror_mode": {
    "name": "ipython",
    "version": 3
   },
   "file_extension": ".py",
   "mimetype": "text/x-python",
   "name": "python",
   "nbconvert_exporter": "python",
   "pygments_lexer": "ipython3",
   "version": "3.7.6"
  }
 },
 "nbformat": 4,
 "nbformat_minor": 4
}
